{
 "cells": [
  {
   "cell_type": "markdown",
   "metadata": {},
   "source": [
    "Document Classification - Multi Class Classification"
   ]
  },
  {
   "cell_type": "code",
   "execution_count": 1,
   "metadata": {},
   "outputs": [],
   "source": [
    "import textract\n",
    "import re"
   ]
  },
  {
   "cell_type": "code",
   "execution_count": 2,
   "metadata": {},
   "outputs": [],
   "source": [
    "#Load the Internal Documents\n",
    "#Document 1\n",
    "text1 = textract.process(\"C:/Users/pondh/Desktop/data/Files/Internal/dwh_tutorial.docx\")\n",
    "text1 = str(text1)\n",
    "#text1 = text1.str.re.sub(r'\\n', ' ')\n",
    "#text1 = re.sub(r'\\n', ' ', text1)\n",
    "text1 = re.sub(r'\\\\n', ' ', text1)\n",
    "text1 = re.sub(r'\\n', ' ', text1)\n",
    "text1 = re.sub(r'\\r', ' ', text1)\n",
    "text1 = re.sub(r'\\\\t', ' ', text1)\n",
    "text1 = re.sub(r'\\\\xe2', ' ', text1)\n",
    "text1 = re.sub(r'\\\\x80', ' ', text1)\n",
    "text1 = re.sub(r'\\\\xa6', ' ', text1)\n",
    "text1 = re.sub(r'\\\\x80', ' ', text1)\n",
    "text1 = re.sub(r'\\\\x9', ' ', text1)\n",
    "text1 = re.sub(r'\\\\x9d', ' ', text1)\n",
    "text1 = re.sub(r'\\\\x94', ' ', text1)\n",
    "text1 = re.sub(r'\\\\x99s', ' ', text1)\n",
    "text1 = re.sub(r'\\\\x93', ' ', text1)\n",
    "text1 = re.sub(r'\\\\xc2', ' ', text1)\n",
    "text1 = re.sub(r'\\\\xa0', ' ', text1)\n",
    "text1 = re.sub(r'\\\\xef', ' ', text1)\n",
    "text1 = re.sub(r'\\\\x83', ' ', text1)\n",
    "text1 = re.sub(r'\\\\xa3', ' ', text1)\n",
    "text1 = re.sub(r'\\\\x82', ' ', text1)\n",
    "text1 = re.sub(r'\\\\xb7', ' ', text1)"
   ]
  },
  {
   "cell_type": "code",
   "execution_count": 3,
   "metadata": {},
   "outputs": [],
   "source": [
    "#Document 2\n",
    "text2 = textract.process(\"C:/Users/pondh/Desktop/data/Files/Internal/Metadata Competency_Training_Material1.docx\")\n",
    "text2 = str(text2)\n",
    "text2 = re.sub(r'\\\\n', ' ', text2)\n",
    "text2 = re.sub(r'\\n', ' ', text2)\n",
    "text2 = re.sub(r'\\r', ' ', text2)\n",
    "text2 = re.sub(r'\\\\t', ' ', text2)\n",
    "text2 = re.sub(r'\\\\xe2', ' ', text2)\n",
    "text2 = re.sub(r'\\\\x80', ' ', text2)\n",
    "text2 = re.sub(r'\\\\xa6', ' ', text2)\n",
    "text2 = re.sub(r'\\\\x80', ' ', text2)\n",
    "text2 = re.sub(r'\\\\x9', ' ', text2)\n",
    "text2 = re.sub(r'\\\\x9d', ' ', text2)\n",
    "text2 = re.sub(r'\\\\x94', ' ', text2)\n",
    "text2 = re.sub(r'\\\\x99s', ' ', text2)\n",
    "text2 = re.sub(r'\\\\x93', ' ', text2)\n",
    "text2 = re.sub(r'\\\\xc2', ' ', text2)\n",
    "text2 = re.sub(r'\\\\xa0', ' ', text2)\n",
    "text2 = re.sub(r'\\\\xef', ' ', text2)\n",
    "text2 = re.sub(r'\\\\x83', ' ', text2)\n",
    "text2 = re.sub(r'\\\\xa3', ' ', text2)\n",
    "text2 = re.sub(r'\\\\x82', ' ', text2)\n",
    "text2 = re.sub(r'\\\\xb7', ' ', text2)"
   ]
  },
  {
   "cell_type": "code",
   "execution_count": 4,
   "metadata": {},
   "outputs": [],
   "source": [
    "#Document 3\n",
    "text3 = textract.process(\"C:/Users/pondh/Desktop/data/Files/Internal/Metadata Competency_Training_Material2.docx\")\n",
    "text3 = str(text3)\n",
    "text3 = re.sub(r'\\\\n', ' ', text3)\n",
    "text3 = re.sub(r'\\n', ' ', text3)\n",
    "text3 = re.sub(r'\\r', ' ', text3)\n",
    "text3 = re.sub(r'\\\\t', ' ', text3)\n",
    "text3 = re.sub(r'\\\\xe2', ' ', text3)\n",
    "text3 = re.sub(r'\\\\x80', ' ', text3)\n",
    "text3 = re.sub(r'\\\\xa6', ' ', text3)\n",
    "text3 = re.sub(r'\\\\x80', ' ', text3)\n",
    "text3 = re.sub(r'\\\\x9', ' ', text3)\n",
    "text3 = re.sub(r'\\\\x9d', ' ', text3)\n",
    "text3 = re.sub(r'\\\\x94', ' ', text3)\n",
    "text3 = re.sub(r'\\\\x99s', ' ', text3)\n",
    "text3 = re.sub(r'\\\\x93', ' ', text3)\n",
    "text3 = re.sub(r'\\\\xc2', ' ', text3)\n",
    "text3 = re.sub(r'\\\\xa0', ' ', text3)\n",
    "text3 = re.sub(r'\\\\xef', ' ', text3)\n",
    "text3 = re.sub(r'\\\\x83', ' ', text3)\n",
    "text3 = re.sub(r'\\\\xa3', ' ', text3)\n",
    "text3 = re.sub(r'\\\\x82', ' ', text3)\n",
    "text3 = re.sub(r'\\\\xb7', ' ', text3)"
   ]
  },
  {
   "cell_type": "code",
   "execution_count": 5,
   "metadata": {},
   "outputs": [],
   "source": [
    "text4 = textract.process(\"C:/Users/pondh/Desktop/data/Files/Internal/Metadata Competency_Training_Material3.docx\")\n",
    "text4 = str(text4)\n",
    "text4 = re.sub(r'\\\\n', ' ', text4)\n",
    "text4 = re.sub(r'\\n', ' ', text4)\n",
    "text4 = re.sub(r'\\r', ' ', text4)\n",
    "text4 = re.sub(r'\\\\t', ' ', text4)\n",
    "text4 = re.sub(r'\\\\xe2', ' ', text4)\n",
    "text4 = re.sub(r'\\\\x80', ' ', text4)\n",
    "text4 = re.sub(r'\\\\xa6', ' ', text4)\n",
    "text4 = re.sub(r'\\\\x80', ' ', text4)\n",
    "text4 = re.sub(r'\\\\x9', ' ', text4)\n",
    "text4 = re.sub(r'\\\\x9d', ' ', text4)\n",
    "text4 = re.sub(r'\\\\x94', ' ', text4)\n",
    "text4 = re.sub(r'\\\\x99s', ' ', text4)\n",
    "text4 = re.sub(r'\\\\x93', ' ', text4)\n",
    "text4 = re.sub(r'\\\\xc2', ' ', text4)\n",
    "text4 = re.sub(r'\\\\xa0', ' ', text4)\n",
    "text4 = re.sub(r'\\\\xef', ' ', text4)\n",
    "text4 = re.sub(r'\\\\x83', ' ', text4)\n",
    "text4 = re.sub(r'\\\\xa3', ' ', text4)\n",
    "text4 = re.sub(r'\\\\x82', ' ', text4)\n",
    "text4 = re.sub(r'\\\\xb7', ' ', text4)"
   ]
  },
  {
   "cell_type": "code",
   "execution_count": 6,
   "metadata": {},
   "outputs": [],
   "source": [
    "text5 = textract.process(\"C:/Users/pondh/Desktop/data/Files/Internal/Metadata Competency_Training_Material4.docx\")\n",
    "text5 = str(text5)\n",
    "text5 = re.sub(r'\\\\n', ' ', text5)\n",
    "text5 = re.sub(r'\\n', ' ', text5)\n",
    "text5 = re.sub(r'\\r', ' ', text5)\n",
    "text5 = re.sub(r'\\\\t', ' ', text5)\n",
    "text5 = re.sub(r'\\\\xe2', ' ', text5)\n",
    "text5 = re.sub(r'\\\\x80', ' ', text5)\n",
    "text5 = re.sub(r'\\\\xa6', ' ', text5)\n",
    "text5 = re.sub(r'\\\\x80', ' ', text5)\n",
    "text5 = re.sub(r'\\\\x9', ' ', text5)\n",
    "text5 = re.sub(r'\\\\x9d', ' ', text5)\n",
    "text5 = re.sub(r'\\\\x94', ' ', text5)\n",
    "text5 = re.sub(r'\\\\x99s', ' ', text5)\n",
    "text5 = re.sub(r'\\\\x93', ' ', text5)\n",
    "text5 = re.sub(r'\\\\xc2', ' ', text5)\n",
    "text5 = re.sub(r'\\\\xa0', ' ', text5)\n",
    "text5 = re.sub(r'\\\\xef', ' ', text5)\n",
    "text5 = re.sub(r'\\\\x83', ' ', text5)\n",
    "text5 = re.sub(r'\\\\xa3', ' ', text5)\n",
    "text5 = re.sub(r'\\\\x82', ' ', text5)\n",
    "text5 = re.sub(r'\\\\xb7', ' ', text5)"
   ]
  },
  {
   "cell_type": "code",
   "execution_count": 7,
   "metadata": {},
   "outputs": [],
   "source": [
    "text6 = textract.process(\"C:/Users/pondh/Desktop/data/Files/Internal/Metadata Competency_Training_Material5.docx\")\n",
    "text6 = str(text6)\n",
    "text6 = re.sub(r'\\\\n', ' ', text6)\n",
    "text6 = re.sub(r'\\n', ' ', text6)\n",
    "text6 = re.sub(r'\\r', ' ', text6)\n",
    "text6 = re.sub(r'\\\\t', ' ', text6)\n",
    "text6 = re.sub(r'\\\\xe2', ' ', text6)\n",
    "text6 = re.sub(r'\\\\x80', ' ', text6)\n",
    "text6 = re.sub(r'\\\\xa6', ' ', text6)\n",
    "text6 = re.sub(r'\\\\x80', ' ', text6)\n",
    "text6 = re.sub(r'\\\\x9', ' ', text6)\n",
    "text6 = re.sub(r'\\\\x9d', ' ', text6)\n",
    "text6 = re.sub(r'\\\\x94', ' ', text6)\n",
    "text6 = re.sub(r'\\\\x99s', ' ', text6)\n",
    "text6 = re.sub(r'\\\\x93', ' ', text6)\n",
    "text6 = re.sub(r'\\\\xc2', ' ', text6)\n",
    "text6 = re.sub(r'\\\\xa0', ' ', text6)\n",
    "text6 = re.sub(r'\\\\xef', ' ', text6)\n",
    "text6 = re.sub(r'\\\\x83', ' ', text6)\n",
    "text6 = re.sub(r'\\\\xa3', ' ', text6)\n",
    "text6 = re.sub(r'\\\\x82', ' ', text6)\n",
    "text6 = re.sub(r'\\\\xb7', ' ', text6)"
   ]
  },
  {
   "cell_type": "code",
   "execution_count": 8,
   "metadata": {},
   "outputs": [],
   "source": [
    "text7 = textract.process(\"C:/Users/pondh/Desktop/data/Files/Internal/python_tutorial.docx\")\n",
    "text7 = str(text7)\n",
    "text7 = re.sub(r'\\\\n', ' ', text7)\n",
    "text7 = re.sub(r'\\n', ' ', text7)\n",
    "text7 = re.sub(r'\\r', ' ', text7)\n",
    "text7 = re.sub(r'\\\\t', ' ', text7)\n",
    "text7 = re.sub(r'\\\\xe2', ' ', text7)\n",
    "text7 = re.sub(r'\\\\x80', ' ', text7)\n",
    "text7 = re.sub(r'\\\\xa6', ' ', text7)\n",
    "text7 = re.sub(r'\\\\x80', ' ', text7)\n",
    "text7 = re.sub(r'\\\\x9', ' ', text7)\n",
    "text7 = re.sub(r'\\\\x9d', ' ', text7)\n",
    "text7 = re.sub(r'\\\\x94', ' ', text7)\n",
    "text7 = re.sub(r'\\\\x99s', ' ', text7)\n",
    "text7 = re.sub(r'\\\\x93', ' ', text7)\n",
    "text7 = re.sub(r'\\\\xc2', ' ', text7)\n",
    "text7 = re.sub(r'\\\\xa0', ' ', text7)\n",
    "text7 = re.sub(r'\\\\xef', ' ', text7)\n",
    "text7 = re.sub(r'\\\\x83', ' ', text7)\n",
    "text7 = re.sub(r'\\\\xa3', ' ', text7)\n",
    "text7 = re.sub(r'\\\\x82', ' ', text7)\n",
    "text7 = re.sub(r'\\\\xb7', ' ', text7)"
   ]
  },
  {
   "cell_type": "code",
   "execution_count": 9,
   "metadata": {},
   "outputs": [],
   "source": [
    "text8 = textract.process(\"C:/Users/pondh/Desktop/data/Files/Internal/Tableau-data-trends-2020.docx\")\n",
    "text8 = str(text8)\n",
    "text8 = re.sub(r'\\\\n', ' ', text8)\n",
    "text8 = re.sub(r'\\n', ' ', text8)\n",
    "text8 = re.sub(r'\\r', ' ', text8)\n",
    "text8 = re.sub(r'\\\\t', ' ', text8)\n",
    "text8 = re.sub(r'\\\\xe2', ' ', text8)\n",
    "text8 = re.sub(r'\\\\x80', ' ', text8)\n",
    "text8 = re.sub(r'\\\\xa6', ' ', text8)\n",
    "text8 = re.sub(r'\\\\x80', ' ', text8)\n",
    "text8 = re.sub(r'\\\\x9', ' ', text8)\n",
    "text8 = re.sub(r'\\\\x9d', ' ', text8)\n",
    "text8 = re.sub(r'\\\\x94', ' ', text8)\n",
    "text8 = re.sub(r'\\\\x99s', ' ', text8)\n",
    "text8 = re.sub(r'\\\\x93', ' ', text8)\n",
    "text8 = re.sub(r'\\\\xc2', ' ', text8)\n",
    "text8 = re.sub(r'\\\\xa0', ' ', text8)\n",
    "text8 = re.sub(r'\\\\xef', ' ', text8)\n",
    "text8 = re.sub(r'\\\\x83', ' ', text8)\n",
    "text8 = re.sub(r'\\\\xa3', ' ', text8)\n",
    "text8 = re.sub(r'\\\\x82', ' ', text8)\n",
    "text8 = re.sub(r'\\\\xb7', ' ', text8)"
   ]
  },
  {
   "cell_type": "code",
   "execution_count": 10,
   "metadata": {},
   "outputs": [],
   "source": [
    "text9 = textract.process(\"C:/Users/pondh/Desktop/data/Files/Public/2020_Annual_Report_Microsoft1.docx\")\n",
    "text9 = str(text9)\n",
    "text9 = re.sub(r'\\\\n', ' ', text9)\n",
    "text9 = re.sub(r'\\n', ' ', text9)\n",
    "text9 = re.sub(r'\\r', ' ', text9)\n",
    "text9 = re.sub(r'\\\\t', ' ', text9)\n",
    "text9 = re.sub(r'\\\\xe2', ' ', text9)\n",
    "text9 = re.sub(r'\\\\x80', ' ', text9)\n",
    "text9 = re.sub(r'\\\\xa6', ' ', text9)\n",
    "text9 = re.sub(r'\\\\x80', ' ', text9)\n",
    "text9 = re.sub(r'\\\\x9', ' ', text9)\n",
    "text9 = re.sub(r'\\\\x9d', ' ', text9)\n",
    "text9 = re.sub(r'\\\\x94', ' ', text9)\n",
    "text9 = re.sub(r'\\\\x99s', ' ', text9)\n",
    "text9 = re.sub(r'\\\\x93', ' ', text9)\n",
    "text9 = re.sub(r'\\\\xc2', ' ', text9)\n",
    "text9 = re.sub(r'\\\\xa0', ' ', text9)\n",
    "text9 = re.sub(r'\\\\xef', ' ', text9)\n",
    "text9 = re.sub(r'\\\\x83', ' ', text9)\n",
    "text9 = re.sub(r'\\\\xa3', ' ', text9)\n",
    "text9 = re.sub(r'\\\\x82', ' ', text9)\n",
    "text9 = re.sub(r'\\\\xb7', ' ', text9)"
   ]
  },
  {
   "cell_type": "code",
   "execution_count": 11,
   "metadata": {},
   "outputs": [],
   "source": [
    "text10 = textract.process(\"C:/Users/pondh/Desktop/data/Files/Public/2020_Annual_Report_Microsoft2.docx\")\n",
    "text10 = str(text10)\n",
    "text10 = re.sub(r'\\\\n', ' ', text10)\n",
    "text10 = re.sub(r'\\n', ' ', text10)\n",
    "text10 = re.sub(r'\\r', ' ', text10)\n",
    "text10 = re.sub(r'\\\\t', ' ', text10)\n",
    "text10 = re.sub(r'\\\\xe2', ' ', text10)\n",
    "text10 = re.sub(r'\\\\x80', ' ', text10)\n",
    "text10 = re.sub(r'\\\\xa6', ' ', text10)\n",
    "text10 = re.sub(r'\\\\x80', ' ', text10)\n",
    "text10 = re.sub(r'\\\\x9', ' ', text10)\n",
    "text10 = re.sub(r'\\\\x9d', ' ', text10)\n",
    "text10 = re.sub(r'\\\\x94', ' ', text10)\n",
    "text10 = re.sub(r'\\\\x99s', ' ', text10)\n",
    "text10 = re.sub(r'\\\\x93', ' ', text10)\n",
    "text10 = re.sub(r'\\\\xc2', ' ', text10)\n",
    "text10 = re.sub(r'\\\\xa0', ' ', text10)\n",
    "text10 = re.sub(r'\\\\xef', ' ', text10)\n",
    "text10 = re.sub(r'\\\\x83', ' ', text10)\n",
    "text10 = re.sub(r'\\\\xa3', ' ', text10)\n",
    "text10 = re.sub(r'\\\\x82', ' ', text10)\n",
    "text10 = re.sub(r'\\\\xb7', ' ', text10)"
   ]
  },
  {
   "cell_type": "code",
   "execution_count": 12,
   "metadata": {},
   "outputs": [],
   "source": [
    "text11 = textract.process(\"C:/Users/pondh/Desktop/data/Files/Public/2020_Annual_Report_Microsoft3.docx\")\n",
    "text11 = str(text11)\n",
    "text11 = re.sub(r'\\\\n', ' ', text11)\n",
    "text11 = re.sub(r'\\n', ' ', text11)\n",
    "text11 = re.sub(r'\\r', ' ', text11)\n",
    "text11 = re.sub(r'\\\\t', ' ', text11)\n",
    "text11 = re.sub(r'\\\\xe2', ' ', text11)\n",
    "text11 = re.sub(r'\\\\x80', ' ', text11)\n",
    "text11 = re.sub(r'\\\\xa6', ' ', text11)\n",
    "text11 = re.sub(r'\\\\x80', ' ', text11)\n",
    "text11 = re.sub(r'\\\\x9', ' ', text11)\n",
    "text11 = re.sub(r'\\\\x9d', ' ', text11)\n",
    "text11 = re.sub(r'\\\\x94', ' ', text11)\n",
    "text11 = re.sub(r'\\\\x99s', ' ', text11)\n",
    "text11 = re.sub(r'\\\\x93', ' ', text11)\n",
    "text11 = re.sub(r'\\\\xc2', ' ', text11)\n",
    "text11 = re.sub(r'\\\\xa0', ' ', text11)\n",
    "text11 = re.sub(r'\\\\xef', ' ', text11)\n",
    "text11 = re.sub(r'\\\\x83', ' ', text11)\n",
    "text11 = re.sub(r'\\\\xa3', ' ', text11)\n",
    "text11 = re.sub(r'\\\\x82', ' ', text11)\n",
    "text11 = re.sub(r'\\\\xb7', ' ', text11)"
   ]
  },
  {
   "cell_type": "code",
   "execution_count": 13,
   "metadata": {},
   "outputs": [],
   "source": [
    "text12 = textract.process(\"C:/Users/pondh/Desktop/data/Files/Public/2020_Annual_Report_Microsoft4.docx\")\n",
    "text12 = str(text12)\n",
    "text12 = re.sub(r'\\\\n', ' ', text12)\n",
    "text12 = re.sub(r'\\n', ' ', text12)\n",
    "text12 = re.sub(r'\\r', ' ', text12)\n",
    "text12 = re.sub(r'\\\\t', ' ', text12)\n",
    "text12 = re.sub(r'\\\\xe2', ' ', text12)\n",
    "text12 = re.sub(r'\\\\x80', ' ', text12)\n",
    "text12 = re.sub(r'\\\\xa6', ' ', text12)\n",
    "text12 = re.sub(r'\\\\x80', ' ', text12)\n",
    "text12 = re.sub(r'\\\\x9', ' ', text12)\n",
    "text12 = re.sub(r'\\\\x9d', ' ', text12)\n",
    "text12 = re.sub(r'\\\\x94', ' ', text12)\n",
    "text12 = re.sub(r'\\\\x99s', ' ', text12)\n",
    "text12 = re.sub(r'\\\\x93', ' ', text12)\n",
    "text12 = re.sub(r'\\\\xc2', ' ', text12)\n",
    "text12 = re.sub(r'\\\\xa0', ' ', text12)\n",
    "text12 = re.sub(r'\\\\xef', ' ', text12)\n",
    "text12 = re.sub(r'\\\\x83', ' ', text12)\n",
    "text12 = re.sub(r'\\\\xa3', ' ', text12)\n",
    "text12 = re.sub(r'\\\\x82', ' ', text12)\n",
    "text12 = re.sub(r'\\\\xb7', ' ', text12)"
   ]
  },
  {
   "cell_type": "code",
   "execution_count": 14,
   "metadata": {},
   "outputs": [],
   "source": [
    "text13 = textract.process(\"C:/Users/pondh/Desktop/data/Files/Public/2021Q2_alphabet_earnings_release.docx\")\n",
    "text13 = str(text13)\n",
    "text13 = re.sub(r'\\\\n', ' ', text13)\n",
    "text13 = re.sub(r'\\n', ' ', text13)\n",
    "text13 = re.sub(r'\\r', ' ', text13)\n",
    "text13 = re.sub(r'\\\\t', ' ', text13)\n",
    "text13 = re.sub(r'\\\\xe2', ' ', text13)\n",
    "text13 = re.sub(r'\\\\x80', ' ', text13)\n",
    "text13 = re.sub(r'\\\\xa6', ' ', text13)\n",
    "text13 = re.sub(r'\\\\x80', ' ', text13)\n",
    "text13 = re.sub(r'\\\\x9', ' ', text13)\n",
    "text13 = re.sub(r'\\\\x9d', ' ', text13)\n",
    "text13 = re.sub(r'\\\\x94', ' ', text13)\n",
    "text13 = re.sub(r'\\\\x99s', ' ', text13)\n",
    "text13 = re.sub(r'\\\\x93', ' ', text13)\n",
    "text13 = re.sub(r'\\\\xc2', ' ', text13)\n",
    "text13 = re.sub(r'\\\\xa0', ' ', text13)\n",
    "text13 = re.sub(r'\\\\xef', ' ', text13)\n",
    "text13 = re.sub(r'\\\\x83', ' ', text13)\n",
    "text13 = re.sub(r'\\\\xa3', ' ', text13)\n",
    "text13 = re.sub(r'\\\\x82', ' ', text13)\n",
    "text13 = re.sub(r'\\\\xb7', ' ', text13)"
   ]
  },
  {
   "cell_type": "code",
   "execution_count": 15,
   "metadata": {},
   "outputs": [],
   "source": [
    "text14 = textract.process(\"C:/Users/pondh/Desktop/data/Files/Public/FY21_Q2_Apple Inc.docx\")\n",
    "text14 = str(text14)\n",
    "text14 = re.sub(r'\\\\n', ' ', text14)\n",
    "text14 = re.sub(r'\\n', ' ', text14)\n",
    "text14 = re.sub(r'\\r', ' ', text14)\n",
    "text14 = re.sub(r'\\\\t', ' ', text14)\n",
    "text14 = re.sub(r'\\\\xe2', ' ', text14)\n",
    "text14 = re.sub(r'\\\\x80', ' ', text14)\n",
    "text14 = re.sub(r'\\\\xa6', ' ', text14)\n",
    "text14 = re.sub(r'\\\\x80', ' ', text14)\n",
    "text14 = re.sub(r'\\\\x9', ' ', text14)\n",
    "text14 = re.sub(r'\\\\x9d', ' ', text14)\n",
    "text14 = re.sub(r'\\\\x94', ' ', text14)\n",
    "text14 = re.sub(r'\\\\x99s', ' ', text14)\n",
    "text14 = re.sub(r'\\\\x93', ' ', text14)\n",
    "text14 = re.sub(r'\\\\xc2', ' ', text14)\n",
    "text14 = re.sub(r'\\\\xa0', ' ', text14)\n",
    "text14 = re.sub(r'\\\\xef', ' ', text14)\n",
    "text14 = re.sub(r'\\\\x83', ' ', text14)\n",
    "text14 = re.sub(r'\\\\xa3', ' ', text14)\n",
    "text14 = re.sub(r'\\\\x82', ' ', text14)\n",
    "text14 = re.sub(r'\\\\xb7', ' ', text14)"
   ]
  },
  {
   "cell_type": "code",
   "execution_count": 16,
   "metadata": {},
   "outputs": [],
   "source": [
    "text15 = textract.process(\"C:/Users/pondh/Desktop/data/Files/Public/PFIZER_VACCINE_PRESS_RELEASE.docx\")\n",
    "text15 = str(text15)\n",
    "text15 = re.sub(r'\\\\n', ' ', text15)\n",
    "text15 = re.sub(r'\\n', ' ', text15)\n",
    "text15 = re.sub(r'\\r', ' ', text15)\n",
    "text15 = re.sub(r'\\\\t', ' ', text15)\n",
    "text15 = re.sub(r'\\\\xe2', ' ', text15)\n",
    "text15 = re.sub(r'\\\\x80', ' ', text15)\n",
    "text15 = re.sub(r'\\\\xa6', ' ', text15)\n",
    "text15 = re.sub(r'\\\\x80', ' ', text15)\n",
    "text15 = re.sub(r'\\\\x9', ' ', text15)\n",
    "text15 = re.sub(r'\\\\x9d', ' ', text15)\n",
    "text15 = re.sub(r'\\\\x94', ' ', text15)\n",
    "text15 = re.sub(r'\\\\x99s', ' ', text15)\n",
    "text15 = re.sub(r'\\\\x93', ' ', text15)\n",
    "text15 = re.sub(r'\\\\xc2', ' ', text15)\n",
    "text15 = re.sub(r'\\\\xa0', ' ', text15)\n",
    "text15 = re.sub(r'\\\\xef', ' ', text15)\n",
    "text15 = re.sub(r'\\\\x83', ' ', text15)\n",
    "text15 = re.sub(r'\\\\xa3', ' ', text15)\n",
    "text15 = re.sub(r'\\\\x82', ' ', text15)\n",
    "text15 = re.sub(r'\\\\xb7', ' ', text15)"
   ]
  },
  {
   "cell_type": "code",
   "execution_count": 17,
   "metadata": {},
   "outputs": [],
   "source": [
    "text16 = textract.process(\"C:/Users/pondh/Desktop/data/Files/Public/Q2-21-Pfizer-PFE-Earnings-Release1.docx\")\n",
    "text16 = str(text16)\n",
    "text16 = re.sub(r'\\\\n', ' ', text16)\n",
    "text16 = re.sub(r'\\n', ' ', text16)\n",
    "text16 = re.sub(r'\\r', ' ', text16)\n",
    "text16 = re.sub(r'\\\\t', ' ', text16)\n",
    "text16 = re.sub(r'\\\\xe2', ' ', text16)\n",
    "text16 = re.sub(r'\\\\x80', ' ', text16)\n",
    "text16 = re.sub(r'\\\\xa6', ' ', text16)\n",
    "text16 = re.sub(r'\\\\x80', ' ', text16)\n",
    "text16 = re.sub(r'\\\\x9', ' ', text16)\n",
    "text16 = re.sub(r'\\\\x9d', ' ', text16)\n",
    "text16 = re.sub(r'\\\\x94', ' ', text16)\n",
    "text16 = re.sub(r'\\\\x99s', ' ', text16)\n",
    "text16 = re.sub(r'\\\\x93', ' ', text16)\n",
    "text16 = re.sub(r'\\\\xc2', ' ', text16)\n",
    "text16 = re.sub(r'\\\\xa0', ' ', text16)\n",
    "text16 = re.sub(r'\\\\xef', ' ', text16)\n",
    "text16 = re.sub(r'\\\\x83', ' ', text16)\n",
    "text16 = re.sub(r'\\\\xa3', ' ', text16)\n",
    "text16 = re.sub(r'\\\\x82', ' ', text16)\n",
    "text16 = re.sub(r'\\\\xb7', ' ', text16)"
   ]
  },
  {
   "cell_type": "code",
   "execution_count": 18,
   "metadata": {},
   "outputs": [],
   "source": [
    "text17 = textract.process(\"C:/Users/pondh/Desktop/data/Files/Public/Q2-21-Pfizer-PFE-Earnings-Release2.docx\")\n",
    "text17 = str(text17)\n",
    "text17 = re.sub(r'\\\\n', ' ', text17)\n",
    "text17 = re.sub(r'\\n', ' ', text17)\n",
    "text17 = re.sub(r'\\r', ' ', text17)\n",
    "text17 = re.sub(r'\\\\t', ' ', text17)\n",
    "text17 = re.sub(r'\\\\xe2', ' ', text17)\n",
    "text17 = re.sub(r'\\\\x80', ' ', text17)\n",
    "text17 = re.sub(r'\\\\xa6', ' ', text17)\n",
    "text17 = re.sub(r'\\\\x80', ' ', text17)\n",
    "text17 = re.sub(r'\\\\x9', ' ', text17)\n",
    "text17 = re.sub(r'\\\\x9d', ' ', text17)\n",
    "text17 = re.sub(r'\\\\x94', ' ', text17)\n",
    "text17 = re.sub(r'\\\\x99s', ' ', text17)\n",
    "text17 = re.sub(r'\\\\x93', ' ', text17)\n",
    "text17 = re.sub(r'\\\\xc2', ' ', text17)\n",
    "text17 = re.sub(r'\\\\xa0', ' ', text17)\n",
    "text17 = re.sub(r'\\\\xef', ' ', text17)\n",
    "text17 = re.sub(r'\\\\x83', ' ', text17)\n",
    "text17 = re.sub(r'\\\\xa3', ' ', text17)\n",
    "text17 = re.sub(r'\\\\x82', ' ', text17)\n",
    "text17 = re.sub(r'\\\\xb7', ' ', text17)"
   ]
  },
  {
   "cell_type": "code",
   "execution_count": 19,
   "metadata": {},
   "outputs": [],
   "source": [
    "text18 = textract.process(\"C:/Users/pondh/Desktop/data/Files/Public/Q2-21-Pfizer-PFE-Earnings-Release3.docx\")\n",
    "text18 = str(text18)\n",
    "text18 = re.sub(r'\\\\n', ' ', text18)\n",
    "text18 = re.sub(r'\\n', ' ', text18)\n",
    "text18 = re.sub(r'\\r', ' ', text18)\n",
    "text18 = re.sub(r'\\\\t', ' ', text18)\n",
    "text18 = re.sub(r'\\\\xe2', ' ', text18)\n",
    "text18 = re.sub(r'\\\\x80', ' ', text18)\n",
    "text18 = re.sub(r'\\\\xa6', ' ', text18)\n",
    "text18 = re.sub(r'\\\\x80', ' ', text18)\n",
    "text18 = re.sub(r'\\\\x9', ' ', text18)\n",
    "text18 = re.sub(r'\\\\x9d', ' ', text18)\n",
    "text18 = re.sub(r'\\\\x94', ' ', text18)\n",
    "text18 = re.sub(r'\\\\x99s', ' ', text18)\n",
    "text18 = re.sub(r'\\\\x93', ' ', text18)\n",
    "text18 = re.sub(r'\\\\xc2', ' ', text18)\n",
    "text18 = re.sub(r'\\\\xa0', ' ', text18)\n",
    "text18 = re.sub(r'\\\\xef', ' ', text18)\n",
    "text18 = re.sub(r'\\\\x83', ' ', text18)\n",
    "text18 = re.sub(r'\\\\xa3', ' ', text18)\n",
    "text18 = re.sub(r'\\\\x82', ' ', text18)\n",
    "text18 = re.sub(r'\\\\xb7', ' ', text18)"
   ]
  },
  {
   "cell_type": "code",
   "execution_count": 20,
   "metadata": {},
   "outputs": [],
   "source": [
    "text19 = textract.process(\"C:/Users/pondh/Desktop/data/Files/Public/Q2-21-Pfizer-PFE-Earnings-Release4.docx\")\n",
    "text19 = str(text19)\n",
    "text19 = re.sub(r'\\\\n', ' ', text19)\n",
    "text19 = re.sub(r'\\n', ' ', text19)\n",
    "text19 = re.sub(r'\\r', ' ', text19)\n",
    "text19 = re.sub(r'\\\\t', ' ', text19)\n",
    "text19 = re.sub(r'\\\\xe2', ' ', text19)\n",
    "text19 = re.sub(r'\\\\x80', ' ', text19)\n",
    "text19 = re.sub(r'\\\\xa6', ' ', text19)\n",
    "text19 = re.sub(r'\\\\x80', ' ', text19)\n",
    "text19 = re.sub(r'\\\\x9', ' ', text19)\n",
    "text19 = re.sub(r'\\\\x9d', ' ', text19)\n",
    "text19 = re.sub(r'\\\\x94', ' ', text19)\n",
    "text19 = re.sub(r'\\\\x99s', ' ', text19)\n",
    "text19 = re.sub(r'\\\\x93', ' ', text19)\n",
    "text19 = re.sub(r'\\\\xc2', ' ', text19)\n",
    "text19 = re.sub(r'\\\\xa0', ' ', text19)\n",
    "text19 = re.sub(r'\\\\xef', ' ', text19)\n",
    "text19 = re.sub(r'\\\\x83', ' ', text19)\n",
    "text19 = re.sub(r'\\\\xa3', ' ', text19)\n",
    "text19 = re.sub(r'\\\\x82', ' ', text19)\n",
    "text19 = re.sub(r'\\\\xb7', ' ', text19)"
   ]
  },
  {
   "cell_type": "code",
   "execution_count": 21,
   "metadata": {},
   "outputs": [],
   "source": [
    "text20 = textract.process(\"C:/Users/pondh/Desktop/data/Files/Public/Q2-21-Pfizer-PFE-Earnings-Release5.docx\")\n",
    "text20 = str(text20)\n",
    "text20 = re.sub(r'\\\\n', ' ', text20)\n",
    "text20 = re.sub(r'\\n', ' ', text20)\n",
    "text20 = re.sub(r'\\r', ' ', text20)\n",
    "text20 = re.sub(r'\\\\t', ' ', text20)\n",
    "text20 = re.sub(r'\\\\xe2', ' ', text20)\n",
    "text20 = re.sub(r'\\\\x80', ' ', text20)\n",
    "text20 = re.sub(r'\\\\xa6', ' ', text20)\n",
    "text20 = re.sub(r'\\\\x80', ' ', text20)\n",
    "text20 = re.sub(r'\\\\x9', ' ', text20)\n",
    "text20 = re.sub(r'\\\\x9d', ' ', text20)\n",
    "text20 = re.sub(r'\\\\x94', ' ', text20)\n",
    "text20 = re.sub(r'\\\\x99s', ' ', text20)\n",
    "text20 = re.sub(r'\\\\x93', ' ', text20)\n",
    "text20 = re.sub(r'\\\\xc2', ' ', text20)\n",
    "text20 = re.sub(r'\\\\xa0', ' ', text20)\n",
    "text20 = re.sub(r'\\\\xef', ' ', text20)\n",
    "text20 = re.sub(r'\\\\x83', ' ', text20)\n",
    "text20 = re.sub(r'\\\\xa3', ' ', text20)\n",
    "text20 = re.sub(r'\\\\x82', ' ', text20)\n",
    "text20 = re.sub(r'\\\\xb7', ' ', text20)"
   ]
  },
  {
   "cell_type": "code",
   "execution_count": 22,
   "metadata": {},
   "outputs": [],
   "source": [
    "text21 = textract.process(\"C:/Users/pondh/Desktop/data/Files/Public/Q2-21-Pfizer-PFE-Earnings-Release6.docx\")\n",
    "text21 = str(text21)\n",
    "text21 = re.sub(r'\\\\n', ' ', text21)\n",
    "text21 = re.sub(r'\\n', ' ', text21)\n",
    "text21 = re.sub(r'\\r', ' ', text21)\n",
    "text21 = re.sub(r'\\\\t', ' ', text21)\n",
    "text21 = re.sub(r'\\\\xe2', ' ', text21)\n",
    "text21 = re.sub(r'\\\\x80', ' ', text21)\n",
    "text21 = re.sub(r'\\\\xa6', ' ', text21)\n",
    "text21 = re.sub(r'\\\\x80', ' ', text21)\n",
    "text21 = re.sub(r'\\\\x9', ' ', text21)\n",
    "text21 = re.sub(r'\\\\x9d', ' ', text21)\n",
    "text21 = re.sub(r'\\\\x94', ' ', text21)\n",
    "text21 = re.sub(r'\\\\x99s', ' ', text21)\n",
    "text21 = re.sub(r'\\\\x93', ' ', text21)\n",
    "text21 = re.sub(r'\\\\xc2', ' ', text21)\n",
    "text21 = re.sub(r'\\\\xa0', ' ', text21)\n",
    "text21 = re.sub(r'\\\\xef', ' ', text21)\n",
    "text21 = re.sub(r'\\\\x83', ' ', text21)\n",
    "text21 = re.sub(r'\\\\xa3', ' ', text21)\n",
    "text21 = re.sub(r'\\\\x82', ' ', text21)\n",
    "text21 = re.sub(r'\\\\xb7', ' ', text21)"
   ]
  },
  {
   "cell_type": "code",
   "execution_count": 23,
   "metadata": {},
   "outputs": [],
   "source": [
    "#Load the Confidential Documents\n",
    "text22 = textract.process(\"C:/Users/pondh/Desktop/data/Files/Confidential/NewCustomerInfo.docx\")\n",
    "text22 = str(text22)\n",
    "text22 = re.sub(r'\\\\n', ' ', text22)\n",
    "text22 = re.sub(r'\\n', ' ', text22)\n",
    "text22 = re.sub(r'\\r', ' ', text22)\n",
    "text22 = re.sub(r'\\\\t', ' ', text22)\n",
    "text22 = re.sub(r'\\\\xe2', ' ', text22)\n",
    "text22 = re.sub(r'\\\\x80', ' ', text22)\n",
    "text22 = re.sub(r'\\\\xa6', ' ', text22)\n",
    "text22 = re.sub(r'\\\\x80', ' ', text22)\n",
    "text22 = re.sub(r'\\\\x9', ' ', text22)\n",
    "text22 = re.sub(r'\\\\x9d', ' ', text22)\n",
    "text22 = re.sub(r'\\\\x94', ' ', text22)\n",
    "text22 = re.sub(r'\\\\x99s', ' ', text22)\n",
    "text22 = re.sub(r'\\\\x93', ' ', text22)\n",
    "text22 = re.sub(r'\\\\xc2', ' ', text22)\n",
    "text22 = re.sub(r'\\\\xa0', ' ', text22)\n",
    "text22 = re.sub(r'\\\\xef', ' ', text22)\n",
    "text22 = re.sub(r'\\\\x83', ' ', text22)\n",
    "text22 = re.sub(r'\\\\xa3', ' ', text22)\n",
    "text22 = re.sub(r'\\\\x82', ' ', text22)\n",
    "text22 = re.sub(r'\\\\xb7', ' ', text22)"
   ]
  },
  {
   "cell_type": "code",
   "execution_count": 24,
   "metadata": {},
   "outputs": [],
   "source": [
    "text23 = textract.process(\"C:/Users/pondh/Desktop/data/Files/Confidential/ProspectiveClients.docx\")\n",
    "text23 = str(text23)\n",
    "text23 = re.sub(r'\\\\n', ' ', text23)\n",
    "text23 = re.sub(r'\\n', ' ', text23)\n",
    "text23 = re.sub(r'\\r', ' ', text23)\n",
    "text23 = re.sub(r'\\\\t', ' ', text23)\n",
    "text23 = re.sub(r'\\\\xe2', ' ', text23)\n",
    "text23 = re.sub(r'\\\\x80', ' ', text23)\n",
    "text23 = re.sub(r'\\\\xa6', ' ', text23)\n",
    "text23 = re.sub(r'\\\\x80', ' ', text23)\n",
    "text23 = re.sub(r'\\\\x9', ' ', text23)\n",
    "text23 = re.sub(r'\\\\x9d', ' ', text23)\n",
    "text23 = re.sub(r'\\\\x94', ' ', text23)\n",
    "text23 = re.sub(r'\\\\x99s', ' ', text23)\n",
    "text23 = re.sub(r'\\\\x93', ' ', text23)\n",
    "text23 = re.sub(r'\\\\xc2', ' ', text23)\n",
    "text23 = re.sub(r'\\\\xa0', ' ', text23)\n",
    "text23 = re.sub(r'\\\\xef', ' ', text23)\n",
    "text23 = re.sub(r'\\\\x83', ' ', text23)\n",
    "text23 = re.sub(r'\\\\xa3', ' ', text23)\n",
    "text23 = re.sub(r'\\\\x82', ' ', text23)\n",
    "text23 = re.sub(r'\\\\xb7', ' ', text23)"
   ]
  },
  {
   "cell_type": "code",
   "execution_count": 25,
   "metadata": {},
   "outputs": [],
   "source": [
    "text24 = textract.process(\"C:/Users/pondh/Desktop/data/Files/Confidential/VendorInfo.docx\")\n",
    "text24 = str(text24)\n",
    "text24 = re.sub(r'\\\\n', ' ', text24)\n",
    "text24 = re.sub(r'\\n', ' ', text24)\n",
    "text24 = re.sub(r'\\r', ' ', text24)\n",
    "text24 = re.sub(r'\\\\t', ' ', text24)\n",
    "text24 = re.sub(r'\\\\xe2', ' ', text24)\n",
    "text24 = re.sub(r'\\\\x80', ' ', text24)\n",
    "text24 = re.sub(r'\\\\xa6', ' ', text24)\n",
    "text24 = re.sub(r'\\\\x80', ' ', text24)\n",
    "text24 = re.sub(r'\\\\x9', ' ', text24)\n",
    "text24 = re.sub(r'\\\\x9d', ' ', text24)\n",
    "text24 = re.sub(r'\\\\x94', ' ', text24)\n",
    "text24 = re.sub(r'\\\\x99s', ' ', text24)\n",
    "text24 = re.sub(r'\\\\x93', ' ', text24)\n",
    "text24 = re.sub(r'\\\\xc2', ' ', text24)\n",
    "text24 = re.sub(r'\\\\xa0', ' ', text24)\n",
    "text24 = re.sub(r'\\\\xef', ' ', text24)\n",
    "text24 = re.sub(r'\\\\x83', ' ', text24)\n",
    "text24 = re.sub(r'\\\\xa3', ' ', text24)\n",
    "text24 = re.sub(r'\\\\x82', ' ', text24)\n",
    "text24 = re.sub(r'\\\\xb7', ' ', text24)"
   ]
  },
  {
   "cell_type": "code",
   "execution_count": 26,
   "metadata": {},
   "outputs": [],
   "source": [
    "#Load the Restricted Documents\n",
    "text25 = textract.process(\"C:/Users/pondh/Desktop/data/Files/Restricted/DeveloperTeam.docx\")\n",
    "text25 = str(text25)\n",
    "text25 = re.sub(r'\\\\n', ' ', text25)\n",
    "text25 = re.sub(r'\\n', ' ', text25)\n",
    "text25 = re.sub(r'\\r', ' ', text25)\n",
    "text25 = re.sub(r'\\\\t', ' ', text25)\n",
    "text25 = re.sub(r'\\\\xe2', ' ', text25)\n",
    "text25 = re.sub(r'\\\\x80', ' ', text25)\n",
    "text25 = re.sub(r'\\\\xa6', ' ', text25)\n",
    "text25 = re.sub(r'\\\\x80', ' ', text25)\n",
    "text25 = re.sub(r'\\\\x9', ' ', text25)\n",
    "text25 = re.sub(r'\\\\x9d', ' ', text25)\n",
    "text25 = re.sub(r'\\\\x94', ' ', text25)\n",
    "text25 = re.sub(r'\\\\x99s', ' ', text25)\n",
    "text25 = re.sub(r'\\\\x93', ' ', text25)\n",
    "text25 = re.sub(r'\\\\xc2', ' ', text25)\n",
    "text25 = re.sub(r'\\\\xa0', ' ', text25)\n",
    "text25 = re.sub(r'\\\\xef', ' ', text25)\n",
    "text25 = re.sub(r'\\\\x83', ' ', text25)\n",
    "text25 = re.sub(r'\\\\xa3', ' ', text25)\n",
    "text25 = re.sub(r'\\\\x82', ' ', text25)\n",
    "text25 = re.sub(r'\\\\xb7', ' ', text25)"
   ]
  },
  {
   "cell_type": "code",
   "execution_count": 27,
   "metadata": {},
   "outputs": [],
   "source": [
    "text26 = textract.process(\"C:/Users/pondh/Desktop/data/Files/Restricted/EmployeeInformation2.docx\")\n",
    "text26 = str(text26)\n",
    "text26 = re.sub(r'\\\\n', ' ', text26)\n",
    "text26 = re.sub(r'\\n', ' ', text26)\n",
    "text26 = re.sub(r'\\r', ' ', text26)\n",
    "text26 = re.sub(r'\\\\t', ' ', text26)\n",
    "text26 = re.sub(r'\\\\xe2', ' ', text26)\n",
    "text26 = re.sub(r'\\\\x80', ' ', text26)\n",
    "text26 = re.sub(r'\\\\xa6', ' ', text26)\n",
    "text26 = re.sub(r'\\\\x80', ' ', text26)\n",
    "text26 = re.sub(r'\\\\x9', ' ', text26)\n",
    "text26 = re.sub(r'\\\\x9d', ' ', text26)\n",
    "text26 = re.sub(r'\\\\x94', ' ', text26)\n",
    "text26 = re.sub(r'\\\\x99s', ' ', text26)\n",
    "text26 = re.sub(r'\\\\x93', ' ', text26)\n",
    "text26 = re.sub(r'\\\\xc2', ' ', text26)\n",
    "text26 = re.sub(r'\\\\xa0', ' ', text26)\n",
    "text26 = re.sub(r'\\\\xef', ' ', text26)\n",
    "text26 = re.sub(r'\\\\x83', ' ', text26)\n",
    "text26 = re.sub(r'\\\\xa3', ' ', text26)\n",
    "text26 = re.sub(r'\\\\x82', ' ', text26)\n",
    "text26 = re.sub(r'\\\\xb7', ' ', text26)"
   ]
  },
  {
   "cell_type": "code",
   "execution_count": 28,
   "metadata": {},
   "outputs": [],
   "source": [
    "text27 = textract.process(\"C:/Users/pondh/Desktop/data/Files/Restricted/PersonalInformationv2.docx\")\n",
    "text27 = str(text27)\n",
    "text27 = re.sub(r'\\\\n', ' ', text27)\n",
    "text27 = re.sub(r'\\n', ' ', text27)\n",
    "text27 = re.sub(r'\\r', ' ', text27)\n",
    "text27 = re.sub(r'\\\\t', ' ', text27)\n",
    "text27 = re.sub(r'\\\\xe2', ' ', text27)\n",
    "text27 = re.sub(r'\\\\x80', ' ', text27)\n",
    "text27 = re.sub(r'\\\\xa6', ' ', text27)\n",
    "text27 = re.sub(r'\\\\x80', ' ', text27)\n",
    "text27 = re.sub(r'\\\\x9', ' ', text27)\n",
    "text27 = re.sub(r'\\\\x9d', ' ', text27)\n",
    "text27 = re.sub(r'\\\\x94', ' ', text27)\n",
    "text27 = re.sub(r'\\\\x99s', ' ', text27)\n",
    "text27 = re.sub(r'\\\\x93', ' ', text27)\n",
    "text27 = re.sub(r'\\\\xc2', ' ', text27)\n",
    "text27 = re.sub(r'\\\\xa0', ' ', text27)\n",
    "text27 = re.sub(r'\\\\xef', ' ', text27)\n",
    "text27 = re.sub(r'\\\\x83', ' ', text27)\n",
    "text27 = re.sub(r'\\\\xa3', ' ', text27)\n",
    "text27 = re.sub(r'\\\\x82', ' ', text27)\n",
    "text27 = re.sub(r'\\\\xb7', ' ', text27)"
   ]
  },
  {
   "cell_type": "code",
   "execution_count": 29,
   "metadata": {},
   "outputs": [],
   "source": [
    "text28 = textract.process(\"C:/Users/pondh/Desktop/data/Files/Restricted/TaxFiling.docx\")\n",
    "text28 = str(text28)\n",
    "text28 = re.sub(r'\\\\n', ' ', text28)\n",
    "text28 = re.sub(r'\\n', ' ', text28)\n",
    "text28 = re.sub(r'\\r', ' ', text28)\n",
    "text28 = re.sub(r'\\\\t', ' ', text28)\n",
    "text28 = re.sub(r'\\\\xe2', ' ', text28)\n",
    "text28 = re.sub(r'\\\\x80', ' ', text28)\n",
    "text28 = re.sub(r'\\\\xa6', ' ', text28)\n",
    "text28 = re.sub(r'\\\\x80', ' ', text28)\n",
    "text28 = re.sub(r'\\\\x9', ' ', text28)\n",
    "text28 = re.sub(r'\\\\x9d', ' ', text28)\n",
    "text28 = re.sub(r'\\\\x94', ' ', text28)\n",
    "text28 = re.sub(r'\\\\x99s', ' ', text28)\n",
    "text28 = re.sub(r'\\\\x93', ' ', text28)\n",
    "text28 = re.sub(r'\\\\xc2', ' ', text28)\n",
    "text28 = re.sub(r'\\\\xa0', ' ', text28)\n",
    "text28 = re.sub(r'\\\\xef', ' ', text28)\n",
    "text28 = re.sub(r'\\\\x83', ' ', text28)\n",
    "text28 = re.sub(r'\\\\xa3', ' ', text28)\n",
    "text28 = re.sub(r'\\\\x82', ' ', text28)\n",
    "text28 = re.sub(r'\\\\xb7', ' ', text28)"
   ]
  },
  {
   "cell_type": "code",
   "execution_count": 30,
   "metadata": {},
   "outputs": [],
   "source": [
    "text29 = textract.process(\"C:/Users/pondh/Desktop/data/Files/Restricted/HR-Peoplesoft.docx\")\n",
    "text29 = str(text29)\n",
    "text29 = re.sub(r'\\\\n', ' ', text29)\n",
    "text29 = re.sub(r'\\n', ' ', text29)\n",
    "text29 = re.sub(r'\\r', ' ', text29)\n",
    "text29 = re.sub(r'\\\\t', ' ', text29)\n",
    "text29 = re.sub(r'\\\\xe2', ' ', text29)\n",
    "text29 = re.sub(r'\\\\x80', ' ', text29)\n",
    "text29 = re.sub(r'\\\\xa6', ' ', text29)\n",
    "text29 = re.sub(r'\\\\x80', ' ', text29)\n",
    "text29 = re.sub(r'\\\\x9', ' ', text29)\n",
    "text29 = re.sub(r'\\\\x9d', ' ', text29)\n",
    "text29 = re.sub(r'\\\\x94', ' ', text29)\n",
    "text29 = re.sub(r'\\\\x99s', ' ', text29)\n",
    "text29 = re.sub(r'\\\\x93', ' ', text29)\n",
    "text29 = re.sub(r'\\\\xc2', ' ', text29)\n",
    "text29 = re.sub(r'\\\\xa0', ' ', text29)\n",
    "text29 = re.sub(r'\\\\xef', ' ', text29)\n",
    "text29 = re.sub(r'\\\\x83', ' ', text29)\n",
    "text29 = re.sub(r'\\\\xa3', ' ', text29)\n",
    "text29 = re.sub(r'\\\\x82', ' ', text29)\n",
    "text29 = re.sub(r'\\\\xb7', ' ', text29)"
   ]
  },
  {
   "cell_type": "code",
   "execution_count": 31,
   "metadata": {},
   "outputs": [],
   "source": [
    "text30 = textract.process(\"C:/Users/pondh/Desktop/data/Files/Restricted/Health Insurance Info.docx\")\n",
    "text30 = str(text30)\n",
    "text30 = re.sub(r'\\\\n', ' ', text30)\n",
    "text30 = re.sub(r'\\n', ' ', text30)\n",
    "text30 = re.sub(r'\\r', ' ', text30)\n",
    "text30 = re.sub(r'\\\\t', ' ', text30)\n",
    "text30 = re.sub(r'\\\\xe2', ' ', text30)\n",
    "text30 = re.sub(r'\\\\x80', ' ', text30)\n",
    "text30 = re.sub(r'\\\\xa6', ' ', text30)\n",
    "text30 = re.sub(r'\\\\x80', ' ', text30)\n",
    "text30 = re.sub(r'\\\\x9', ' ', text30)\n",
    "text30 = re.sub(r'\\\\x9d', ' ', text30)\n",
    "text30 = re.sub(r'\\\\x94', ' ', text30)\n",
    "text30 = re.sub(r'\\\\x99s', ' ', text30)\n",
    "text30 = re.sub(r'\\\\x93', ' ', text30)\n",
    "text30 = re.sub(r'\\\\xc2', ' ', text30)\n",
    "text30 = re.sub(r'\\\\xa0', ' ', text30)\n",
    "text30 = re.sub(r'\\\\xef', ' ', text30)\n",
    "text30 = re.sub(r'\\\\x83', ' ', text30)\n",
    "text30 = re.sub(r'\\\\xa3', ' ', text30)\n",
    "text30 = re.sub(r'\\\\x82', ' ', text30)\n",
    "text30 = re.sub(r'\\\\xb7', ' ', text30)"
   ]
  },
  {
   "cell_type": "code",
   "execution_count": 32,
   "metadata": {},
   "outputs": [],
   "source": [
    "text31 = textract.process(\"C:/Users/pondh/Desktop/data/Files/Confidential/Expense Report for July 2021.docx\")\n",
    "text31 = str(text31)\n",
    "text31 = re.sub(r'\\\\n', ' ', text31)\n",
    "text31 = re.sub(r'\\n', ' ', text31)\n",
    "text31 = re.sub(r'\\r', ' ', text31)\n",
    "text31 = re.sub(r'\\\\t', ' ', text31)\n",
    "text31 = re.sub(r'\\\\xe2', ' ', text31)\n",
    "text31 = re.sub(r'\\\\x80', ' ', text31)\n",
    "text31 = re.sub(r'\\\\xa6', ' ', text31)\n",
    "text31 = re.sub(r'\\\\x80', ' ', text31)\n",
    "text31 = re.sub(r'\\\\x9', ' ', text31)\n",
    "text31 = re.sub(r'\\\\x9d', ' ', text31)\n",
    "text31 = re.sub(r'\\\\x94', ' ', text31)\n",
    "text31 = re.sub(r'\\\\x99s', ' ', text31)\n",
    "text31 = re.sub(r'\\\\x93', ' ', text31)\n",
    "text31 = re.sub(r'\\\\xc2', ' ', text31)\n",
    "text31 = re.sub(r'\\\\xa0', ' ', text31)\n",
    "text31 = re.sub(r'\\\\xef', ' ', text31)\n",
    "text31 = re.sub(r'\\\\x83', ' ', text31)\n",
    "text31 = re.sub(r'\\\\xa3', ' ', text31)\n",
    "text31 = re.sub(r'\\\\x82', ' ', text31)\n",
    "text31 = re.sub(r'\\\\xb7', ' ', text31)"
   ]
  },
  {
   "cell_type": "code",
   "execution_count": 33,
   "metadata": {},
   "outputs": [],
   "source": [
    "text32 = textract.process(\"C:/Users/pondh/Desktop/data/Files/Confidential/BusinessPartners.docx\")\n",
    "text32 = str(text32)\n",
    "text32 = re.sub(r'\\\\n', ' ', text32)\n",
    "text32 = re.sub(r'\\n', ' ', text32)\n",
    "text32 = re.sub(r'\\r', ' ', text32)\n",
    "text32 = re.sub(r'\\\\t', ' ', text32)\n",
    "text32 = re.sub(r'\\\\xe2', ' ', text32)\n",
    "text32 = re.sub(r'\\\\x80', ' ', text32)\n",
    "text32 = re.sub(r'\\\\xa6', ' ', text32)\n",
    "text32 = re.sub(r'\\\\x80', ' ', text32)\n",
    "text32 = re.sub(r'\\\\x9', ' ', text32)\n",
    "text32 = re.sub(r'\\\\x9d', ' ', text32)\n",
    "text32 = re.sub(r'\\\\x94', ' ', text32)\n",
    "text32 = re.sub(r'\\\\x99s', ' ', text32)\n",
    "text32 = re.sub(r'\\\\x93', ' ', text32)\n",
    "text32 = re.sub(r'\\\\xc2', ' ', text32)\n",
    "text32 = re.sub(r'\\\\xa0', ' ', text32)\n",
    "text32 = re.sub(r'\\\\xef', ' ', text32)\n",
    "text32 = re.sub(r'\\\\x83', ' ', text32)\n",
    "text32 = re.sub(r'\\\\xa3', ' ', text32)\n",
    "text32 = re.sub(r'\\\\x82', ' ', text32)\n",
    "text32 = re.sub(r'\\\\xb7', ' ', text32)"
   ]
  },
  {
   "cell_type": "code",
   "execution_count": 34,
   "metadata": {},
   "outputs": [],
   "source": [
    "text33 = textract.process(\"C:/Users/pondh/Desktop/data/Files/Public/2020_Annual_Report_Microsoft5.docx\")\n",
    "text33 = str(text33)\n",
    "text33 = re.sub(r'\\\\n', ' ', text33)\n",
    "text33 = re.sub(r'\\n', ' ', text33)\n",
    "text33 = re.sub(r'\\r', ' ', text33)\n",
    "text33 = re.sub(r'\\\\t', ' ', text33)\n",
    "text33 = re.sub(r'\\\\xe2', ' ', text33)\n",
    "text33 = re.sub(r'\\\\x80', ' ', text33)\n",
    "text33 = re.sub(r'\\\\xa6', ' ', text33)\n",
    "text33 = re.sub(r'\\\\x80', ' ', text33)\n",
    "text33 = re.sub(r'\\\\x9', ' ', text33)\n",
    "text33 = re.sub(r'\\\\x9d', ' ', text33)\n",
    "text33 = re.sub(r'\\\\x94', ' ', text33)\n",
    "text33 = re.sub(r'\\\\x99s', ' ', text33)\n",
    "text33 = re.sub(r'\\\\x93', ' ', text33)\n",
    "text33 = re.sub(r'\\\\xc2', ' ', text33)\n",
    "text33 = re.sub(r'\\\\xa0', ' ', text33)\n",
    "text33 = re.sub(r'\\\\xef', ' ', text33)\n",
    "text33 = re.sub(r'\\\\x83', ' ', text33)\n",
    "text33 = re.sub(r'\\\\xa3', ' ', text33)\n",
    "text33 = re.sub(r'\\\\x82', ' ', text33)\n",
    "text33 = re.sub(r'\\\\xb7', ' ', text33)"
   ]
  },
  {
   "cell_type": "code",
   "execution_count": 35,
   "metadata": {},
   "outputs": [],
   "source": [
    "text34 = textract.process(\"C:/Users/pondh/Desktop/data/Files/Public/2020_Annual_Report_Microsoft6.docx\")\n",
    "text34 = str(text34)\n",
    "text34 = re.sub(r'\\\\n', ' ', text34)\n",
    "text34 = re.sub(r'\\n', ' ', text34)\n",
    "text34 = re.sub(r'\\r', ' ', text34)\n",
    "text34 = re.sub(r'\\\\t', ' ', text34)\n",
    "text34 = re.sub(r'\\\\xe2', ' ', text34)\n",
    "text34 = re.sub(r'\\\\x80', ' ', text34)\n",
    "text34 = re.sub(r'\\\\xa6', ' ', text34)\n",
    "text34 = re.sub(r'\\\\x80', ' ', text34)\n",
    "text34 = re.sub(r'\\\\x9', ' ', text34)\n",
    "text34 = re.sub(r'\\\\x9d', ' ', text34)\n",
    "text34 = re.sub(r'\\\\x94', ' ', text34)\n",
    "text34 = re.sub(r'\\\\x99s', ' ', text34)\n",
    "text34 = re.sub(r'\\\\x93', ' ', text34)\n",
    "text34 = re.sub(r'\\\\xc2', ' ', text34)\n",
    "text34 = re.sub(r'\\\\xa0', ' ', text34)\n",
    "text34 = re.sub(r'\\\\xef', ' ', text34)\n",
    "text34 = re.sub(r'\\\\x83', ' ', text34)\n",
    "text34 = re.sub(r'\\\\xa3', ' ', text34)\n",
    "text34 = re.sub(r'\\\\x82', ' ', text34)\n",
    "text34 = re.sub(r'\\\\xb7', ' ', text34)"
   ]
  },
  {
   "cell_type": "code",
   "execution_count": 36,
   "metadata": {},
   "outputs": [],
   "source": [
    "text35 = textract.process(\"C:/Users/pondh/Desktop/data/Files/Public/2020_Annual_Report_Microsoft7.docx\")\n",
    "text35 = str(text35)\n",
    "text35 = re.sub(r'\\\\n', ' ', text35)\n",
    "text35 = re.sub(r'\\n', ' ', text35)\n",
    "text35 = re.sub(r'\\r', ' ', text35)\n",
    "text35 = re.sub(r'\\\\t', ' ', text35)\n",
    "text35 = re.sub(r'\\\\xe2', ' ', text35)\n",
    "text35 = re.sub(r'\\\\x80', ' ', text35)\n",
    "text35 = re.sub(r'\\\\xa6', ' ', text35)\n",
    "text35 = re.sub(r'\\\\x80', ' ', text35)\n",
    "text35 = re.sub(r'\\\\x9', ' ', text35)\n",
    "text35 = re.sub(r'\\\\x9d', ' ', text35)\n",
    "text35 = re.sub(r'\\\\x94', ' ', text35)\n",
    "text35 = re.sub(r'\\\\x99s', ' ', text35)\n",
    "text35 = re.sub(r'\\\\x93', ' ', text35)\n",
    "text35 = re.sub(r'\\\\xc2', ' ', text35)\n",
    "text35 = re.sub(r'\\\\xa0', ' ', text35)\n",
    "text35 = re.sub(r'\\\\xef', ' ', text35)\n",
    "text35 = re.sub(r'\\\\x83', ' ', text35)\n",
    "text35 = re.sub(r'\\\\xa3', ' ', text35)\n",
    "text35 = re.sub(r'\\\\x82', ' ', text35)\n",
    "text35 = re.sub(r'\\\\xb7', ' ', text35)"
   ]
  },
  {
   "cell_type": "code",
   "execution_count": 37,
   "metadata": {},
   "outputs": [],
   "source": [
    "text36 = textract.process(\"C:/Users/pondh/Desktop/data/Files/Public/2020_Annual_Report_Microsoft8.docx\")\n",
    "text36 = str(text36)\n",
    "text36 = re.sub(r'\\\\n', ' ', text36)\n",
    "text36 = re.sub(r'\\n', ' ', text36)\n",
    "text36 = re.sub(r'\\r', ' ', text36)\n",
    "text36 = re.sub(r'\\\\t', ' ', text36)\n",
    "text36 = re.sub(r'\\\\xe2', ' ', text36)\n",
    "text36 = re.sub(r'\\\\x80', ' ', text36)\n",
    "text36 = re.sub(r'\\\\xa6', ' ', text36)\n",
    "text36 = re.sub(r'\\\\x80', ' ', text36)\n",
    "text36 = re.sub(r'\\\\x9', ' ', text36)\n",
    "text36 = re.sub(r'\\\\x9d', ' ', text36)\n",
    "text36 = re.sub(r'\\\\x94', ' ', text36)\n",
    "text36 = re.sub(r'\\\\x99s', ' ', text36)\n",
    "text36 = re.sub(r'\\\\x93', ' ', text36)\n",
    "text36 = re.sub(r'\\\\xc2', ' ', text36)\n",
    "text36 = re.sub(r'\\\\xa0', ' ', text36)\n",
    "text36 = re.sub(r'\\\\xef', ' ', text36)\n",
    "text36 = re.sub(r'\\\\x83', ' ', text36)\n",
    "text36 = re.sub(r'\\\\xa3', ' ', text36)\n",
    "text36 = re.sub(r'\\\\x82', ' ', text36)\n",
    "text36 = re.sub(r'\\\\xb7', ' ', text36)"
   ]
  },
  {
   "cell_type": "code",
   "execution_count": 38,
   "metadata": {},
   "outputs": [],
   "source": [
    "text37 = textract.process(\"C:/Users/pondh/Desktop/data/Files/Public/2020_Annual_Report_Microsoft9.docx\")\n",
    "text37 = str(text37)\n",
    "text37 = re.sub(r'\\\\n', ' ', text37)\n",
    "text37 = re.sub(r'\\n', ' ', text37)\n",
    "text37 = re.sub(r'\\r', ' ', text37)\n",
    "text37 = re.sub(r'\\\\t', ' ', text37)\n",
    "text37 = re.sub(r'\\\\xe2', ' ', text37)\n",
    "text37 = re.sub(r'\\\\x80', ' ', text37)\n",
    "text37 = re.sub(r'\\\\xa6', ' ', text37)\n",
    "text37 = re.sub(r'\\\\x80', ' ', text37)\n",
    "text37 = re.sub(r'\\\\x9', ' ', text37)\n",
    "text37 = re.sub(r'\\\\x9d', ' ', text37)\n",
    "text37 = re.sub(r'\\\\x94', ' ', text37)\n",
    "text37 = re.sub(r'\\\\x99s', ' ', text37)\n",
    "text37 = re.sub(r'\\\\x93', ' ', text37)\n",
    "text37 = re.sub(r'\\\\xc2', ' ', text37)\n",
    "text37 = re.sub(r'\\\\xa0', ' ', text37)\n",
    "text37 = re.sub(r'\\\\xef', ' ', text37)\n",
    "text37 = re.sub(r'\\\\x83', ' ', text37)\n",
    "text37 = re.sub(r'\\\\xa3', ' ', text37)\n",
    "text37 = re.sub(r'\\\\x82', ' ', text37)\n",
    "text37 = re.sub(r'\\\\xb7', ' ', text37)"
   ]
  },
  {
   "cell_type": "code",
   "execution_count": 39,
   "metadata": {},
   "outputs": [],
   "source": [
    "text38 = textract.process(\"C:/Users/pondh/Desktop/data/Files/Public/2020_Annual_Report_Microsoft10.docx\")\n",
    "text38 = str(text38)\n",
    "text38 = re.sub(r'\\\\n', ' ', text38)\n",
    "text38 = re.sub(r'\\n', ' ', text38)\n",
    "text38 = re.sub(r'\\r', ' ', text38)\n",
    "text38 = re.sub(r'\\\\t', ' ', text38)\n",
    "text38 = re.sub(r'\\\\xe2', ' ', text38)\n",
    "text38 = re.sub(r'\\\\x80', ' ', text38)\n",
    "text38 = re.sub(r'\\\\xa6', ' ', text38)\n",
    "text38 = re.sub(r'\\\\x80', ' ', text38)\n",
    "text38 = re.sub(r'\\\\x9', ' ', text38)\n",
    "text38 = re.sub(r'\\\\x9d', ' ', text38)\n",
    "text38 = re.sub(r'\\\\x94', ' ', text38)\n",
    "text38 = re.sub(r'\\\\x99s', ' ', text38)\n",
    "text38 = re.sub(r'\\\\x93', ' ', text38)\n",
    "text38 = re.sub(r'\\\\xc2', ' ', text38)\n",
    "text38 = re.sub(r'\\\\xa0', ' ', text38)\n",
    "text38 = re.sub(r'\\\\xef', ' ', text38)\n",
    "text38 = re.sub(r'\\\\x83', ' ', text38)\n",
    "text38 = re.sub(r'\\\\xa3', ' ', text38)\n",
    "text38 = re.sub(r'\\\\x82', ' ', text38)\n",
    "text38 = re.sub(r'\\\\xb7', ' ', text38)"
   ]
  },
  {
   "cell_type": "code",
   "execution_count": 40,
   "metadata": {},
   "outputs": [],
   "source": [
    "text39 = textract.process(\"C:/Users/pondh/Desktop/data/Files/Public/2020_Annual_Report_Microsoft11.docx\")\n",
    "text39 = str(text39)\n",
    "text39 = re.sub(r'\\\\n', ' ', text39)\n",
    "text39 = re.sub(r'\\n', ' ', text39)\n",
    "text39 = re.sub(r'\\r', ' ', text39)\n",
    "text39 = re.sub(r'\\\\t', ' ', text39)\n",
    "text39 = re.sub(r'\\\\xe2', ' ', text39)\n",
    "text39 = re.sub(r'\\\\x80', ' ', text39)\n",
    "text39 = re.sub(r'\\\\xa6', ' ', text39)\n",
    "text39 = re.sub(r'\\\\x80', ' ', text39)\n",
    "text39 = re.sub(r'\\\\x9', ' ', text39)\n",
    "text39 = re.sub(r'\\\\x9d', ' ', text39)\n",
    "text39 = re.sub(r'\\\\x94', ' ', text39)\n",
    "text39 = re.sub(r'\\\\x99s', ' ', text39)\n",
    "text39 = re.sub(r'\\\\x93', ' ', text39)\n",
    "text39 = re.sub(r'\\\\xc2', ' ', text39)\n",
    "text39 = re.sub(r'\\\\xa0', ' ', text39)\n",
    "text39 = re.sub(r'\\\\xef', ' ', text39)\n",
    "text39 = re.sub(r'\\\\x83', ' ', text39)\n",
    "text39 = re.sub(r'\\\\xa3', ' ', text39)\n",
    "text39 = re.sub(r'\\\\x82', ' ', text39)\n",
    "text39 = re.sub(r'\\\\xb7', ' ', text39)"
   ]
  },
  {
   "cell_type": "code",
   "execution_count": 41,
   "metadata": {},
   "outputs": [],
   "source": [
    "text40 = textract.process(\"C:/Users/pondh/Desktop/data/Files/Restricted/Emp-PAN.docx\")\n",
    "text40 = str(text40)\n",
    "text40 = re.sub(r'\\\\n', ' ', text40)\n",
    "text40 = re.sub(r'\\n', ' ', text40)\n",
    "text40 = re.sub(r'\\r', ' ', text40)\n",
    "text40 = re.sub(r'\\\\t', ' ', text40)\n",
    "text40 = re.sub(r'\\\\xe2', ' ', text40)\n",
    "text40 = re.sub(r'\\\\x80', ' ', text40)\n",
    "text40 = re.sub(r'\\\\xa6', ' ', text40)\n",
    "text40 = re.sub(r'\\\\x80', ' ', text40)\n",
    "text40 = re.sub(r'\\\\x9', ' ', text40)\n",
    "text40 = re.sub(r'\\\\x9d', ' ', text40)\n",
    "text40 = re.sub(r'\\\\x94', ' ', text40)\n",
    "text40 = re.sub(r'\\\\x99s', ' ', text40)\n",
    "text40 = re.sub(r'\\\\x93', ' ', text40)\n",
    "text40 = re.sub(r'\\\\xc2', ' ', text40)\n",
    "text40 = re.sub(r'\\\\xa0', ' ', text40)\n",
    "text40 = re.sub(r'\\\\xef', ' ', text40)\n",
    "text40 = re.sub(r'\\\\x83', ' ', text40)\n",
    "text40 = re.sub(r'\\\\xa3', ' ', text40)\n",
    "text40 = re.sub(r'\\\\x82', ' ', text40)\n",
    "text40 = re.sub(r'\\\\xb7', ' ', text40)"
   ]
  },
  {
   "cell_type": "code",
   "execution_count": 42,
   "metadata": {},
   "outputs": [],
   "source": [
    "text41 = textract.process(\"C:/Users/pondh/Desktop/data/Files/Restricted/Health Insurance Info2.docx\")\n",
    "text41 = str(text41)\n",
    "text41 = re.sub(r'\\\\n', ' ', text41)\n",
    "text41 = re.sub(r'\\n', ' ', text41)\n",
    "text41 = re.sub(r'\\r', ' ', text41)\n",
    "text41 = re.sub(r'\\\\t', ' ', text41)\n",
    "text41 = re.sub(r'\\\\xe2', ' ', text41)\n",
    "text41 = re.sub(r'\\\\x80', ' ', text41)\n",
    "text41 = re.sub(r'\\\\xa6', ' ', text41)\n",
    "text41 = re.sub(r'\\\\x80', ' ', text41)\n",
    "text41 = re.sub(r'\\\\x9', ' ', text41)\n",
    "text41 = re.sub(r'\\\\x9d', ' ', text41)\n",
    "text41 = re.sub(r'\\\\x94', ' ', text41)\n",
    "text41 = re.sub(r'\\\\x99s', ' ', text41)\n",
    "text41 = re.sub(r'\\\\x93', ' ', text41)\n",
    "text41 = re.sub(r'\\\\xc2', ' ', text41)\n",
    "text41 = re.sub(r'\\\\xa0', ' ', text41)\n",
    "text41 = re.sub(r'\\\\xef', ' ', text41)\n",
    "text41 = re.sub(r'\\\\x83', ' ', text41)\n",
    "text41 = re.sub(r'\\\\xa3', ' ', text41)\n",
    "text41 = re.sub(r'\\\\x82', ' ', text41)\n",
    "text41 = re.sub(r'\\\\xb7', ' ', text41)"
   ]
  },
  {
   "cell_type": "code",
   "execution_count": 43,
   "metadata": {},
   "outputs": [],
   "source": [
    "text42 = textract.process(\"C:/Users/pondh/Desktop/data/Files/Restricted/Emp-SSN.docx\")\n",
    "text42 = str(text42)\n",
    "text42 = re.sub(r'\\\\n', ' ', text42)\n",
    "text42 = re.sub(r'\\n', ' ', text42)\n",
    "text42 = re.sub(r'\\r', ' ', text42)\n",
    "text42 = re.sub(r'\\\\t', ' ', text42)\n",
    "text42 = re.sub(r'\\\\xe2', ' ', text42)\n",
    "text42 = re.sub(r'\\\\x80', ' ', text42)\n",
    "text42 = re.sub(r'\\\\xa6', ' ', text42)\n",
    "text42 = re.sub(r'\\\\x80', ' ', text42)\n",
    "text42 = re.sub(r'\\\\x9', ' ', text42)\n",
    "text42 = re.sub(r'\\\\x9d', ' ', text42)\n",
    "text42 = re.sub(r'\\\\x94', ' ', text42)\n",
    "text42 = re.sub(r'\\\\x99s', ' ', text42)\n",
    "text42 = re.sub(r'\\\\x93', ' ', text42)\n",
    "text42 = re.sub(r'\\\\xc2', ' ', text42)\n",
    "text42 = re.sub(r'\\\\xa0', ' ', text42)\n",
    "text42 = re.sub(r'\\\\xef', ' ', text42)\n",
    "text42 = re.sub(r'\\\\x83', ' ', text42)\n",
    "text42 = re.sub(r'\\\\xa3', ' ', text42)\n",
    "text42 = re.sub(r'\\\\x82', ' ', text42)\n",
    "text42 = re.sub(r'\\\\xb7', ' ', text42)"
   ]
  },
  {
   "cell_type": "code",
   "execution_count": 44,
   "metadata": {},
   "outputs": [],
   "source": [
    "text43 = textract.process(\"C:/Users/pondh/Desktop/data/Files/Restricted/HR-Peoplesoft2.docx\")\n",
    "text43 = str(text43)\n",
    "text43 = re.sub(r'\\\\n', ' ', text43)\n",
    "text43 = re.sub(r'\\n', ' ', text43)\n",
    "text43 = re.sub(r'\\r', ' ', text43)\n",
    "text43 = re.sub(r'\\\\t', ' ', text43)\n",
    "text43 = re.sub(r'\\\\xe2', ' ', text43)\n",
    "text43 = re.sub(r'\\\\x80', ' ', text43)\n",
    "text43 = re.sub(r'\\\\xa6', ' ', text43)\n",
    "text43 = re.sub(r'\\\\x80', ' ', text43)\n",
    "text43 = re.sub(r'\\\\x9', ' ', text43)\n",
    "text43 = re.sub(r'\\\\x9d', ' ', text43)\n",
    "text43 = re.sub(r'\\\\x94', ' ', text43)\n",
    "text43 = re.sub(r'\\\\x99s', ' ', text43)\n",
    "text43 = re.sub(r'\\\\x93', ' ', text43)\n",
    "text43 = re.sub(r'\\\\xc2', ' ', text43)\n",
    "text43 = re.sub(r'\\\\xa0', ' ', text43)\n",
    "text43 = re.sub(r'\\\\xef', ' ', text43)\n",
    "text43 = re.sub(r'\\\\x83', ' ', text43)\n",
    "text43 = re.sub(r'\\\\xa3', ' ', text43)\n",
    "text43 = re.sub(r'\\\\x82', ' ', text43)\n",
    "text43 = re.sub(r'\\\\xb7', ' ', text43)"
   ]
  },
  {
   "cell_type": "code",
   "execution_count": 45,
   "metadata": {},
   "outputs": [],
   "source": [
    "text44 = textract.process(\"C:/Users/pondh/Desktop/data/Files/Confidential/Expense Report for Jan 2021.docx\")\n",
    "text44 = str(text44)\n",
    "text44 = re.sub(r'\\\\n', ' ', text44)\n",
    "text44 = re.sub(r'\\n', ' ', text44)\n",
    "text44 = re.sub(r'\\r', ' ', text44)\n",
    "text44 = re.sub(r'\\\\t', ' ', text44)\n",
    "text44 = re.sub(r'\\\\xe2', ' ', text44)\n",
    "text44 = re.sub(r'\\\\x80', ' ', text44)\n",
    "text44 = re.sub(r'\\\\xa6', ' ', text44)\n",
    "text44 = re.sub(r'\\\\x80', ' ', text44)\n",
    "text44 = re.sub(r'\\\\x9', ' ', text44)\n",
    "text44 = re.sub(r'\\\\x9d', ' ', text44)\n",
    "text44 = re.sub(r'\\\\x94', ' ', text44)\n",
    "text44 = re.sub(r'\\\\x99s', ' ', text44)\n",
    "text44 = re.sub(r'\\\\x93', ' ', text44)\n",
    "text44 = re.sub(r'\\\\xc2', ' ', text44)\n",
    "text44 = re.sub(r'\\\\xa0', ' ', text44)\n",
    "text44 = re.sub(r'\\\\xef', ' ', text44)\n",
    "text44 = re.sub(r'\\\\x83', ' ', text44)\n",
    "text44 = re.sub(r'\\\\xa3', ' ', text44)\n",
    "text44 = re.sub(r'\\\\x82', ' ', text44)\n",
    "text44 = re.sub(r'\\\\xb7', ' ', text44)"
   ]
  },
  {
   "cell_type": "code",
   "execution_count": 46,
   "metadata": {},
   "outputs": [],
   "source": [
    "text45 = textract.process(\"C:/Users/pondh/Desktop/data/Files/Confidential/SupplierInformationJan2022.docx\")\n",
    "text45 = str(text45)\n",
    "text45 = re.sub(r'\\\\n', ' ', text45)\n",
    "text45 = re.sub(r'\\n', ' ', text45)\n",
    "text45 = re.sub(r'\\r', ' ', text45)\n",
    "text45 = re.sub(r'\\\\t', ' ', text45)\n",
    "text45 = re.sub(r'\\\\xe2', ' ', text45)\n",
    "text45 = re.sub(r'\\\\x80', ' ', text45)\n",
    "text45 = re.sub(r'\\\\xa6', ' ', text45)\n",
    "text45 = re.sub(r'\\\\x80', ' ', text45)\n",
    "text45 = re.sub(r'\\\\x9', ' ', text45)\n",
    "text45 = re.sub(r'\\\\x9d', ' ', text45)\n",
    "text45 = re.sub(r'\\\\x94', ' ', text45)\n",
    "text45 = re.sub(r'\\\\x99s', ' ', text45)\n",
    "text45 = re.sub(r'\\\\x93', ' ', text45)\n",
    "text45 = re.sub(r'\\\\xc2', ' ', text45)\n",
    "text45 = re.sub(r'\\\\xa0', ' ', text45)\n",
    "text45 = re.sub(r'\\\\xef', ' ', text45)\n",
    "text45 = re.sub(r'\\\\x83', ' ', text45)\n",
    "text45 = re.sub(r'\\\\xa3', ' ', text45)\n",
    "text45 = re.sub(r'\\\\x82', ' ', text45)\n",
    "text45 = re.sub(r'\\\\xb7', ' ', text45)"
   ]
  },
  {
   "cell_type": "code",
   "execution_count": 47,
   "metadata": {},
   "outputs": [],
   "source": [
    "text46 = textract.process(\"C:/Users/pondh/Desktop/data/Files/Confidential/SupplierInformationFeb2022.docx\")\n",
    "text46 = str(text46)\n",
    "text46 = re.sub(r'\\\\n', ' ', text46)\n",
    "text46 = re.sub(r'\\n', ' ', text46)\n",
    "text46 = re.sub(r'\\r', ' ', text46)\n",
    "text46 = re.sub(r'\\\\t', ' ', text46)\n",
    "text46 = re.sub(r'\\\\xe2', ' ', text46)\n",
    "text46 = re.sub(r'\\\\x80', ' ', text46)\n",
    "text46 = re.sub(r'\\\\xa6', ' ', text46)\n",
    "text46 = re.sub(r'\\\\x80', ' ', text46)\n",
    "text46 = re.sub(r'\\\\x9', ' ', text46)\n",
    "text46 = re.sub(r'\\\\x9d', ' ', text46)\n",
    "text46 = re.sub(r'\\\\x94', ' ', text46)\n",
    "text46 = re.sub(r'\\\\x99s', ' ', text46)\n",
    "text46 = re.sub(r'\\\\x93', ' ', text46)\n",
    "text46 = re.sub(r'\\\\xc2', ' ', text46)\n",
    "text46 = re.sub(r'\\\\xa0', ' ', text46)\n",
    "text46 = re.sub(r'\\\\xef', ' ', text46)\n",
    "text46 = re.sub(r'\\\\x83', ' ', text46)\n",
    "text46 = re.sub(r'\\\\xa3', ' ', text46)\n",
    "text46 = re.sub(r'\\\\x82', ' ', text46)\n",
    "text46 = re.sub(r'\\\\xb7', ' ', text46)"
   ]
  },
  {
   "cell_type": "code",
   "execution_count": 48,
   "metadata": {},
   "outputs": [],
   "source": [
    "text47 = textract.process(\"C:/Users/pondh/Desktop/data/Files/Internal/Power BI Training Document 1.docx\")\n",
    "text47 = str(text47)\n",
    "text47 = re.sub(r'\\\\n', ' ', text47)\n",
    "text47 = re.sub(r'\\n', ' ', text47)\n",
    "text47 = re.sub(r'\\r', ' ', text47)\n",
    "text47 = re.sub(r'\\\\t', ' ', text47)\n",
    "text47 = re.sub(r'\\\\xe2', ' ', text47)\n",
    "text47 = re.sub(r'\\\\x80', ' ', text47)\n",
    "text47 = re.sub(r'\\\\xa6', ' ', text47)\n",
    "text47 = re.sub(r'\\\\x80', ' ', text47)\n",
    "text47 = re.sub(r'\\\\x9', ' ', text47)\n",
    "text47 = re.sub(r'\\\\x9d', ' ', text47)\n",
    "text47 = re.sub(r'\\\\x94', ' ', text47)\n",
    "text47 = re.sub(r'\\\\x99s', ' ', text47)\n",
    "text47 = re.sub(r'\\\\x93', ' ', text47)\n",
    "text47 = re.sub(r'\\\\xc2', ' ', text47)\n",
    "text47 = re.sub(r'\\\\xa0', ' ', text47)\n",
    "text47 = re.sub(r'\\\\xef', ' ', text47)\n",
    "text47 = re.sub(r'\\\\x83', ' ', text47)\n",
    "text47 = re.sub(r'\\\\xa3', ' ', text47)\n",
    "text47 = re.sub(r'\\\\x82', ' ', text47)\n",
    "text47 = re.sub(r'\\\\xb7', ' ', text47)"
   ]
  },
  {
   "cell_type": "code",
   "execution_count": 49,
   "metadata": {},
   "outputs": [],
   "source": [
    "text48 = textract.process(\"C:/Users/pondh/Desktop/data/Files/Internal/Power BI Training Document 2.docx\")\n",
    "text48 = str(text48)\n",
    "text48 = re.sub(r'\\\\n', ' ', text48)\n",
    "text48 = re.sub(r'\\n', ' ', text48)\n",
    "text48 = re.sub(r'\\r', ' ', text48)\n",
    "text48 = re.sub(r'\\\\t', ' ', text48)\n",
    "text48 = re.sub(r'\\\\xe2', ' ', text48)\n",
    "text48 = re.sub(r'\\\\x80', ' ', text48)\n",
    "text48 = re.sub(r'\\\\xa6', ' ', text48)\n",
    "text48 = re.sub(r'\\\\x80', ' ', text48)\n",
    "text48 = re.sub(r'\\\\x9', ' ', text48)\n",
    "text48 = re.sub(r'\\\\x9d', ' ', text48)\n",
    "text48 = re.sub(r'\\\\x94', ' ', text48)\n",
    "text48 = re.sub(r'\\\\x99s', ' ', text48)\n",
    "text48 = re.sub(r'\\\\x93', ' ', text48)\n",
    "text48 = re.sub(r'\\\\xc2', ' ', text48)\n",
    "text48 = re.sub(r'\\\\xa0', ' ', text48)\n",
    "text48 = re.sub(r'\\\\xef', ' ', text48)\n",
    "text48 = re.sub(r'\\\\x83', ' ', text48)\n",
    "text48 = re.sub(r'\\\\xa3', ' ', text48)\n",
    "text48 = re.sub(r'\\\\x82', ' ', text48)\n",
    "text48 = re.sub(r'\\\\xb7', ' ', text48)"
   ]
  },
  {
   "cell_type": "code",
   "execution_count": 50,
   "metadata": {},
   "outputs": [],
   "source": [
    "text49 = textract.process(\"C:/Users/pondh/Desktop/data/Files/Internal/Power BI Training Document 3.docx\")\n",
    "text49 = str(text49)\n",
    "text49 = re.sub(r'\\\\n', ' ', text49)\n",
    "text49 = re.sub(r'\\n', ' ', text49)\n",
    "text49 = re.sub(r'\\r', ' ', text49)\n",
    "text49 = re.sub(r'\\\\t', ' ', text49)\n",
    "text49 = re.sub(r'\\\\xe2', ' ', text49)\n",
    "text49 = re.sub(r'\\\\x80', ' ', text49)\n",
    "text49 = re.sub(r'\\\\xa6', ' ', text49)\n",
    "text49 = re.sub(r'\\\\x80', ' ', text49)\n",
    "text49 = re.sub(r'\\\\x9', ' ', text49)\n",
    "text49 = re.sub(r'\\\\x9d', ' ', text49)\n",
    "text49 = re.sub(r'\\\\x94', ' ', text49)\n",
    "text49 = re.sub(r'\\\\x99s', ' ', text49)\n",
    "text49 = re.sub(r'\\\\x93', ' ', text49)\n",
    "text49 = re.sub(r'\\\\xc2', ' ', text49)\n",
    "text49 = re.sub(r'\\\\xa0', ' ', text49)\n",
    "text49 = re.sub(r'\\\\xef', ' ', text49)\n",
    "text49 = re.sub(r'\\\\x83', ' ', text49)\n",
    "text49 = re.sub(r'\\\\xa3', ' ', text49)\n",
    "text49 = re.sub(r'\\\\x82', ' ', text49)\n",
    "text49 = re.sub(r'\\\\xb7', ' ', text49)"
   ]
  },
  {
   "cell_type": "code",
   "execution_count": 51,
   "metadata": {},
   "outputs": [],
   "source": [
    "text50 = textract.process(\"C:/Users/pondh/Desktop/data/Files/Internal/Power BI Training Document 4.docx\")\n",
    "text50 = str(text50)\n",
    "text50 = re.sub(r'\\\\n', ' ', text50)\n",
    "text50 = re.sub(r'\\n', ' ', text50)\n",
    "text50 = re.sub(r'\\r', ' ', text50)\n",
    "text50 = re.sub(r'\\\\t', ' ', text50)\n",
    "text50 = re.sub(r'\\\\xe2', ' ', text50)\n",
    "text50 = re.sub(r'\\\\x80', ' ', text50)\n",
    "text50 = re.sub(r'\\\\xa6', ' ', text50)\n",
    "text50 = re.sub(r'\\\\x80', ' ', text50)\n",
    "text50 = re.sub(r'\\\\x9', ' ', text50)\n",
    "text50 = re.sub(r'\\\\x9d', ' ', text50)\n",
    "text50 = re.sub(r'\\\\x94', ' ', text50)\n",
    "text50 = re.sub(r'\\\\x99s', ' ', text50)\n",
    "text50 = re.sub(r'\\\\x93', ' ', text50)\n",
    "text50 = re.sub(r'\\\\xc2', ' ', text50)\n",
    "text50 = re.sub(r'\\\\xa0', ' ', text50)\n",
    "text50 = re.sub(r'\\\\xef', ' ', text50)\n",
    "text50 = re.sub(r'\\\\x83', ' ', text50)\n",
    "text50 = re.sub(r'\\\\xa3', ' ', text50)\n",
    "text50 = re.sub(r'\\\\x82', ' ', text50)\n",
    "text50 = re.sub(r'\\\\xb7', ' ', text50)"
   ]
  },
  {
   "cell_type": "code",
   "execution_count": 52,
   "metadata": {},
   "outputs": [],
   "source": [
    "text51 = textract.process(\"C:/Users/pondh/Desktop/data/Files/Internal/Tutorials for SQL Server1.docx\")\n",
    "text51 = str(text51)\n",
    "text51 = re.sub(r'\\\\n', ' ', text51)\n",
    "text51 = re.sub(r'\\n', ' ', text51)\n",
    "text51 = re.sub(r'\\r', ' ', text51)\n",
    "text51 = re.sub(r'\\\\t', ' ', text51)\n",
    "text51 = re.sub(r'\\\\xe2', ' ', text51)\n",
    "text51 = re.sub(r'\\\\x80', ' ', text51)\n",
    "text51 = re.sub(r'\\\\xa6', ' ', text51)\n",
    "text51 = re.sub(r'\\\\x80', ' ', text51)\n",
    "text51 = re.sub(r'\\\\x9', ' ', text51)\n",
    "text51 = re.sub(r'\\\\x9d', ' ', text51)\n",
    "text51 = re.sub(r'\\\\x94', ' ', text51)\n",
    "text51 = re.sub(r'\\\\x99s', ' ', text51)\n",
    "text51 = re.sub(r'\\\\x93', ' ', text51)\n",
    "text51 = re.sub(r'\\\\xc2', ' ', text51)\n",
    "text51 = re.sub(r'\\\\xa0', ' ', text51)\n",
    "text51 = re.sub(r'\\\\xef', ' ', text51)\n",
    "text51 = re.sub(r'\\\\x83', ' ', text51)\n",
    "text51 = re.sub(r'\\\\xa3', ' ', text51)\n",
    "text51 = re.sub(r'\\\\x82', ' ', text51)\n",
    "text51 = re.sub(r'\\\\xb7', ' ', text51)"
   ]
  },
  {
   "cell_type": "code",
   "execution_count": 53,
   "metadata": {},
   "outputs": [],
   "source": [
    "text52 = textract.process(\"C:/Users/pondh/Desktop/data/Files/Internal/Tutorials for SQL Server2.docx\")\n",
    "text52 = str(text52)\n",
    "text52 = re.sub(r'\\\\n', ' ', text52)\n",
    "text52 = re.sub(r'\\n', ' ', text52)\n",
    "text52 = re.sub(r'\\r', ' ', text52)\n",
    "text52 = re.sub(r'\\\\t', ' ', text52)\n",
    "text52 = re.sub(r'\\\\xe2', ' ', text52)\n",
    "text52 = re.sub(r'\\\\x80', ' ', text52)\n",
    "text52 = re.sub(r'\\\\xa6', ' ', text52)\n",
    "text52 = re.sub(r'\\\\x80', ' ', text52)\n",
    "text52 = re.sub(r'\\\\x9', ' ', text52)\n",
    "text52 = re.sub(r'\\\\x9d', ' ', text52)\n",
    "text52 = re.sub(r'\\\\x94', ' ', text52)\n",
    "text52 = re.sub(r'\\\\x99s', ' ', text52)\n",
    "text52 = re.sub(r'\\\\x93', ' ', text52)\n",
    "text52 = re.sub(r'\\\\xc2', ' ', text52)\n",
    "text52 = re.sub(r'\\\\xa0', ' ', text52)\n",
    "text52 = re.sub(r'\\\\xef', ' ', text52)\n",
    "text52 = re.sub(r'\\\\x83', ' ', text52)\n",
    "text52 = re.sub(r'\\\\xa3', ' ', text52)\n",
    "text52 = re.sub(r'\\\\x82', ' ', text52)\n",
    "text52 = re.sub(r'\\\\xb7', ' ', text52)"
   ]
  },
  {
   "cell_type": "code",
   "execution_count": 54,
   "metadata": {},
   "outputs": [],
   "source": [
    "text53 = textract.process(\"C:/Users/pondh/Desktop/data/Files/Internal/Tutorials for SQL Server3.docx\")\n",
    "text53 = str(text53)\n",
    "text53 = re.sub(r'\\\\n', ' ', text53)\n",
    "text53 = re.sub(r'\\n', ' ', text53)\n",
    "text53 = re.sub(r'\\r', ' ', text53)\n",
    "text53 = re.sub(r'\\\\t', ' ', text53)\n",
    "text53 = re.sub(r'\\\\xe2', ' ', text53)\n",
    "text53 = re.sub(r'\\\\x80', ' ', text53)\n",
    "text53 = re.sub(r'\\\\xa6', ' ', text53)\n",
    "text53 = re.sub(r'\\\\x80', ' ', text53)\n",
    "text53 = re.sub(r'\\\\x9', ' ', text53)\n",
    "text53 = re.sub(r'\\\\x9d', ' ', text53)\n",
    "text53 = re.sub(r'\\\\x94', ' ', text53)\n",
    "text53 = re.sub(r'\\\\x99s', ' ', text53)\n",
    "text53 = re.sub(r'\\\\x93', ' ', text53)\n",
    "text53 = re.sub(r'\\\\xc2', ' ', text53)\n",
    "text53 = re.sub(r'\\\\xa0', ' ', text53)\n",
    "text53 = re.sub(r'\\\\xef', ' ', text53)\n",
    "text53 = re.sub(r'\\\\x83', ' ', text53)\n",
    "text53 = re.sub(r'\\\\xa3', ' ', text53)\n",
    "text53 = re.sub(r'\\\\x82', ' ', text53)\n",
    "text53 = re.sub(r'\\\\xb7', ' ', text53)"
   ]
  },
  {
   "cell_type": "code",
   "execution_count": 55,
   "metadata": {},
   "outputs": [],
   "source": [
    "text54 = textract.process(\"C:/Users/pondh/Desktop/data/Files/Internal/Tutorials for SQL Server4.docx\")\n",
    "text54 = str(text54)\n",
    "text54 = re.sub(r'\\\\n', ' ', text54)\n",
    "text54 = re.sub(r'\\n', ' ', text54)\n",
    "text54 = re.sub(r'\\r', ' ', text54)\n",
    "text54 = re.sub(r'\\\\t', ' ', text54)\n",
    "text54 = re.sub(r'\\\\xe2', ' ', text54)\n",
    "text54 = re.sub(r'\\\\x80', ' ', text54)\n",
    "text54 = re.sub(r'\\\\xa6', ' ', text54)\n",
    "text54 = re.sub(r'\\\\x80', ' ', text54)\n",
    "text54 = re.sub(r'\\\\x9', ' ', text54)\n",
    "text54 = re.sub(r'\\\\x9d', ' ', text54)\n",
    "text54 = re.sub(r'\\\\x94', ' ', text54)\n",
    "text54 = re.sub(r'\\\\x99s', ' ', text54)\n",
    "text54 = re.sub(r'\\\\x93', ' ', text54)\n",
    "text54 = re.sub(r'\\\\xc2', ' ', text54)\n",
    "text54 = re.sub(r'\\\\xa0', ' ', text54)\n",
    "text54 = re.sub(r'\\\\xef', ' ', text54)\n",
    "text54 = re.sub(r'\\\\x83', ' ', text54)\n",
    "text54 = re.sub(r'\\\\xa3', ' ', text54)\n",
    "text54 = re.sub(r'\\\\x82', ' ', text54)\n",
    "text54 = re.sub(r'\\\\xb7', ' ', text54)"
   ]
  },
  {
   "cell_type": "code",
   "execution_count": 56,
   "metadata": {},
   "outputs": [],
   "source": [
    "text55 = textract.process(\"C:/Users/pondh/Desktop/data/Files/Internal/Tutorials for SQL Server5.docx\")\n",
    "text55 = str(text55)\n",
    "text55 = re.sub(r'\\\\n', ' ', text55)\n",
    "text55 = re.sub(r'\\n', ' ', text55)\n",
    "text55 = re.sub(r'\\r', ' ', text55)\n",
    "text55 = re.sub(r'\\\\t', ' ', text55)\n",
    "text55 = re.sub(r'\\\\xe2', ' ', text55)\n",
    "text55 = re.sub(r'\\\\x80', ' ', text55)\n",
    "text55 = re.sub(r'\\\\xa6', ' ', text55)\n",
    "text55 = re.sub(r'\\\\x80', ' ', text55)\n",
    "text55 = re.sub(r'\\\\x9', ' ', text55)\n",
    "text55 = re.sub(r'\\\\x9d', ' ', text55)\n",
    "text55 = re.sub(r'\\\\x94', ' ', text55)\n",
    "text55 = re.sub(r'\\\\x99s', ' ', text55)\n",
    "text55 = re.sub(r'\\\\x93', ' ', text55)\n",
    "text55 = re.sub(r'\\\\xc2', ' ', text55)\n",
    "text55 = re.sub(r'\\\\xa0', ' ', text55)\n",
    "text55 = re.sub(r'\\\\xef', ' ', text55)\n",
    "text55 = re.sub(r'\\\\x83', ' ', text55)\n",
    "text55 = re.sub(r'\\\\xa3', ' ', text55)\n",
    "text55 = re.sub(r'\\\\x82', ' ', text55)\n",
    "text55 = re.sub(r'\\\\xb7', ' ', text55)"
   ]
  },
  {
   "cell_type": "code",
   "execution_count": 57,
   "metadata": {},
   "outputs": [],
   "source": [
    "text56 = textract.process(\"C:/Users/pondh/Desktop/data/Files/Public/ApplePressReleaseFeb8.docx\")\n",
    "text56 = str(text56)\n",
    "text56 = re.sub(r'\\\\n', ' ', text56)\n",
    "text56 = re.sub(r'\\n', ' ', text56)\n",
    "text56 = re.sub(r'\\r', ' ', text56)\n",
    "text56 = re.sub(r'\\\\t', ' ', text56)\n",
    "text56 = re.sub(r'\\\\xe2', ' ', text56)\n",
    "text56 = re.sub(r'\\\\x80', ' ', text56)\n",
    "text56 = re.sub(r'\\\\xa6', ' ', text56)\n",
    "text56 = re.sub(r'\\\\x80', ' ', text56)\n",
    "text56 = re.sub(r'\\\\x9', ' ', text56)\n",
    "text56 = re.sub(r'\\\\x9d', ' ', text56)\n",
    "text56 = re.sub(r'\\\\x94', ' ', text56)\n",
    "text56 = re.sub(r'\\\\x99s', ' ', text56)\n",
    "text56 = re.sub(r'\\\\x93', ' ', text56)\n",
    "text56 = re.sub(r'\\\\xc2', ' ', text56)\n",
    "text56 = re.sub(r'\\\\xa0', ' ', text56)\n",
    "text56 = re.sub(r'\\\\xef', ' ', text56)\n",
    "text56 = re.sub(r'\\\\x83', ' ', text56)\n",
    "text56 = re.sub(r'\\\\xa3', ' ', text56)\n",
    "text56 = re.sub(r'\\\\x82', ' ', text56)\n",
    "text56 = re.sub(r'\\\\xb7', ' ', text56)"
   ]
  },
  {
   "cell_type": "code",
   "execution_count": 58,
   "metadata": {},
   "outputs": [],
   "source": [
    "text57 = textract.process(\"C:/Users/pondh/Desktop/data/Files/Public/ApplePressReleaseFeb10.docx\")\n",
    "text57 = str(text57)\n",
    "text57 = re.sub(r'\\\\n', ' ', text57)\n",
    "text57 = re.sub(r'\\n', ' ', text57)\n",
    "text57 = re.sub(r'\\r', ' ', text57)\n",
    "text57 = re.sub(r'\\\\t', ' ', text57)\n",
    "text57 = re.sub(r'\\\\xe2', ' ', text57)\n",
    "text57 = re.sub(r'\\\\x80', ' ', text57)\n",
    "text57 = re.sub(r'\\\\xa6', ' ', text57)\n",
    "text57 = re.sub(r'\\\\x80', ' ', text57)\n",
    "text57 = re.sub(r'\\\\x9', ' ', text57)\n",
    "text57 = re.sub(r'\\\\x9d', ' ', text57)\n",
    "text57 = re.sub(r'\\\\x94', ' ', text57)\n",
    "text57 = re.sub(r'\\\\x99s', ' ', text57)\n",
    "text57 = re.sub(r'\\\\x93', ' ', text57)\n",
    "text57 = re.sub(r'\\\\xc2', ' ', text57)\n",
    "text57 = re.sub(r'\\\\xa0', ' ', text57)\n",
    "text57 = re.sub(r'\\\\xef', ' ', text57)\n",
    "text57 = re.sub(r'\\\\x83', ' ', text57)\n",
    "text57 = re.sub(r'\\\\xa3', ' ', text57)\n",
    "text57 = re.sub(r'\\\\x82', ' ', text57)\n",
    "text57 = re.sub(r'\\\\xb7', ' ', text57)"
   ]
  },
  {
   "cell_type": "code",
   "execution_count": 59,
   "metadata": {},
   "outputs": [],
   "source": [
    "text58 = textract.process(\"C:/Users/pondh/Desktop/data/Files/Public/ApplePressReleaseJan31.docx\")\n",
    "text58 = str(text58)\n",
    "text58 = re.sub(r'\\\\n', ' ', text58)\n",
    "text58 = re.sub(r'\\n', ' ', text58)\n",
    "text58 = re.sub(r'\\r', ' ', text58)\n",
    "text58 = re.sub(r'\\\\t', ' ', text58)\n",
    "text58 = re.sub(r'\\\\xe2', ' ', text58)\n",
    "text58 = re.sub(r'\\\\x80', ' ', text58)\n",
    "text58 = re.sub(r'\\\\xa6', ' ', text58)\n",
    "text58 = re.sub(r'\\\\x80', ' ', text58)\n",
    "text58 = re.sub(r'\\\\x9', ' ', text58)\n",
    "text58 = re.sub(r'\\\\x9d', ' ', text58)\n",
    "text58 = re.sub(r'\\\\x94', ' ', text58)\n",
    "text58 = re.sub(r'\\\\x99s', ' ', text58)\n",
    "text58 = re.sub(r'\\\\x93', ' ', text58)\n",
    "text58 = re.sub(r'\\\\xc2', ' ', text58)\n",
    "text58 = re.sub(r'\\\\xa0', ' ', text58)\n",
    "text58 = re.sub(r'\\\\xef', ' ', text58)\n",
    "text58 = re.sub(r'\\\\x83', ' ', text58)\n",
    "text58 = re.sub(r'\\\\xa3', ' ', text58)\n",
    "text58 = re.sub(r'\\\\x82', ' ', text58)\n",
    "text58 = re.sub(r'\\\\xb7', ' ', text58)"
   ]
  },
  {
   "cell_type": "code",
   "execution_count": 60,
   "metadata": {},
   "outputs": [],
   "source": [
    "text59 = textract.process(\"C:/Users/pondh/Desktop/data/Files/Public/MicrosoftPressReleaseFeb92021.docx\")\n",
    "text59 = str(text59)\n",
    "text59 = re.sub(r'\\\\n', ' ', text59)\n",
    "text59 = re.sub(r'\\n', ' ', text59)\n",
    "text59 = re.sub(r'\\r', ' ', text59)\n",
    "text59 = re.sub(r'\\\\t', ' ', text59)\n",
    "text59 = re.sub(r'\\\\xe2', ' ', text59)\n",
    "text59 = re.sub(r'\\\\x80', ' ', text59)\n",
    "text59 = re.sub(r'\\\\xa6', ' ', text59)\n",
    "text59 = re.sub(r'\\\\x80', ' ', text59)\n",
    "text59 = re.sub(r'\\\\x9', ' ', text59)\n",
    "text59 = re.sub(r'\\\\x9d', ' ', text59)\n",
    "text59 = re.sub(r'\\\\x94', ' ', text59)\n",
    "text59 = re.sub(r'\\\\x99s', ' ', text59)\n",
    "text59 = re.sub(r'\\\\x93', ' ', text59)\n",
    "text59 = re.sub(r'\\\\xc2', ' ', text59)\n",
    "text59 = re.sub(r'\\\\xa0', ' ', text59)\n",
    "text59 = re.sub(r'\\\\xef', ' ', text59)\n",
    "text59 = re.sub(r'\\\\x83', ' ', text59)\n",
    "text59 = re.sub(r'\\\\xa3', ' ', text59)\n",
    "text59 = re.sub(r'\\\\x82', ' ', text59)\n",
    "text59 = re.sub(r'\\\\xb7', ' ', text59)"
   ]
  },
  {
   "cell_type": "code",
   "execution_count": 61,
   "metadata": {},
   "outputs": [],
   "source": [
    "text60 = textract.process(\"C:/Users/pondh/Desktop/data/Files/Public/MicrosoftPressReleaseFeb222021.docx\")\n",
    "text60 = str(text60)\n",
    "text60 = re.sub(r'\\\\n', ' ', text60)\n",
    "text60 = re.sub(r'\\n', ' ', text60)\n",
    "text60 = re.sub(r'\\r', ' ', text60)\n",
    "text60 = re.sub(r'\\\\t', ' ', text60)\n",
    "text60 = re.sub(r'\\\\xe2', ' ', text60)\n",
    "text60 = re.sub(r'\\\\x80', ' ', text60)\n",
    "text60 = re.sub(r'\\\\xa6', ' ', text60)\n",
    "text60 = re.sub(r'\\\\x80', ' ', text60)\n",
    "text60 = re.sub(r'\\\\x9', ' ', text60)\n",
    "text60 = re.sub(r'\\\\x9d', ' ', text60)\n",
    "text60 = re.sub(r'\\\\x94', ' ', text60)\n",
    "text60 = re.sub(r'\\\\x99s', ' ', text60)\n",
    "text60 = re.sub(r'\\\\x93', ' ', text60)\n",
    "text60 = re.sub(r'\\\\xc2', ' ', text60)\n",
    "text60 = re.sub(r'\\\\xa0', ' ', text60)\n",
    "text60 = re.sub(r'\\\\xef', ' ', text60)\n",
    "text60 = re.sub(r'\\\\x83', ' ', text60)\n",
    "text60 = re.sub(r'\\\\xa3', ' ', text60)\n",
    "text60 = re.sub(r'\\\\x82', ' ', text60)\n",
    "text60 = re.sub(r'\\\\xb7', ' ', text60)"
   ]
  },
  {
   "cell_type": "code",
   "execution_count": 62,
   "metadata": {},
   "outputs": [],
   "source": [
    "text61 = textract.process(\"C:/Users/pondh/Desktop/data/Files/Public/Meta Fourth Quarter 2021 Results Feb2.docx\")\n",
    "text61 = str(text61)\n",
    "text61 = re.sub(r'\\\\n', ' ', text61)\n",
    "text61 = re.sub(r'\\n', ' ', text61)\n",
    "text61 = re.sub(r'\\r', ' ', text61)\n",
    "text61 = re.sub(r'\\\\t', ' ', text61)\n",
    "text61 = re.sub(r'\\\\xe2', ' ', text61)\n",
    "text61 = re.sub(r'\\\\x80', ' ', text61)\n",
    "text61 = re.sub(r'\\\\xa6', ' ', text61)\n",
    "text61 = re.sub(r'\\\\x80', ' ', text61)\n",
    "text61 = re.sub(r'\\\\x9', ' ', text61)\n",
    "text61 = re.sub(r'\\\\x9d', ' ', text61)\n",
    "text61 = re.sub(r'\\\\x94', ' ', text61)\n",
    "text61 = re.sub(r'\\\\x99s', ' ', text61)\n",
    "text61 = re.sub(r'\\\\x93', ' ', text61)\n",
    "text61 = re.sub(r'\\\\xc2', ' ', text61)\n",
    "text61 = re.sub(r'\\\\xa0', ' ', text61)\n",
    "text61 = re.sub(r'\\\\xef', ' ', text61)\n",
    "text61 = re.sub(r'\\\\x83', ' ', text61)\n",
    "text61 = re.sub(r'\\\\xa3', ' ', text61)\n",
    "text61 = re.sub(r'\\\\x82', ' ', text61)\n",
    "text61 = re.sub(r'\\\\xb7', ' ', text61)"
   ]
  },
  {
   "cell_type": "code",
   "execution_count": 63,
   "metadata": {},
   "outputs": [],
   "source": [
    "text62 = textract.process(\"C:/Users/pondh/Desktop/data/Files/Public/Meta Press Release Feb22.docx\")\n",
    "text62 = str(text62)\n",
    "text62 = re.sub(r'\\\\n', ' ', text62)\n",
    "text62 = re.sub(r'\\n', ' ', text62)\n",
    "text62 = re.sub(r'\\r', ' ', text62)\n",
    "text62 = re.sub(r'\\\\t', ' ', text62)\n",
    "text62 = re.sub(r'\\\\xe2', ' ', text62)\n",
    "text62 = re.sub(r'\\\\x80', ' ', text62)\n",
    "text62 = re.sub(r'\\\\xa6', ' ', text62)\n",
    "text62 = re.sub(r'\\\\x80', ' ', text62)\n",
    "text62 = re.sub(r'\\\\x9', ' ', text62)\n",
    "text62 = re.sub(r'\\\\x9d', ' ', text62)\n",
    "text62 = re.sub(r'\\\\x94', ' ', text62)\n",
    "text62 = re.sub(r'\\\\x99s', ' ', text62)\n",
    "text62 = re.sub(r'\\\\x93', ' ', text62)\n",
    "text62 = re.sub(r'\\\\xc2', ' ', text62)\n",
    "text62 = re.sub(r'\\\\xa0', ' ', text62)\n",
    "text62 = re.sub(r'\\\\xef', ' ', text62)\n",
    "text62 = re.sub(r'\\\\x83', ' ', text62)\n",
    "text62 = re.sub(r'\\\\xa3', ' ', text62)\n",
    "text62 = re.sub(r'\\\\x82', ' ', text62)\n",
    "text62 = re.sub(r'\\\\xb7', ' ', text62)"
   ]
  },
  {
   "cell_type": "code",
   "execution_count": 64,
   "metadata": {},
   "outputs": [],
   "source": [
    "text63 = textract.process(\"C:/Users/pondh/Desktop/data/Files/Public/Meta Investor Relations Feb7.docx\")\n",
    "text63 = str(text63)\n",
    "text63 = re.sub(r'\\\\n', ' ', text63)\n",
    "text63 = re.sub(r'\\n', ' ', text63)\n",
    "text63 = re.sub(r'\\r', ' ', text63)\n",
    "text63 = re.sub(r'\\\\t', ' ', text63)\n",
    "text63 = re.sub(r'\\\\xe2', ' ', text63)\n",
    "text63 = re.sub(r'\\\\x80', ' ', text63)\n",
    "text63 = re.sub(r'\\\\xa6', ' ', text63)\n",
    "text63 = re.sub(r'\\\\x80', ' ', text63)\n",
    "text63 = re.sub(r'\\\\x9', ' ', text63)\n",
    "text63 = re.sub(r'\\\\x9d', ' ', text63)\n",
    "text63 = re.sub(r'\\\\x94', ' ', text63)\n",
    "text63 = re.sub(r'\\\\x99s', ' ', text63)\n",
    "text63 = re.sub(r'\\\\x93', ' ', text63)\n",
    "text63 = re.sub(r'\\\\xc2', ' ', text63)\n",
    "text63 = re.sub(r'\\\\xa0', ' ', text63)\n",
    "text63 = re.sub(r'\\\\xef', ' ', text63)\n",
    "text63 = re.sub(r'\\\\x83', ' ', text63)\n",
    "text63 = re.sub(r'\\\\xa3', ' ', text63)\n",
    "text63 = re.sub(r'\\\\x82', ' ', text63)\n",
    "text63 = re.sub(r'\\\\xb7', ' ', text63)"
   ]
  },
  {
   "cell_type": "code",
   "execution_count": 65,
   "metadata": {},
   "outputs": [],
   "source": [
    "text64 = textract.process(\"C:/Users/pondh/Desktop/data/Files/Confidential/SupplierInformationDec2021.docx\")\n",
    "text64 = str(text64)\n",
    "text64 = re.sub(r'\\\\n', ' ', text64)\n",
    "text64 = re.sub(r'\\n', ' ', text64)\n",
    "text64 = re.sub(r'\\r', ' ', text64)\n",
    "text64 = re.sub(r'\\\\t', ' ', text64)\n",
    "text64 = re.sub(r'\\\\xe2', ' ', text64)\n",
    "text64 = re.sub(r'\\\\x80', ' ', text64)\n",
    "text64 = re.sub(r'\\\\xa6', ' ', text64)\n",
    "text64 = re.sub(r'\\\\x80', ' ', text64)\n",
    "text64 = re.sub(r'\\\\x9', ' ', text64)\n",
    "text64 = re.sub(r'\\\\x9d', ' ', text64)\n",
    "text64 = re.sub(r'\\\\x94', ' ', text64)\n",
    "text64 = re.sub(r'\\\\x99s', ' ', text64)\n",
    "text64 = re.sub(r'\\\\x93', ' ', text64)\n",
    "text64 = re.sub(r'\\\\xc2', ' ', text64)\n",
    "text64 = re.sub(r'\\\\xa0', ' ', text64)\n",
    "text64 = re.sub(r'\\\\xef', ' ', text64)\n",
    "text64 = re.sub(r'\\\\x83', ' ', text64)\n",
    "text64 = re.sub(r'\\\\xa3', ' ', text64)\n",
    "text64 = re.sub(r'\\\\x82', ' ', text64)\n",
    "text64 = re.sub(r'\\\\xb7', ' ', text64)"
   ]
  },
  {
   "cell_type": "code",
   "execution_count": 66,
   "metadata": {},
   "outputs": [],
   "source": [
    "text65 = textract.process(\"C:/Users/pondh/Desktop/data/Files/Confidential/SupplierInformationNov2021.docx\")\n",
    "text65 = str(text65)\n",
    "text65 = re.sub(r'\\\\n', ' ', text65)\n",
    "text65 = re.sub(r'\\n', ' ', text65)\n",
    "text65 = re.sub(r'\\r', ' ', text65)\n",
    "text65 = re.sub(r'\\\\t', ' ', text65)\n",
    "text65 = re.sub(r'\\\\xe2', ' ', text65)\n",
    "text65 = re.sub(r'\\\\x80', ' ', text65)\n",
    "text65 = re.sub(r'\\\\xa6', ' ', text65)\n",
    "text65 = re.sub(r'\\\\x80', ' ', text65)\n",
    "text65 = re.sub(r'\\\\x9', ' ', text65)\n",
    "text65 = re.sub(r'\\\\x9d', ' ', text65)\n",
    "text65 = re.sub(r'\\\\x94', ' ', text65)\n",
    "text65 = re.sub(r'\\\\x99s', ' ', text65)\n",
    "text65 = re.sub(r'\\\\x93', ' ', text65)\n",
    "text65 = re.sub(r'\\\\xc2', ' ', text65)\n",
    "text65 = re.sub(r'\\\\xa0', ' ', text65)\n",
    "text65 = re.sub(r'\\\\xef', ' ', text65)\n",
    "text65 = re.sub(r'\\\\x83', ' ', text65)\n",
    "text65 = re.sub(r'\\\\xa3', ' ', text65)\n",
    "text65 = re.sub(r'\\\\x82', ' ', text65)\n",
    "text65 = re.sub(r'\\\\xb7', ' ', text65)"
   ]
  },
  {
   "cell_type": "code",
   "execution_count": 67,
   "metadata": {},
   "outputs": [],
   "source": [
    "text66 = textract.process(\"C:/Users/pondh/Desktop/data/Files/Confidential/SupplierInformationOct2021.docx\")\n",
    "text66 = str(text66)\n",
    "text66 = re.sub(r'\\\\n', ' ', text66)\n",
    "text66 = re.sub(r'\\n', ' ', text66)\n",
    "text66 = re.sub(r'\\r', ' ', text66)\n",
    "text66 = re.sub(r'\\\\t', ' ', text66)\n",
    "text66 = re.sub(r'\\\\xe2', ' ', text66)\n",
    "text66 = re.sub(r'\\\\x80', ' ', text66)\n",
    "text66 = re.sub(r'\\\\xa6', ' ', text66)\n",
    "text66 = re.sub(r'\\\\x80', ' ', text66)\n",
    "text66 = re.sub(r'\\\\x9', ' ', text66)\n",
    "text66 = re.sub(r'\\\\x9d', ' ', text66)\n",
    "text66 = re.sub(r'\\\\x94', ' ', text66)\n",
    "text66 = re.sub(r'\\\\x99s', ' ', text66)\n",
    "text66 = re.sub(r'\\\\x93', ' ', text66)\n",
    "text66 = re.sub(r'\\\\xc2', ' ', text66)\n",
    "text66 = re.sub(r'\\\\xa0', ' ', text66)\n",
    "text66 = re.sub(r'\\\\xef', ' ', text66)\n",
    "text66 = re.sub(r'\\\\x83', ' ', text66)\n",
    "text66 = re.sub(r'\\\\xa3', ' ', text66)\n",
    "text66 = re.sub(r'\\\\x82', ' ', text66)\n",
    "text66 = re.sub(r'\\\\xb7', ' ', text66)"
   ]
  },
  {
   "cell_type": "code",
   "execution_count": 68,
   "metadata": {},
   "outputs": [],
   "source": [
    "text67 = textract.process(\"C:/Users/pondh/Desktop/data/Files/Confidential/Expense Report for July 2021.docx\")\n",
    "text67 = str(text67)\n",
    "text67 = re.sub(r'\\\\n', ' ', text67)\n",
    "text67 = re.sub(r'\\n', ' ', text67)\n",
    "text67 = re.sub(r'\\r', ' ', text67)\n",
    "text67 = re.sub(r'\\\\t', ' ', text67)\n",
    "text67 = re.sub(r'\\\\xe2', ' ', text67)\n",
    "text67 = re.sub(r'\\\\x80', ' ', text67)\n",
    "text67 = re.sub(r'\\\\xa6', ' ', text67)\n",
    "text67 = re.sub(r'\\\\x80', ' ', text67)\n",
    "text67 = re.sub(r'\\\\x9', ' ', text67)\n",
    "text67 = re.sub(r'\\\\x9d', ' ', text67)\n",
    "text67 = re.sub(r'\\\\x94', ' ', text67)\n",
    "text67 = re.sub(r'\\\\x99s', ' ', text67)\n",
    "text67 = re.sub(r'\\\\x93', ' ', text67)\n",
    "text67 = re.sub(r'\\\\xc2', ' ', text67)\n",
    "text67 = re.sub(r'\\\\xa0', ' ', text67)\n",
    "text67 = re.sub(r'\\\\xef', ' ', text67)\n",
    "text67 = re.sub(r'\\\\x83', ' ', text67)\n",
    "text67 = re.sub(r'\\\\xa3', ' ', text67)\n",
    "text67 = re.sub(r'\\\\x82', ' ', text67)\n",
    "text67 = re.sub(r'\\\\xb7', ' ', text67)"
   ]
  },
  {
   "cell_type": "code",
   "execution_count": 69,
   "metadata": {},
   "outputs": [],
   "source": [
    "text68 = textract.process(\"C:/Users/pondh/Desktop/data/Files/Confidential/VendorInfo2.docx\")\n",
    "text68 = str(text68)\n",
    "text68 = re.sub(r'\\\\n', ' ', text68)\n",
    "text68 = re.sub(r'\\n', ' ', text68)\n",
    "text68 = re.sub(r'\\r', ' ', text68)\n",
    "text68 = re.sub(r'\\\\t', ' ', text68)\n",
    "text68 = re.sub(r'\\\\xe2', ' ', text68)\n",
    "text68 = re.sub(r'\\\\x80', ' ', text68)\n",
    "text68 = re.sub(r'\\\\xa6', ' ', text68)\n",
    "text68 = re.sub(r'\\\\x80', ' ', text68)\n",
    "text68 = re.sub(r'\\\\x9', ' ', text68)\n",
    "text68 = re.sub(r'\\\\x9d', ' ', text68)\n",
    "text68 = re.sub(r'\\\\x94', ' ', text68)\n",
    "text68 = re.sub(r'\\\\x99s', ' ', text68)\n",
    "text68 = re.sub(r'\\\\x93', ' ', text68)\n",
    "text68 = re.sub(r'\\\\xc2', ' ', text68)\n",
    "text68 = re.sub(r'\\\\xa0', ' ', text68)\n",
    "text68 = re.sub(r'\\\\xef', ' ', text68)\n",
    "text68 = re.sub(r'\\\\x83', ' ', text68)\n",
    "text68 = re.sub(r'\\\\xa3', ' ', text68)\n",
    "text68 = re.sub(r'\\\\x82', ' ', text68)\n",
    "text68 = re.sub(r'\\\\xb7', ' ', text68)"
   ]
  },
  {
   "cell_type": "code",
   "execution_count": 70,
   "metadata": {},
   "outputs": [],
   "source": [
    "text69 = textract.process(\"C:/Users/pondh/Desktop/data/Files/Confidential/VendorInfo3.docx\")\n",
    "text69 = str(text69)\n",
    "text69 = re.sub(r'\\\\n', ' ', text69)\n",
    "text69 = re.sub(r'\\n', ' ', text69)\n",
    "text69 = re.sub(r'\\r', ' ', text69)\n",
    "text69 = re.sub(r'\\\\t', ' ', text69)\n",
    "text69 = re.sub(r'\\\\xe2', ' ', text69)\n",
    "text69 = re.sub(r'\\\\x80', ' ', text69)\n",
    "text69 = re.sub(r'\\\\xa6', ' ', text69)\n",
    "text69 = re.sub(r'\\\\x80', ' ', text69)\n",
    "text69 = re.sub(r'\\\\x9', ' ', text69)\n",
    "text69 = re.sub(r'\\\\x9d', ' ', text69)\n",
    "text69 = re.sub(r'\\\\x94', ' ', text69)\n",
    "text69 = re.sub(r'\\\\x99s', ' ', text69)\n",
    "text69 = re.sub(r'\\\\x93', ' ', text69)\n",
    "text69 = re.sub(r'\\\\xc2', ' ', text69)\n",
    "text69 = re.sub(r'\\\\xa0', ' ', text69)\n",
    "text69 = re.sub(r'\\\\xef', ' ', text69)\n",
    "text69 = re.sub(r'\\\\x83', ' ', text69)\n",
    "text69 = re.sub(r'\\\\xa3', ' ', text69)\n",
    "text69 = re.sub(r'\\\\x82', ' ', text69)\n",
    "text69 = re.sub(r'\\\\xb7', ' ', text69)"
   ]
  },
  {
   "cell_type": "code",
   "execution_count": 71,
   "metadata": {},
   "outputs": [],
   "source": [
    "text70 = textract.process(\"C:/Users/pondh/Desktop/data/Files/Confidential/VendorInfo4.docx\")\n",
    "text70 = str(text70)\n",
    "text70 = re.sub(r'\\\\n', ' ', text70)\n",
    "text70 = re.sub(r'\\n', ' ', text70)\n",
    "text70 = re.sub(r'\\r', ' ', text70)\n",
    "text70 = re.sub(r'\\\\t', ' ', text70)\n",
    "text70 = re.sub(r'\\\\xe2', ' ', text70)\n",
    "text70 = re.sub(r'\\\\x80', ' ', text70)\n",
    "text70 = re.sub(r'\\\\xa6', ' ', text70)\n",
    "text70 = re.sub(r'\\\\x80', ' ', text70)\n",
    "text70 = re.sub(r'\\\\x9', ' ', text70)\n",
    "text70 = re.sub(r'\\\\x9d', ' ', text70)\n",
    "text70 = re.sub(r'\\\\x94', ' ', text70)\n",
    "text70 = re.sub(r'\\\\x99s', ' ', text70)\n",
    "text70 = re.sub(r'\\\\x93', ' ', text70)\n",
    "text70 = re.sub(r'\\\\xc2', ' ', text70)\n",
    "text70 = re.sub(r'\\\\xa0', ' ', text70)\n",
    "text70 = re.sub(r'\\\\xef', ' ', text70)\n",
    "text70 = re.sub(r'\\\\x83', ' ', text70)\n",
    "text70 = re.sub(r'\\\\xa3', ' ', text70)\n",
    "text70 = re.sub(r'\\\\x82', ' ', text70)\n",
    "text70 = re.sub(r'\\\\xb7', ' ', text70)"
   ]
  },
  {
   "cell_type": "code",
   "execution_count": 72,
   "metadata": {},
   "outputs": [],
   "source": [
    "text71 = textract.process(\"C:/Users/pondh/Desktop/data/Files/Confidential/VendorInfo5.docx\")\n",
    "text71 = str(text71)\n",
    "text71 = re.sub(r'\\\\n', ' ', text71)\n",
    "text71 = re.sub(r'\\n', ' ', text71)\n",
    "text71 = re.sub(r'\\r', ' ', text71)\n",
    "text71 = re.sub(r'\\\\t', ' ', text71)\n",
    "text71 = re.sub(r'\\\\xe2', ' ', text71)\n",
    "text71 = re.sub(r'\\\\x80', ' ', text71)\n",
    "text71 = re.sub(r'\\\\xa6', ' ', text71)\n",
    "text71 = re.sub(r'\\\\x80', ' ', text71)\n",
    "text71 = re.sub(r'\\\\x9', ' ', text71)\n",
    "text71 = re.sub(r'\\\\x9d', ' ', text71)\n",
    "text71 = re.sub(r'\\\\x94', ' ', text71)\n",
    "text71 = re.sub(r'\\\\x99s', ' ', text71)\n",
    "text71 = re.sub(r'\\\\x93', ' ', text71)\n",
    "text71 = re.sub(r'\\\\xc2', ' ', text71)\n",
    "text71 = re.sub(r'\\\\xa0', ' ', text71)\n",
    "text71 = re.sub(r'\\\\xef', ' ', text71)\n",
    "text71 = re.sub(r'\\\\x83', ' ', text71)\n",
    "text71 = re.sub(r'\\\\xa3', ' ', text71)\n",
    "text71 = re.sub(r'\\\\x82', ' ', text71)\n",
    "text71 = re.sub(r'\\\\xb7', ' ', text71)"
   ]
  },
  {
   "cell_type": "code",
   "execution_count": 73,
   "metadata": {},
   "outputs": [],
   "source": [
    "text72 = textract.process(\"C:/Users/pondh/Desktop/data/Files/Restricted/CustomerRefundListSep2020.docx\")\n",
    "text72 = str(text72)\n",
    "text72 = re.sub(r'\\\\n', ' ', text72)\n",
    "text72 = re.sub(r'\\n', ' ', text72)\n",
    "text72 = re.sub(r'\\r', ' ', text72)\n",
    "text72 = re.sub(r'\\\\t', ' ', text72)\n",
    "text72 = re.sub(r'\\\\xe2', ' ', text72)\n",
    "text72 = re.sub(r'\\\\x80', ' ', text72)\n",
    "text72 = re.sub(r'\\\\xa6', ' ', text72)\n",
    "text72 = re.sub(r'\\\\x80', ' ', text72)\n",
    "text72 = re.sub(r'\\\\x9', ' ', text72)\n",
    "text72 = re.sub(r'\\\\x9d', ' ', text72)\n",
    "text72 = re.sub(r'\\\\x94', ' ', text72)\n",
    "text72 = re.sub(r'\\\\x99s', ' ', text72)\n",
    "text72 = re.sub(r'\\\\x93', ' ', text72)\n",
    "text72 = re.sub(r'\\\\xc2', ' ', text72)\n",
    "text72 = re.sub(r'\\\\xa0', ' ', text72)\n",
    "text72 = re.sub(r'\\\\xef', ' ', text72)\n",
    "text72 = re.sub(r'\\\\x83', ' ', text72)\n",
    "text72 = re.sub(r'\\\\xa3', ' ', text72)\n",
    "text72 = re.sub(r'\\\\x82', ' ', text72)\n",
    "text72 = re.sub(r'\\\\xb7', ' ', text72)"
   ]
  },
  {
   "cell_type": "code",
   "execution_count": 74,
   "metadata": {},
   "outputs": [],
   "source": [
    "text73 = textract.process(\"C:/Users/pondh/Desktop/data/Files/Restricted/CustomerRefundListJun2020.docx\")\n",
    "text73 = str(text73)\n",
    "text73 = re.sub(r'\\\\n', ' ', text73)\n",
    "text73 = re.sub(r'\\n', ' ', text73)\n",
    "text73 = re.sub(r'\\r', ' ', text73)\n",
    "text73 = re.sub(r'\\\\t', ' ', text73)\n",
    "text73 = re.sub(r'\\\\xe2', ' ', text73)\n",
    "text73 = re.sub(r'\\\\x80', ' ', text73)\n",
    "text73 = re.sub(r'\\\\xa6', ' ', text73)\n",
    "text73 = re.sub(r'\\\\x80', ' ', text73)\n",
    "text73 = re.sub(r'\\\\x9', ' ', text73)\n",
    "text73 = re.sub(r'\\\\x9d', ' ', text73)\n",
    "text73 = re.sub(r'\\\\x94', ' ', text73)\n",
    "text73 = re.sub(r'\\\\x99s', ' ', text73)\n",
    "text73 = re.sub(r'\\\\x93', ' ', text73)\n",
    "text73 = re.sub(r'\\\\xc2', ' ', text73)\n",
    "text73 = re.sub(r'\\\\xa0', ' ', text73)\n",
    "text73 = re.sub(r'\\\\xef', ' ', text73)\n",
    "text73 = re.sub(r'\\\\x83', ' ', text73)\n",
    "text73 = re.sub(r'\\\\xa3', ' ', text73)\n",
    "text73 = re.sub(r'\\\\x82', ' ', text73)\n",
    "text73 = re.sub(r'\\\\xb7', ' ', text73)"
   ]
  },
  {
   "cell_type": "code",
   "execution_count": 75,
   "metadata": {},
   "outputs": [],
   "source": [
    "text74 = textract.process(\"C:/Users/pondh/Desktop/data/Files/Restricted/CustomerRefundListMar2020.docx\")\n",
    "text74 = str(text74)\n",
    "text74 = re.sub(r'\\\\n', ' ', text74)\n",
    "text74 = re.sub(r'\\n', ' ', text74)\n",
    "text74 = re.sub(r'\\r', ' ', text74)\n",
    "text74 = re.sub(r'\\\\t', ' ', text74)\n",
    "text74 = re.sub(r'\\\\xe2', ' ', text74)\n",
    "text74 = re.sub(r'\\\\x80', ' ', text74)\n",
    "text74 = re.sub(r'\\\\xa6', ' ', text74)\n",
    "text74 = re.sub(r'\\\\x80', ' ', text74)\n",
    "text74 = re.sub(r'\\\\x9', ' ', text74)\n",
    "text74 = re.sub(r'\\\\x9d', ' ', text74)\n",
    "text74 = re.sub(r'\\\\x94', ' ', text74)\n",
    "text74 = re.sub(r'\\\\x99s', ' ', text74)\n",
    "text74 = re.sub(r'\\\\x93', ' ', text74)\n",
    "text74 = re.sub(r'\\\\xc2', ' ', text74)\n",
    "text74 = re.sub(r'\\\\xa0', ' ', text74)\n",
    "text74 = re.sub(r'\\\\xef', ' ', text74)\n",
    "text74 = re.sub(r'\\\\x83', ' ', text74)\n",
    "text74 = re.sub(r'\\\\xa3', ' ', text74)\n",
    "text74 = re.sub(r'\\\\x82', ' ', text74)\n",
    "text74 = re.sub(r'\\\\xb7', ' ', text74)"
   ]
  },
  {
   "cell_type": "code",
   "execution_count": 76,
   "metadata": {},
   "outputs": [],
   "source": [
    "text75 = textract.process(\"C:/Users/pondh/Desktop/data/Files/Restricted/CustomerRefundListJan2020.docx\")\n",
    "text75 = str(text75)\n",
    "text75 = re.sub(r'\\\\n', ' ', text75)\n",
    "text75 = re.sub(r'\\n', ' ', text75)\n",
    "text75 = re.sub(r'\\r', ' ', text75)\n",
    "text75 = re.sub(r'\\\\t', ' ', text75)\n",
    "text75 = re.sub(r'\\\\xe2', ' ', text75)\n",
    "text75 = re.sub(r'\\\\x80', ' ', text75)\n",
    "text75 = re.sub(r'\\\\xa6', ' ', text75)\n",
    "text75 = re.sub(r'\\\\x80', ' ', text75)\n",
    "text75 = re.sub(r'\\\\x9', ' ', text75)\n",
    "text75 = re.sub(r'\\\\x9d', ' ', text75)\n",
    "text75 = re.sub(r'\\\\x94', ' ', text75)\n",
    "text75 = re.sub(r'\\\\x99s', ' ', text75)\n",
    "text75 = re.sub(r'\\\\x93', ' ', text75)\n",
    "text75 = re.sub(r'\\\\xc2', ' ', text75)\n",
    "text75 = re.sub(r'\\\\xa0', ' ', text75)\n",
    "text75 = re.sub(r'\\\\xef', ' ', text75)\n",
    "text75 = re.sub(r'\\\\x83', ' ', text75)\n",
    "text75 = re.sub(r'\\\\xa3', ' ', text75)\n",
    "text75 = re.sub(r'\\\\x82', ' ', text75)\n",
    "text75 = re.sub(r'\\\\xb7', ' ', text75)"
   ]
  },
  {
   "cell_type": "code",
   "execution_count": 77,
   "metadata": {},
   "outputs": [],
   "source": [
    "text76 = textract.process(\"C:/Users/pondh/Desktop/data/Files/Restricted/CustomerRefundListSep2021.docx\")\n",
    "text76 = str(text76)\n",
    "text76 = re.sub(r'\\\\n', ' ', text76)\n",
    "text76 = re.sub(r'\\n', ' ', text76)\n",
    "text76 = re.sub(r'\\r', ' ', text76)\n",
    "text76 = re.sub(r'\\\\t', ' ', text76)\n",
    "text76 = re.sub(r'\\\\xe2', ' ', text76)\n",
    "text76 = re.sub(r'\\\\x80', ' ', text76)\n",
    "text76 = re.sub(r'\\\\xa6', ' ', text76)\n",
    "text76 = re.sub(r'\\\\x80', ' ', text76)\n",
    "text76 = re.sub(r'\\\\x9', ' ', text76)\n",
    "text76 = re.sub(r'\\\\x9d', ' ', text76)\n",
    "text76 = re.sub(r'\\\\x94', ' ', text76)\n",
    "text76 = re.sub(r'\\\\x99s', ' ', text76)\n",
    "text76 = re.sub(r'\\\\x93', ' ', text76)\n",
    "text76 = re.sub(r'\\\\xc2', ' ', text76)\n",
    "text76 = re.sub(r'\\\\xa0', ' ', text76)\n",
    "text76 = re.sub(r'\\\\xef', ' ', text76)\n",
    "text76 = re.sub(r'\\\\x83', ' ', text76)\n",
    "text76 = re.sub(r'\\\\xa3', ' ', text76)\n",
    "text76 = re.sub(r'\\\\x82', ' ', text76)\n",
    "text76 = re.sub(r'\\\\xb7', ' ', text76)"
   ]
  },
  {
   "cell_type": "code",
   "execution_count": 78,
   "metadata": {},
   "outputs": [],
   "source": [
    "text77 = textract.process(\"C:/Users/pondh/Desktop/data/Files/Restricted/CustomerRefundListJun2021.docx\")\n",
    "text77 = str(text77)\n",
    "text77 = re.sub(r'\\\\n', ' ', text77)\n",
    "text77 = re.sub(r'\\n', ' ', text77)\n",
    "text77 = re.sub(r'\\r', ' ', text77)\n",
    "text77 = re.sub(r'\\\\t', ' ', text77)\n",
    "text77 = re.sub(r'\\\\xe2', ' ', text77)\n",
    "text77 = re.sub(r'\\\\x80', ' ', text77)\n",
    "text77 = re.sub(r'\\\\xa6', ' ', text77)\n",
    "text77 = re.sub(r'\\\\x80', ' ', text77)\n",
    "text77 = re.sub(r'\\\\x9', ' ', text77)\n",
    "text77 = re.sub(r'\\\\x9d', ' ', text77)\n",
    "text77 = re.sub(r'\\\\x94', ' ', text77)\n",
    "text77 = re.sub(r'\\\\x99s', ' ', text77)\n",
    "text77 = re.sub(r'\\\\x93', ' ', text77)\n",
    "text77 = re.sub(r'\\\\xc2', ' ', text77)\n",
    "text77 = re.sub(r'\\\\xa0', ' ', text77)\n",
    "text77 = re.sub(r'\\\\xef', ' ', text77)\n",
    "text77 = re.sub(r'\\\\x83', ' ', text77)\n",
    "text77 = re.sub(r'\\\\xa3', ' ', text77)\n",
    "text77 = re.sub(r'\\\\x82', ' ', text77)\n",
    "text77 = re.sub(r'\\\\xb7', ' ', text77)"
   ]
  },
  {
   "cell_type": "code",
   "execution_count": 79,
   "metadata": {},
   "outputs": [],
   "source": [
    "text78 = textract.process(\"C:/Users/pondh/Desktop/data/Files/Restricted/CustomerRefundListJan2021.docx\")\n",
    "text78 = str(text78)\n",
    "text78 = re.sub(r'\\\\n', ' ', text78)\n",
    "text78 = re.sub(r'\\n', ' ', text78)\n",
    "text78 = re.sub(r'\\r', ' ', text78)\n",
    "text78 = re.sub(r'\\\\t', ' ', text78)\n",
    "text78 = re.sub(r'\\\\xe2', ' ', text78)\n",
    "text78 = re.sub(r'\\\\x80', ' ', text78)\n",
    "text78 = re.sub(r'\\\\xa6', ' ', text78)\n",
    "text78 = re.sub(r'\\\\x80', ' ', text78)\n",
    "text78 = re.sub(r'\\\\x9', ' ', text78)\n",
    "text78 = re.sub(r'\\\\x9d', ' ', text78)\n",
    "text78 = re.sub(r'\\\\x94', ' ', text78)\n",
    "text78 = re.sub(r'\\\\x99s', ' ', text78)\n",
    "text78 = re.sub(r'\\\\x93', ' ', text78)\n",
    "text78 = re.sub(r'\\\\xc2', ' ', text78)\n",
    "text78 = re.sub(r'\\\\xa0', ' ', text78)\n",
    "text78 = re.sub(r'\\\\xef', ' ', text78)\n",
    "text78 = re.sub(r'\\\\x83', ' ', text78)\n",
    "text78 = re.sub(r'\\\\xa3', ' ', text78)\n",
    "text78 = re.sub(r'\\\\x82', ' ', text78)\n",
    "text78 = re.sub(r'\\\\xb7', ' ', text78)"
   ]
  },
  {
   "cell_type": "code",
   "execution_count": 80,
   "metadata": {},
   "outputs": [],
   "source": [
    "text79 = textract.process(\"C:/Users/pondh/Desktop/data/Files/Restricted/CustomerRefundListMar2021.docx\")\n",
    "text79 = str(text79)\n",
    "text79 = re.sub(r'\\\\n', ' ', text79)\n",
    "text79 = re.sub(r'\\n', ' ', text79)\n",
    "text79 = re.sub(r'\\r', ' ', text79)\n",
    "text79 = re.sub(r'\\\\t', ' ', text79)\n",
    "text79 = re.sub(r'\\\\xe2', ' ', text79)\n",
    "text79 = re.sub(r'\\\\x80', ' ', text79)\n",
    "text79 = re.sub(r'\\\\xa6', ' ', text79)\n",
    "text79 = re.sub(r'\\\\x80', ' ', text79)\n",
    "text79 = re.sub(r'\\\\x9', ' ', text79)\n",
    "text79 = re.sub(r'\\\\x9d', ' ', text79)\n",
    "text79 = re.sub(r'\\\\x94', ' ', text79)\n",
    "text79 = re.sub(r'\\\\x99s', ' ', text79)\n",
    "text79 = re.sub(r'\\\\x93', ' ', text79)\n",
    "text79 = re.sub(r'\\\\xc2', ' ', text79)\n",
    "text79 = re.sub(r'\\\\xa0', ' ', text79)\n",
    "text79 = re.sub(r'\\\\xef', ' ', text79)\n",
    "text79 = re.sub(r'\\\\x83', ' ', text79)\n",
    "text79 = re.sub(r'\\\\xa3', ' ', text79)\n",
    "text79 = re.sub(r'\\\\x82', ' ', text79)\n",
    "text79 = re.sub(r'\\\\xb7', ' ', text79)"
   ]
  },
  {
   "cell_type": "code",
   "execution_count": 81,
   "metadata": {},
   "outputs": [],
   "source": [
    "text80 = textract.process(\"C:/Users/pondh/Desktop/data/Files/Restricted/Health Insurance Info3.docx\")\n",
    "text80 = str(text80)\n",
    "text80 = re.sub(r'\\\\n', ' ', text80)\n",
    "text80 = re.sub(r'\\n', ' ', text80)\n",
    "text80 = re.sub(r'\\r', ' ', text80)\n",
    "text80 = re.sub(r'\\\\t', ' ', text80)\n",
    "text80 = re.sub(r'\\\\xe2', ' ', text80)\n",
    "text80 = re.sub(r'\\\\x80', ' ', text80)\n",
    "text80 = re.sub(r'\\\\xa6', ' ', text80)\n",
    "text80 = re.sub(r'\\\\x80', ' ', text80)\n",
    "text80 = re.sub(r'\\\\x9', ' ', text80)\n",
    "text80 = re.sub(r'\\\\x9d', ' ', text80)\n",
    "text80 = re.sub(r'\\\\x94', ' ', text80)\n",
    "text80 = re.sub(r'\\\\x99s', ' ', text80)\n",
    "text80 = re.sub(r'\\\\x93', ' ', text80)\n",
    "text80 = re.sub(r'\\\\xc2', ' ', text80)\n",
    "text80 = re.sub(r'\\\\xa0', ' ', text80)\n",
    "text80 = re.sub(r'\\\\xef', ' ', text80)\n",
    "text80 = re.sub(r'\\\\x83', ' ', text80)\n",
    "text80 = re.sub(r'\\\\xa3', ' ', text80)\n",
    "text80 = re.sub(r'\\\\x82', ' ', text80)\n",
    "text80 = re.sub(r'\\\\xb7', ' ', text80)"
   ]
  },
  {
   "cell_type": "code",
   "execution_count": 82,
   "metadata": {},
   "outputs": [],
   "source": [
    "text81 = textract.process(\"C:/Users/pondh/Desktop/data/Files/Restricted/Health Insurance Info4.docx\")\n",
    "text81 = str(text81)\n",
    "text81 = re.sub(r'\\\\n', ' ', text81)\n",
    "text81 = re.sub(r'\\n', ' ', text81)\n",
    "text81 = re.sub(r'\\r', ' ', text81)\n",
    "text81 = re.sub(r'\\\\t', ' ', text81)\n",
    "text81 = re.sub(r'\\\\xe2', ' ', text81)\n",
    "text81 = re.sub(r'\\\\x81', ' ', text81)\n",
    "text81 = re.sub(r'\\\\xa6', ' ', text81)\n",
    "text81 = re.sub(r'\\\\x81', ' ', text81)\n",
    "text81 = re.sub(r'\\\\x9', ' ', text81)\n",
    "text81 = re.sub(r'\\\\x9d', ' ', text81)\n",
    "text81 = re.sub(r'\\\\x94', ' ', text81)\n",
    "text81 = re.sub(r'\\\\x99s', ' ', text81)\n",
    "text81 = re.sub(r'\\\\x93', ' ', text81)\n",
    "text81 = re.sub(r'\\\\xc2', ' ', text81)\n",
    "text81 = re.sub(r'\\\\xa0', ' ', text81)\n",
    "text81 = re.sub(r'\\\\xef', ' ', text81)\n",
    "text81 = re.sub(r'\\\\x83', ' ', text81)\n",
    "text81 = re.sub(r'\\\\xa3', ' ', text81)\n",
    "text81 = re.sub(r'\\\\x82', ' ', text81)\n",
    "text81 = re.sub(r'\\\\xb7', ' ', text81)"
   ]
  },
  {
   "cell_type": "code",
   "execution_count": 83,
   "metadata": {},
   "outputs": [],
   "source": [
    "text82 = textract.process(\"C:/Users/pondh/Desktop/data/Files/Restricted/Health Insurance Info5.docx\")\n",
    "text82 = str(text82)\n",
    "text82 = re.sub(r'\\\\n', ' ', text82)\n",
    "text82 = re.sub(r'\\n', ' ', text82)\n",
    "text82 = re.sub(r'\\r', ' ', text82)\n",
    "text82 = re.sub(r'\\\\t', ' ', text82)\n",
    "text82 = re.sub(r'\\\\xe2', ' ', text82)\n",
    "text82 = re.sub(r'\\\\x82', ' ', text82)\n",
    "text82 = re.sub(r'\\\\xa6', ' ', text82)\n",
    "text82 = re.sub(r'\\\\x82', ' ', text82)\n",
    "text82 = re.sub(r'\\\\x9', ' ', text82)\n",
    "text82 = re.sub(r'\\\\x9d', ' ', text82)\n",
    "text82 = re.sub(r'\\\\x94', ' ', text82)\n",
    "text82 = re.sub(r'\\\\x99s', ' ', text82)\n",
    "text82 = re.sub(r'\\\\x93', ' ', text82)\n",
    "text82 = re.sub(r'\\\\xc2', ' ', text82)\n",
    "text82 = re.sub(r'\\\\xa0', ' ', text82)\n",
    "text82 = re.sub(r'\\\\xef', ' ', text82)\n",
    "text82 = re.sub(r'\\\\x83', ' ', text82)\n",
    "text82 = re.sub(r'\\\\xa3', ' ', text82)\n",
    "text82 = re.sub(r'\\\\x82', ' ', text82)\n",
    "text82 = re.sub(r'\\\\xb7', ' ', text82)"
   ]
  },
  {
   "cell_type": "code",
   "execution_count": 84,
   "metadata": {},
   "outputs": [],
   "source": [
    "text83 = textract.process(\"C:/Users/pondh/Desktop/data/Files/Restricted/Emp-PAN2022.docx\")\n",
    "text83 = str(text83)\n",
    "text83 = re.sub(r'\\\\n', ' ', text83)\n",
    "text83 = re.sub(r'\\n', ' ', text83)\n",
    "text83 = re.sub(r'\\r', ' ', text83)\n",
    "text83 = re.sub(r'\\\\t', ' ', text83)\n",
    "text83 = re.sub(r'\\\\xe2', ' ', text83)\n",
    "text83 = re.sub(r'\\\\x83', ' ', text83)\n",
    "text83 = re.sub(r'\\\\xa6', ' ', text83)\n",
    "text83 = re.sub(r'\\\\x83', ' ', text83)\n",
    "text83 = re.sub(r'\\\\x9', ' ', text83)\n",
    "text83 = re.sub(r'\\\\x9d', ' ', text83)\n",
    "text83 = re.sub(r'\\\\x94', ' ', text83)\n",
    "text83 = re.sub(r'\\\\x99s', ' ', text83)\n",
    "text83 = re.sub(r'\\\\x93', ' ', text83)\n",
    "text83 = re.sub(r'\\\\xc2', ' ', text83)\n",
    "text83 = re.sub(r'\\\\xa0', ' ', text83)\n",
    "text83 = re.sub(r'\\\\xef', ' ', text83)\n",
    "text83 = re.sub(r'\\\\x83', ' ', text83)\n",
    "text83 = re.sub(r'\\\\xa3', ' ', text83)\n",
    "text83 = re.sub(r'\\\\x83', ' ', text83)\n",
    "text83 = re.sub(r'\\\\xb7', ' ', text83)"
   ]
  },
  {
   "cell_type": "code",
   "execution_count": 85,
   "metadata": {},
   "outputs": [],
   "source": [
    "text84 = textract.process(\"C:/Users/pondh/Desktop/data/Files/Restricted/TaxFiling 2020.docx\")\n",
    "text84 = str(text84)\n",
    "text84 = re.sub(r'\\\\n', ' ', text84)\n",
    "text84 = re.sub(r'\\n', ' ', text84)\n",
    "text84 = re.sub(r'\\r', ' ', text84)\n",
    "text84 = re.sub(r'\\\\t', ' ', text84)\n",
    "text84 = re.sub(r'\\\\xe2', ' ', text84)\n",
    "text84 = re.sub(r'\\\\x84', ' ', text84)\n",
    "text84 = re.sub(r'\\\\xa6', ' ', text84)\n",
    "text84 = re.sub(r'\\\\x84', ' ', text84)\n",
    "text84 = re.sub(r'\\\\x9', ' ', text84)\n",
    "text84 = re.sub(r'\\\\x9d', ' ', text84)\n",
    "text84 = re.sub(r'\\\\x94', ' ', text84)\n",
    "text84 = re.sub(r'\\\\x99s', ' ', text84)\n",
    "text84 = re.sub(r'\\\\x93', ' ', text84)\n",
    "text84 = re.sub(r'\\\\xc2', ' ', text84)\n",
    "text84 = re.sub(r'\\\\xa0', ' ', text84)\n",
    "text84 = re.sub(r'\\\\xef', ' ', text84)\n",
    "text84 = re.sub(r'\\\\x84', ' ', text84)\n",
    "text84 = re.sub(r'\\\\xa3', ' ', text84)\n",
    "text84 = re.sub(r'\\\\x84', ' ', text84)\n",
    "text84 = re.sub(r'\\\\xb7', ' ', text84)"
   ]
  },
  {
   "cell_type": "code",
   "execution_count": 86,
   "metadata": {},
   "outputs": [],
   "source": [
    "text85 = textract.process(\"C:/Users/pondh/Desktop/data/Files/Restricted/TaxFiling 2019.docx\")\n",
    "text85 = str(text85)\n",
    "text85 = re.sub(r'\\\\n', ' ', text85)\n",
    "text85 = re.sub(r'\\n', ' ', text85)\n",
    "text85 = re.sub(r'\\r', ' ', text85)\n",
    "text85 = re.sub(r'\\\\t', ' ', text85)\n",
    "text85 = re.sub(r'\\\\xe2', ' ', text85)\n",
    "text85 = re.sub(r'\\\\x85', ' ', text85)\n",
    "text85 = re.sub(r'\\\\xa6', ' ', text85)\n",
    "text85 = re.sub(r'\\\\x85', ' ', text85)\n",
    "text85 = re.sub(r'\\\\x9', ' ', text85)\n",
    "text85 = re.sub(r'\\\\x9d', ' ', text85)\n",
    "text85 = re.sub(r'\\\\x94', ' ', text85)\n",
    "text85 = re.sub(r'\\\\x99s', ' ', text85)\n",
    "text85 = re.sub(r'\\\\x93', ' ', text85)\n",
    "text85 = re.sub(r'\\\\xc2', ' ', text85)\n",
    "text85 = re.sub(r'\\\\xa0', ' ', text85)\n",
    "text85 = re.sub(r'\\\\xef', ' ', text85)\n",
    "text85 = re.sub(r'\\\\x85', ' ', text85)\n",
    "text85 = re.sub(r'\\\\xa3', ' ', text85)\n",
    "text85 = re.sub(r'\\\\x85', ' ', text85)\n",
    "text85 = re.sub(r'\\\\xb7', ' ', text85)"
   ]
  },
  {
   "cell_type": "code",
   "execution_count": 87,
   "metadata": {},
   "outputs": [],
   "source": [
    "text86 = textract.process(\"C:/Users/pondh/Desktop/data/Files/Restricted/HR-Peoplesoft5.docx\")\n",
    "text86 = str(text86)\n",
    "text86 = re.sub(r'\\\\n', ' ', text86)\n",
    "text86 = re.sub(r'\\n', ' ', text86)\n",
    "text86 = re.sub(r'\\r', ' ', text86)\n",
    "text86 = re.sub(r'\\\\t', ' ', text86)\n",
    "text86 = re.sub(r'\\\\xe2', ' ', text86)\n",
    "text86 = re.sub(r'\\\\x86', ' ', text86)\n",
    "text86 = re.sub(r'\\\\xa6', ' ', text86)\n",
    "text86 = re.sub(r'\\\\x86', ' ', text86)\n",
    "text86 = re.sub(r'\\\\x9', ' ', text86)\n",
    "text86 = re.sub(r'\\\\x9d', ' ', text86)\n",
    "text86 = re.sub(r'\\\\x94', ' ', text86)\n",
    "text86 = re.sub(r'\\\\x99s', ' ', text86)\n",
    "text86 = re.sub(r'\\\\x93', ' ', text86)\n",
    "text86 = re.sub(r'\\\\xc2', ' ', text86)\n",
    "text86 = re.sub(r'\\\\xa0', ' ', text86)\n",
    "text86 = re.sub(r'\\\\xef', ' ', text86)\n",
    "text86 = re.sub(r'\\\\x86', ' ', text86)\n",
    "text86 = re.sub(r'\\\\xa3', ' ', text86)\n",
    "text86 = re.sub(r'\\\\x86', ' ', text86)\n",
    "text86 = re.sub(r'\\\\xb7', ' ', text86)"
   ]
  },
  {
   "cell_type": "code",
   "execution_count": 88,
   "metadata": {},
   "outputs": [],
   "source": [
    "text87 = textract.process(\"C:/Users/pondh/Desktop/data/Files/Restricted/HR-Peoplesoft4.docx\")\n",
    "text87 = str(text87)\n",
    "text87 = re.sub(r'\\\\n', ' ', text87)\n",
    "text87 = re.sub(r'\\n', ' ', text87)\n",
    "text87 = re.sub(r'\\r', ' ', text87)\n",
    "text87 = re.sub(r'\\\\t', ' ', text87)\n",
    "text87 = re.sub(r'\\\\xe2', ' ', text87)\n",
    "text87 = re.sub(r'\\\\x87', ' ', text87)\n",
    "text87 = re.sub(r'\\\\xa6', ' ', text87)\n",
    "text87 = re.sub(r'\\\\x87', ' ', text87)\n",
    "text87 = re.sub(r'\\\\x9', ' ', text87)\n",
    "text87 = re.sub(r'\\\\x9d', ' ', text87)\n",
    "text87 = re.sub(r'\\\\x94', ' ', text87)\n",
    "text87 = re.sub(r'\\\\x99s', ' ', text87)\n",
    "text87 = re.sub(r'\\\\x93', ' ', text87)\n",
    "text87 = re.sub(r'\\\\xc2', ' ', text87)\n",
    "text87 = re.sub(r'\\\\xa0', ' ', text87)\n",
    "text87 = re.sub(r'\\\\xef', ' ', text87)\n",
    "text87 = re.sub(r'\\\\x87', ' ', text87)\n",
    "text87 = re.sub(r'\\\\xa3', ' ', text87)\n",
    "text87 = re.sub(r'\\\\x87', ' ', text87)\n",
    "text87 = re.sub(r'\\\\xb7', ' ', text87)"
   ]
  },
  {
   "cell_type": "code",
   "execution_count": 89,
   "metadata": {},
   "outputs": [],
   "source": [
    "text88 = textract.process(\"C:/Users/pondh/Desktop/data/Files/Restricted/HR-Peoplesoft3.docx\")\n",
    "text88 = str(text88)\n",
    "text88 = re.sub(r'\\\\n', ' ', text88)\n",
    "text88 = re.sub(r'\\n', ' ', text88)\n",
    "text88 = re.sub(r'\\r', ' ', text88)\n",
    "text88 = re.sub(r'\\\\t', ' ', text88)\n",
    "text88 = re.sub(r'\\\\xe2', ' ', text88)\n",
    "text88 = re.sub(r'\\\\x88', ' ', text88)\n",
    "text88 = re.sub(r'\\\\xa6', ' ', text88)\n",
    "text88 = re.sub(r'\\\\x88', ' ', text88)\n",
    "text88 = re.sub(r'\\\\x9', ' ', text88)\n",
    "text88 = re.sub(r'\\\\x9d', ' ', text88)\n",
    "text88 = re.sub(r'\\\\x94', ' ', text88)\n",
    "text88 = re.sub(r'\\\\x99s', ' ', text88)\n",
    "text88 = re.sub(r'\\\\x93', ' ', text88)\n",
    "text88 = re.sub(r'\\\\xc2', ' ', text88)\n",
    "text88 = re.sub(r'\\\\xa0', ' ', text88)\n",
    "text88 = re.sub(r'\\\\xef', ' ', text88)\n",
    "text88 = re.sub(r'\\\\x88', ' ', text88)\n",
    "text88 = re.sub(r'\\\\xa3', ' ', text88)\n",
    "text88 = re.sub(r'\\\\x88', ' ', text88)\n",
    "text88 = re.sub(r'\\\\xb7', ' ', text88)"
   ]
  },
  {
   "cell_type": "code",
   "execution_count": 90,
   "metadata": {},
   "outputs": [],
   "source": [
    "text89 = textract.process(\"C:/Users/pondh/Desktop/data/Files/Confidential/ProspectiveClients2.docx\")\n",
    "text89 = str(text89)\n",
    "text89 = re.sub(r'\\\\n', ' ', text89)\n",
    "text89 = re.sub(r'\\n', ' ', text89)\n",
    "text89 = re.sub(r'\\r', ' ', text89)\n",
    "text89 = re.sub(r'\\\\t', ' ', text89)\n",
    "text89 = re.sub(r'\\\\xe2', ' ', text89)\n",
    "text89 = re.sub(r'\\\\x89', ' ', text89)\n",
    "text89 = re.sub(r'\\\\xa6', ' ', text89)\n",
    "text89 = re.sub(r'\\\\x89', ' ', text89)\n",
    "text89 = re.sub(r'\\\\x9', ' ', text89)\n",
    "text89 = re.sub(r'\\\\x9d', ' ', text89)\n",
    "text89 = re.sub(r'\\\\x94', ' ', text89)\n",
    "text89 = re.sub(r'\\\\x99s', ' ', text89)\n",
    "text89 = re.sub(r'\\\\x93', ' ', text89)\n",
    "text89 = re.sub(r'\\\\xc2', ' ', text89)\n",
    "text89 = re.sub(r'\\\\xa0', ' ', text89)\n",
    "text89 = re.sub(r'\\\\xef', ' ', text89)\n",
    "text89 = re.sub(r'\\\\x89', ' ', text89)\n",
    "text89 = re.sub(r'\\\\xa3', ' ', text89)\n",
    "text89 = re.sub(r'\\\\x89', ' ', text89)\n",
    "text89 = re.sub(r'\\\\xb7', ' ', text89)"
   ]
  },
  {
   "cell_type": "code",
   "execution_count": 91,
   "metadata": {},
   "outputs": [],
   "source": [
    "text90 = textract.process(\"C:/Users/pondh/Desktop/data/Files/Confidential/ProspectiveClients3.docx\")\n",
    "text90 = str(text90)\n",
    "text90 = re.sub(r'\\\\n', ' ', text90)\n",
    "text90 = re.sub(r'\\n', ' ', text90)\n",
    "text90 = re.sub(r'\\r', ' ', text90)\n",
    "text90 = re.sub(r'\\\\t', ' ', text90)\n",
    "text90 = re.sub(r'\\\\xe2', ' ', text90)\n",
    "text90 = re.sub(r'\\\\x90', ' ', text90)\n",
    "text90 = re.sub(r'\\\\xa6', ' ', text90)\n",
    "text90 = re.sub(r'\\\\x90', ' ', text90)\n",
    "text90 = re.sub(r'\\\\x9', ' ', text90)\n",
    "text90 = re.sub(r'\\\\x9d', ' ', text90)\n",
    "text90 = re.sub(r'\\\\x94', ' ', text90)\n",
    "text90 = re.sub(r'\\\\x99s', ' ', text90)\n",
    "text90 = re.sub(r'\\\\x93', ' ', text90)\n",
    "text90 = re.sub(r'\\\\xc2', ' ', text90)\n",
    "text90 = re.sub(r'\\\\xa0', ' ', text90)\n",
    "text90 = re.sub(r'\\\\xef', ' ', text90)\n",
    "text90 = re.sub(r'\\\\x90', ' ', text90)\n",
    "text90 = re.sub(r'\\\\xa3', ' ', text90)\n",
    "text90 = re.sub(r'\\\\x90', ' ', text90)\n",
    "text90 = re.sub(r'\\\\xb7', ' ', text90)"
   ]
  },
  {
   "cell_type": "code",
   "execution_count": 92,
   "metadata": {},
   "outputs": [],
   "source": [
    "text91 = textract.process(\"C:/Users/pondh/Desktop/data/Files/Confidential/ProspectiveClients4.docx\")\n",
    "text91 = str(text91)\n",
    "text91 = re.sub(r'\\\\n', ' ', text91)\n",
    "text91 = re.sub(r'\\n', ' ', text91)\n",
    "text91 = re.sub(r'\\r', ' ', text91)\n",
    "text91 = re.sub(r'\\\\t', ' ', text91)\n",
    "text91 = re.sub(r'\\\\xe2', ' ', text91)\n",
    "text91 = re.sub(r'\\\\x91', ' ', text91)\n",
    "text91 = re.sub(r'\\\\xa6', ' ', text91)\n",
    "text91 = re.sub(r'\\\\x91', ' ', text91)\n",
    "text91 = re.sub(r'\\\\x9', ' ', text91)\n",
    "text91 = re.sub(r'\\\\x9d', ' ', text91)\n",
    "text91 = re.sub(r'\\\\x94', ' ', text91)\n",
    "text91 = re.sub(r'\\\\x99s', ' ', text91)\n",
    "text91 = re.sub(r'\\\\x93', ' ', text91)\n",
    "text91 = re.sub(r'\\\\xc2', ' ', text91)\n",
    "text91 = re.sub(r'\\\\xa0', ' ', text91)\n",
    "text91 = re.sub(r'\\\\xef', ' ', text91)\n",
    "text91 = re.sub(r'\\\\x91', ' ', text91)\n",
    "text91 = re.sub(r'\\\\xa3', ' ', text91)\n",
    "text91 = re.sub(r'\\\\x91', ' ', text91)\n",
    "text91 = re.sub(r'\\\\xb7', ' ', text91)"
   ]
  },
  {
   "cell_type": "code",
   "execution_count": 93,
   "metadata": {},
   "outputs": [],
   "source": [
    "text92 = textract.process(\"C:/Users/pondh/Desktop/data/Files/Confidential/Expense Report for Feb 2021.docx\")\n",
    "text92 = str(text92)\n",
    "text92 = re.sub(r'\\\\n', ' ', text92)\n",
    "text92 = re.sub(r'\\n', ' ', text92)\n",
    "text92 = re.sub(r'\\r', ' ', text92)\n",
    "text92 = re.sub(r'\\\\t', ' ', text92)\n",
    "text92 = re.sub(r'\\\\xe2', ' ', text92)\n",
    "text92 = re.sub(r'\\\\x92', ' ', text92)\n",
    "text92 = re.sub(r'\\\\xa6', ' ', text92)\n",
    "text92 = re.sub(r'\\\\x92', ' ', text92)\n",
    "text92 = re.sub(r'\\\\x9', ' ', text92)\n",
    "text92 = re.sub(r'\\\\x9d', ' ', text92)\n",
    "text92 = re.sub(r'\\\\x94', ' ', text92)\n",
    "text92 = re.sub(r'\\\\x99s', ' ', text92)\n",
    "text92 = re.sub(r'\\\\x93', ' ', text92)\n",
    "text92 = re.sub(r'\\\\xc2', ' ', text92)\n",
    "text92 = re.sub(r'\\\\xa0', ' ', text92)\n",
    "text92 = re.sub(r'\\\\xef', ' ', text92)\n",
    "text92 = re.sub(r'\\\\x92', ' ', text92)\n",
    "text92 = re.sub(r'\\\\xa3', ' ', text92)\n",
    "text92 = re.sub(r'\\\\x92', ' ', text92)\n",
    "text92 = re.sub(r'\\\\xb7', ' ', text92)"
   ]
  },
  {
   "cell_type": "code",
   "execution_count": 94,
   "metadata": {},
   "outputs": [],
   "source": [
    "text93 = textract.process(\"C:/Users/pondh/Desktop/data/Files/Confidential/Expense Report for Apr 2021.docx\")\n",
    "text93 = str(text93)\n",
    "text93 = re.sub(r'\\\\n', ' ', text93)\n",
    "text93 = re.sub(r'\\n', ' ', text93)\n",
    "text93 = re.sub(r'\\r', ' ', text93)\n",
    "text93 = re.sub(r'\\\\t', ' ', text93)\n",
    "text93 = re.sub(r'\\\\xe2', ' ', text93)\n",
    "text93 = re.sub(r'\\\\x93', ' ', text93)\n",
    "text93 = re.sub(r'\\\\xa6', ' ', text93)\n",
    "text93 = re.sub(r'\\\\x93', ' ', text93)\n",
    "text93 = re.sub(r'\\\\x9', ' ', text93)\n",
    "text93 = re.sub(r'\\\\x9d', ' ', text93)\n",
    "text93 = re.sub(r'\\\\x94', ' ', text93)\n",
    "text93 = re.sub(r'\\\\x99s', ' ', text93)\n",
    "text93 = re.sub(r'\\\\x93', ' ', text93)\n",
    "text93 = re.sub(r'\\\\xc2', ' ', text93)\n",
    "text93 = re.sub(r'\\\\xa0', ' ', text93)\n",
    "text93 = re.sub(r'\\\\xef', ' ', text93)\n",
    "text93 = re.sub(r'\\\\x93', ' ', text93)\n",
    "text93 = re.sub(r'\\\\xa3', ' ', text93)\n",
    "text93 = re.sub(r'\\\\x93', ' ', text93)\n",
    "text93 = re.sub(r'\\\\xb7', ' ', text93)"
   ]
  },
  {
   "cell_type": "code",
   "execution_count": 95,
   "metadata": {},
   "outputs": [],
   "source": [
    "text94 = textract.process(\"C:/Users/pondh/Desktop/data/Files/Confidential/Expense Report for Mar 2021.docx\")\n",
    "text94 = str(text94)\n",
    "text94 = re.sub(r'\\\\n', ' ', text94)\n",
    "text94 = re.sub(r'\\n', ' ', text94)\n",
    "text94 = re.sub(r'\\r', ' ', text94)\n",
    "text94 = re.sub(r'\\\\t', ' ', text94)\n",
    "text94 = re.sub(r'\\\\xe2', ' ', text94)\n",
    "text94 = re.sub(r'\\\\x94', ' ', text94)\n",
    "text94 = re.sub(r'\\\\xa6', ' ', text94)\n",
    "text94 = re.sub(r'\\\\x94', ' ', text94)\n",
    "text94 = re.sub(r'\\\\x9', ' ', text94)\n",
    "text94 = re.sub(r'\\\\x9d', ' ', text94)\n",
    "text94 = re.sub(r'\\\\x94', ' ', text94)\n",
    "text94 = re.sub(r'\\\\x99s', ' ', text94)\n",
    "text94 = re.sub(r'\\\\x94', ' ', text94)\n",
    "text94 = re.sub(r'\\\\xc2', ' ', text94)\n",
    "text94 = re.sub(r'\\\\xa0', ' ', text94)\n",
    "text94 = re.sub(r'\\\\xef', ' ', text94)\n",
    "text94 = re.sub(r'\\\\x94', ' ', text94)\n",
    "text94 = re.sub(r'\\\\xa3', ' ', text94)\n",
    "text94 = re.sub(r'\\\\x94', ' ', text94)\n",
    "text94 = re.sub(r'\\\\xb7', ' ', text94)"
   ]
  },
  {
   "cell_type": "code",
   "execution_count": 96,
   "metadata": {},
   "outputs": [],
   "source": [
    "text95 = textract.process(\"C:/Users/pondh/Desktop/data/Files/Internal/Tableau Training Document 1.docx\")\n",
    "text95 = str(text95)\n",
    "text95 = re.sub(r'\\\\n', ' ', text95)\n",
    "text95 = re.sub(r'\\n', ' ', text95)\n",
    "text95 = re.sub(r'\\r', ' ', text95)\n",
    "text95 = re.sub(r'\\\\t', ' ', text95)\n",
    "text95 = re.sub(r'\\\\xe2', ' ', text95)\n",
    "text95 = re.sub(r'\\\\x95', ' ', text95)\n",
    "text95 = re.sub(r'\\\\xa6', ' ', text95)\n",
    "text95 = re.sub(r'\\\\x95', ' ', text95)\n",
    "text95 = re.sub(r'\\\\x9', ' ', text95)\n",
    "text95 = re.sub(r'\\\\x9d', ' ', text95)\n",
    "text95 = re.sub(r'\\\\x95', ' ', text95)\n",
    "text95 = re.sub(r'\\\\x99s', ' ', text95)\n",
    "text95 = re.sub(r'\\\\x95', ' ', text95)\n",
    "text95 = re.sub(r'\\\\xc2', ' ', text95)\n",
    "text95 = re.sub(r'\\\\xa0', ' ', text95)\n",
    "text95 = re.sub(r'\\\\xef', ' ', text95)\n",
    "text95 = re.sub(r'\\\\x95', ' ', text95)\n",
    "text95 = re.sub(r'\\\\xa3', ' ', text95)\n",
    "text95 = re.sub(r'\\\\x95', ' ', text95)\n",
    "text95 = re.sub(r'\\\\xb7', ' ', text95)"
   ]
  },
  {
   "cell_type": "code",
   "execution_count": 97,
   "metadata": {},
   "outputs": [],
   "source": [
    "text96 = textract.process(\"C:/Users/pondh/Desktop/data/Files/Internal/Tableau Training Document 2.docx\")\n",
    "text96 = str(text96)\n",
    "text96 = re.sub(r'\\\\n', ' ', text96)\n",
    "text96 = re.sub(r'\\n', ' ', text96)\n",
    "text96 = re.sub(r'\\r', ' ', text96)\n",
    "text96 = re.sub(r'\\\\t', ' ', text96)\n",
    "text96 = re.sub(r'\\\\xe2', ' ', text96)\n",
    "text96 = re.sub(r'\\\\x96', ' ', text96)\n",
    "text96 = re.sub(r'\\\\xa6', ' ', text96)\n",
    "text96 = re.sub(r'\\\\x96', ' ', text96)\n",
    "text96 = re.sub(r'\\\\x9', ' ', text96)\n",
    "text96 = re.sub(r'\\\\x9d', ' ', text96)\n",
    "text96 = re.sub(r'\\\\x96', ' ', text96)\n",
    "text96 = re.sub(r'\\\\x99s', ' ', text96)\n",
    "text96 = re.sub(r'\\\\x96', ' ', text96)\n",
    "text96 = re.sub(r'\\\\xc2', ' ', text96)\n",
    "text96 = re.sub(r'\\\\xa0', ' ', text96)\n",
    "text96 = re.sub(r'\\\\xef', ' ', text96)\n",
    "text96 = re.sub(r'\\\\x96', ' ', text96)\n",
    "text96 = re.sub(r'\\\\xa3', ' ', text96)\n",
    "text96 = re.sub(r'\\\\x96', ' ', text96)\n",
    "text96 = re.sub(r'\\\\xb7', ' ', text96)"
   ]
  },
  {
   "cell_type": "code",
   "execution_count": 98,
   "metadata": {},
   "outputs": [],
   "source": [
    "text97 = textract.process(\"C:/Users/pondh/Desktop/data/Files/Internal/Tableau Training Document 3.docx\")\n",
    "text97 = str(text97)\n",
    "text97 = re.sub(r'\\\\n', ' ', text97)\n",
    "text97 = re.sub(r'\\n', ' ', text97)\n",
    "text97 = re.sub(r'\\r', ' ', text97)\n",
    "text97 = re.sub(r'\\\\t', ' ', text97)\n",
    "text97 = re.sub(r'\\\\xe2', ' ', text97)\n",
    "text97 = re.sub(r'\\\\x97', ' ', text97)\n",
    "text97 = re.sub(r'\\\\xa6', ' ', text97)\n",
    "text97 = re.sub(r'\\\\x97', ' ', text97)\n",
    "text97 = re.sub(r'\\\\x9', ' ', text97)\n",
    "text97 = re.sub(r'\\\\x9d', ' ', text97)\n",
    "text97 = re.sub(r'\\\\x97', ' ', text97)\n",
    "text97 = re.sub(r'\\\\x99s', ' ', text97)\n",
    "text97 = re.sub(r'\\\\x97', ' ', text97)\n",
    "text97 = re.sub(r'\\\\xc2', ' ', text97)\n",
    "text97 = re.sub(r'\\\\xa0', ' ', text97)\n",
    "text97 = re.sub(r'\\\\xef', ' ', text97)\n",
    "text97 = re.sub(r'\\\\x97', ' ', text97)\n",
    "text97 = re.sub(r'\\\\xa3', ' ', text97)\n",
    "text97 = re.sub(r'\\\\x97', ' ', text97)\n",
    "text97 = re.sub(r'\\\\xb7', ' ', text97)"
   ]
  },
  {
   "cell_type": "code",
   "execution_count": 99,
   "metadata": {},
   "outputs": [],
   "source": [
    "text98 = textract.process(\"C:/Users/pondh/Desktop/data/Files/Internal/Tableau Training Document 4.docx\")\n",
    "text98 = str(text98)\n",
    "text98 = re.sub(r'\\\\n', ' ', text98)\n",
    "text98 = re.sub(r'\\n', ' ', text98)\n",
    "text98 = re.sub(r'\\r', ' ', text98)\n",
    "text98 = re.sub(r'\\\\t', ' ', text98)\n",
    "text98 = re.sub(r'\\\\xe2', ' ', text98)\n",
    "text98 = re.sub(r'\\\\x98', ' ', text98)\n",
    "text98 = re.sub(r'\\\\xa6', ' ', text98)\n",
    "text98 = re.sub(r'\\\\x98', ' ', text98)\n",
    "text98 = re.sub(r'\\\\x9', ' ', text98)\n",
    "text98 = re.sub(r'\\\\x9d', ' ', text98)\n",
    "text98 = re.sub(r'\\\\x98', ' ', text98)\n",
    "text98 = re.sub(r'\\\\x99s', ' ', text98)\n",
    "text98 = re.sub(r'\\\\x98', ' ', text98)\n",
    "text98 = re.sub(r'\\\\xc2', ' ', text98)\n",
    "text98 = re.sub(r'\\\\xa0', ' ', text98)\n",
    "text98 = re.sub(r'\\\\xef', ' ', text98)\n",
    "text98 = re.sub(r'\\\\x98', ' ', text98)\n",
    "text98 = re.sub(r'\\\\xa3', ' ', text98)\n",
    "text98 = re.sub(r'\\\\x98', ' ', text98)\n",
    "text98 = re.sub(r'\\\\xb7', ' ', text98)"
   ]
  },
  {
   "cell_type": "code",
   "execution_count": 100,
   "metadata": {},
   "outputs": [],
   "source": [
    "text99 = textract.process(\"C:/Users/pondh/Desktop/data/Files/Internal/Tableau Training Document 5.docx\")\n",
    "text99 = str(text99)\n",
    "text99 = re.sub(r'\\\\n', ' ', text99)\n",
    "text99 = re.sub(r'\\n', ' ', text99)\n",
    "text99 = re.sub(r'\\r', ' ', text99)\n",
    "text99 = re.sub(r'\\\\t', ' ', text99)\n",
    "text99 = re.sub(r'\\\\xe2', ' ', text99)\n",
    "text99 = re.sub(r'\\\\x99', ' ', text99)\n",
    "text99 = re.sub(r'\\\\xa6', ' ', text99)\n",
    "text99 = re.sub(r'\\\\x99', ' ', text99)\n",
    "text99 = re.sub(r'\\\\x9', ' ', text99)\n",
    "text99 = re.sub(r'\\\\x9d', ' ', text99)\n",
    "text99 = re.sub(r'\\\\x99', ' ', text99)\n",
    "text99 = re.sub(r'\\\\x99s', ' ', text99)\n",
    "text99 = re.sub(r'\\\\x99', ' ', text99)\n",
    "text99 = re.sub(r'\\\\xc2', ' ', text99)\n",
    "text99 = re.sub(r'\\\\xa0', ' ', text99)\n",
    "text99 = re.sub(r'\\\\xef', ' ', text99)\n",
    "text99 = re.sub(r'\\\\x99', ' ', text99)\n",
    "text99 = re.sub(r'\\\\xa3', ' ', text99)\n",
    "text99 = re.sub(r'\\\\x99', ' ', text99)\n",
    "text99 = re.sub(r'\\\\xb7', ' ', text99)"
   ]
  },
  {
   "cell_type": "code",
   "execution_count": 101,
   "metadata": {},
   "outputs": [],
   "source": [
    "text100 = textract.process(\"C:/Users/pondh/Desktop/data/Files/Internal/Alteryx Tutorial 1.docx\")\n",
    "text100 = str(text100)\n",
    "text100 = re.sub(r'\\\\n', ' ', text100)\n",
    "text100 = re.sub(r'\\n', ' ', text100)\n",
    "text100 = re.sub(r'\\r', ' ', text100)\n",
    "text100 = re.sub(r'\\\\t', ' ', text100)\n",
    "text100 = re.sub(r'\\\\xe2', ' ', text100)\n",
    "text100 = re.sub(r'\\\\x100', ' ', text100)\n",
    "text100 = re.sub(r'\\\\xa6', ' ', text100)\n",
    "text100 = re.sub(r'\\\\x100', ' ', text100)\n",
    "text100 = re.sub(r'\\\\x9', ' ', text100)\n",
    "text100 = re.sub(r'\\\\x9d', ' ', text100)\n",
    "text100 = re.sub(r'\\\\x100', ' ', text100)\n",
    "text100 = re.sub(r'\\\\x100s', ' ', text100)\n",
    "text100 = re.sub(r'\\\\x100', ' ', text100)\n",
    "text100 = re.sub(r'\\\\xc2', ' ', text100)\n",
    "text100 = re.sub(r'\\\\xa0', ' ', text100)\n",
    "text100 = re.sub(r'\\\\xef', ' ', text100)\n",
    "text100 = re.sub(r'\\\\x100', ' ', text100)\n",
    "text100 = re.sub(r'\\\\xa3', ' ', text100)\n",
    "text100 = re.sub(r'\\\\x100', ' ', text100)\n",
    "text100 = re.sub(r'\\\\xb7', ' ', text100)"
   ]
  },
  {
   "cell_type": "code",
   "execution_count": 102,
   "metadata": {},
   "outputs": [],
   "source": [
    "text101 = textract.process(\"C:/Users/pondh/Desktop/data/Files/Internal/Alteryx Tutorial 2.docx\")\n",
    "text101 = str(text101)\n",
    "text101 = re.sub(r'\\\\n', ' ', text101)\n",
    "text101 = re.sub(r'\\n', ' ', text101)\n",
    "text101 = re.sub(r'\\r', ' ', text101)\n",
    "text101 = re.sub(r'\\\\t', ' ', text101)\n",
    "text101 = re.sub(r'\\\\xe2', ' ', text101)\n",
    "text101 = re.sub(r'\\\\x101', ' ', text101)\n",
    "text101 = re.sub(r'\\\\xa6', ' ', text101)\n",
    "text101 = re.sub(r'\\\\x101', ' ', text101)\n",
    "text101 = re.sub(r'\\\\x9', ' ', text101)\n",
    "text101 = re.sub(r'\\\\x9d', ' ', text101)\n",
    "text101 = re.sub(r'\\\\x101', ' ', text101)\n",
    "text101 = re.sub(r'\\\\x101s', ' ', text101)\n",
    "text101 = re.sub(r'\\\\x101', ' ', text101)\n",
    "text101 = re.sub(r'\\\\xc2', ' ', text101)\n",
    "text101 = re.sub(r'\\\\xa0', ' ', text101)\n",
    "text101 = re.sub(r'\\\\xef', ' ', text101)\n",
    "text101 = re.sub(r'\\\\x101', ' ', text101)\n",
    "text101 = re.sub(r'\\\\xa3', ' ', text101)\n",
    "text101 = re.sub(r'\\\\x101', ' ', text101)\n",
    "text101 = re.sub(r'\\\\xb7', ' ', text101)"
   ]
  },
  {
   "cell_type": "code",
   "execution_count": 103,
   "metadata": {},
   "outputs": [],
   "source": [
    "text102 = textract.process(\"C:/Users/pondh/Desktop/data/Files/Internal/Alteryx Tutorial 3.docx\")\n",
    "text102 = str(text102)\n",
    "text102 = re.sub(r'\\\\n', ' ', text102)\n",
    "text102 = re.sub(r'\\n', ' ', text102)\n",
    "text102 = re.sub(r'\\r', ' ', text102)\n",
    "text102 = re.sub(r'\\\\t', ' ', text102)\n",
    "text102 = re.sub(r'\\\\xe2', ' ', text102)\n",
    "text102 = re.sub(r'\\\\x102', ' ', text102)\n",
    "text102 = re.sub(r'\\\\xa6', ' ', text102)\n",
    "text102 = re.sub(r'\\\\x102', ' ', text102)\n",
    "text102 = re.sub(r'\\\\x9', ' ', text102)\n",
    "text102 = re.sub(r'\\\\x9d', ' ', text102)\n",
    "text102 = re.sub(r'\\\\x102', ' ', text102)\n",
    "text102 = re.sub(r'\\\\x102s', ' ', text102)\n",
    "text102 = re.sub(r'\\\\x102', ' ', text102)\n",
    "text102 = re.sub(r'\\\\xc2', ' ', text102)\n",
    "text102 = re.sub(r'\\\\xa0', ' ', text102)\n",
    "text102 = re.sub(r'\\\\xef', ' ', text102)\n",
    "text102 = re.sub(r'\\\\x102', ' ', text102)\n",
    "text102 = re.sub(r'\\\\xa3', ' ', text102)\n",
    "text102 = re.sub(r'\\\\x102', ' ', text102)\n",
    "text102 = re.sub(r'\\\\xb7', ' ', text102)"
   ]
  },
  {
   "cell_type": "code",
   "execution_count": 104,
   "metadata": {},
   "outputs": [],
   "source": [
    "text103 = textract.process(\"C:/Users/pondh/Desktop/data/Files/Internal/Alteryx Tutorial 4.docx\")\n",
    "text103 = str(text103)\n",
    "text103 = re.sub(r'\\\\n', ' ', text103)\n",
    "text103 = re.sub(r'\\n', ' ', text103)\n",
    "text103 = re.sub(r'\\r', ' ', text103)\n",
    "text103 = re.sub(r'\\\\t', ' ', text103)\n",
    "text103 = re.sub(r'\\\\xe2', ' ', text103)\n",
    "text103 = re.sub(r'\\\\x103', ' ', text103)\n",
    "text103 = re.sub(r'\\\\xa6', ' ', text103)\n",
    "text103 = re.sub(r'\\\\x103', ' ', text103)\n",
    "text103 = re.sub(r'\\\\x9', ' ', text103)\n",
    "text103 = re.sub(r'\\\\x9d', ' ', text103)\n",
    "text103 = re.sub(r'\\\\x103', ' ', text103)\n",
    "text103 = re.sub(r'\\\\x103s', ' ', text103)\n",
    "text103 = re.sub(r'\\\\x103', ' ', text103)\n",
    "text103 = re.sub(r'\\\\xc2', ' ', text103)\n",
    "text103 = re.sub(r'\\\\xa0', ' ', text103)\n",
    "text103 = re.sub(r'\\\\xef', ' ', text103)\n",
    "text103 = re.sub(r'\\\\x103', ' ', text103)\n",
    "text103 = re.sub(r'\\\\xa3', ' ', text103)\n",
    "text103 = re.sub(r'\\\\x103', ' ', text103)\n",
    "text103 = re.sub(r'\\\\xb7', ' ', text103)"
   ]
  },
  {
   "cell_type": "code",
   "execution_count": 105,
   "metadata": {},
   "outputs": [],
   "source": [
    "text104 = textract.process(\"C:/Users/pondh/Desktop/data/Files/Internal/Alteryx Tutorial 5.docx\")\n",
    "text104 = str(text104)\n",
    "text104 = re.sub(r'\\\\n', ' ', text104)\n",
    "text104 = re.sub(r'\\n', ' ', text104)\n",
    "text104 = re.sub(r'\\r', ' ', text104)\n",
    "text104 = re.sub(r'\\\\t', ' ', text104)\n",
    "text104 = re.sub(r'\\\\xe2', ' ', text104)\n",
    "text104 = re.sub(r'\\\\x104', ' ', text104)\n",
    "text104 = re.sub(r'\\\\xa6', ' ', text104)\n",
    "text104 = re.sub(r'\\\\x104', ' ', text104)\n",
    "text104 = re.sub(r'\\\\x9', ' ', text104)\n",
    "text104 = re.sub(r'\\\\x9d', ' ', text104)\n",
    "text104 = re.sub(r'\\\\x104', ' ', text104)\n",
    "text104 = re.sub(r'\\\\x104s', ' ', text104)\n",
    "text104 = re.sub(r'\\\\x104', ' ', text104)\n",
    "text104 = re.sub(r'\\\\xc2', ' ', text104)\n",
    "text104 = re.sub(r'\\\\xa0', ' ', text104)\n",
    "text104 = re.sub(r'\\\\xef', ' ', text104)\n",
    "text104 = re.sub(r'\\\\x104', ' ', text104)\n",
    "text104 = re.sub(r'\\\\xa3', ' ', text104)\n",
    "text104 = re.sub(r'\\\\x104', ' ', text104)\n",
    "text104 = re.sub(r'\\\\xb7', ' ', text104)"
   ]
  },
  {
   "cell_type": "code",
   "execution_count": 106,
   "metadata": {},
   "outputs": [],
   "source": [
    "text = [text1, text2, text3, text4, text5, text6, text7, text8, text9, text10, text11, text12, text13, text14, text15,\n",
    "       text16, text17, text18, text19, text20, text21, text22, text23, text24, text25, text26, text27, text28, text29, text30, text31, text32,\n",
    "       text33, text34, text35, text36, text37, text38, text39, text40, text41, text42, text43, text44, text45, text46, text47, text48, text49, \n",
    "       text50, text51, text52, text53, text54, text55, text56, text57, text58, text59, text60, \n",
    "       text61, text62, text63, text64, text65, text66, text67, text68, text69, text70, text71,\n",
    "       text72, text73, text74, text75, text76, text77, text78, text79, text80, text81, text82,\n",
    "       text83, text83, text84, text85, text86, text87, text88, text89, text90, text91, text92, text93, text94,\n",
    "       text95, text96, text97, text98, text99, text100, text101, text102, text103, text104]"
   ]
  },
  {
   "cell_type": "code",
   "execution_count": 107,
   "metadata": {},
   "outputs": [],
   "source": [
    "category = ['Internal', 'Internal', 'Internal', 'Internal', 'Internal', 'Internal', 'Internal', 'Internal', \n",
    "            'Public', 'Public', 'Public', 'Public', 'Public', 'Public', 'Public', 'Public', 'Public', 'Public', \n",
    "            'Public', 'Public', 'Public', 'Confidential', 'Confidential', 'Confidential', 'Restricted', \n",
    "            'Restricted', 'Restricted', 'Restricted', 'Restricted', 'Restricted', 'Confidential', 'Confidential',\n",
    "           'Public', 'Public', 'Public', 'Public', 'Public', 'Public', 'Public', 'Restricted', 'Restricted', 'Restricted',\n",
    "            'Restricted', 'Confidential', 'Confidential', 'Confidential', 'Internal', 'Internal', 'Internal',\n",
    "           'Internal', 'Internal', 'Internal', 'Internal', 'Internal', 'Internal', 'Public', 'Public', 'Public', 'Public'\n",
    "           , 'Public', 'Public', 'Public', 'Public', 'Confidential', 'Confidential', 'Confidential', 'Confidential'\n",
    "           , 'Confidential', 'Confidential', 'Confidential', 'Confidential', 'Restricted', 'Restricted', 'Restricted', \n",
    "            'Restricted', 'Restricted', 'Restricted', 'Restricted', 'Restricted', 'Restricted', 'Restricted', 'Restricted', \n",
    "            'Restricted', 'Restricted', 'Restricted', 'Restricted', 'Restricted', 'Restricted', 'Confidential', \n",
    "            'Confidential', 'Confidential', 'Confidential', 'Confidential', 'Confidential', 'Internal', \n",
    "            'Internal', 'Internal', 'Internal', 'Internal', 'Internal', 'Internal', 'Internal', 'Internal', 'Internal']"
   ]
  },
  {
   "cell_type": "code",
   "execution_count": 108,
   "metadata": {},
   "outputs": [],
   "source": [
    "#Internal - 0, Public - 1, Confidential - 2, Restricted -3"
   ]
  },
  {
   "cell_type": "code",
   "execution_count": 109,
   "metadata": {},
   "outputs": [],
   "source": [
    "label = [0, 0, 0, 0, 0, 0, 0, 0, 1, 1, 1, 1, 1, 1, 1, 1, 1, 1, 1, 1, 1, 2, \n",
    "         2, 2, 3, 3, 3, 3, 3, 3, 2, 2, 1, 1, 1, 1, 1, 1, 1, 3, 3, 3, 3, 2, \n",
    "         2, 2, 0, 0, 0, 0, 0, 0, 0, 0, 0, 1, 1, 1, 1, 1, 1, 1, 1, 2, 2, 2, \n",
    "         2, 2, 2, 2, 2, 3, 3, 3, 3, 3, 3, 3, 3, 3, 3, 3, 3, 3, 3, 3, 3, 3, \n",
    "         2, 2, 2, 2, 2, 2, 0, 0, 0, 0, 0, 0, 0, 0, 0, 0]"
   ]
  },
  {
   "cell_type": "code",
   "execution_count": 110,
   "metadata": {},
   "outputs": [
    {
     "data": {
      "text/plain": [
       "104"
      ]
     },
     "execution_count": 110,
     "metadata": {},
     "output_type": "execute_result"
    }
   ],
   "source": [
    "len(label)"
   ]
  },
  {
   "cell_type": "code",
   "execution_count": 111,
   "metadata": {},
   "outputs": [],
   "source": [
    "import pandas as pd\n",
    "file = pd.DataFrame(list(zip(text, category, label)), columns = ['text', 'category','label'])"
   ]
  },
  {
   "cell_type": "code",
   "execution_count": 112,
   "metadata": {},
   "outputs": [
    {
     "data": {
      "text/html": [
       "<div>\n",
       "<style scoped>\n",
       "    .dataframe tbody tr th:only-of-type {\n",
       "        vertical-align: middle;\n",
       "    }\n",
       "\n",
       "    .dataframe tbody tr th {\n",
       "        vertical-align: top;\n",
       "    }\n",
       "\n",
       "    .dataframe thead th {\n",
       "        text-align: right;\n",
       "    }\n",
       "</style>\n",
       "<table border=\"1\" class=\"dataframe\">\n",
       "  <thead>\n",
       "    <tr style=\"text-align: right;\">\n",
       "      <th></th>\n",
       "      <th>text</th>\n",
       "      <th>category</th>\n",
       "      <th>label</th>\n",
       "    </tr>\n",
       "  </thead>\n",
       "  <tbody>\n",
       "    <tr>\n",
       "      <td>0</td>\n",
       "      <td>b'About the Tutorial  A data warehouse is cons...</td>\n",
       "      <td>Internal</td>\n",
       "      <td>0</td>\n",
       "    </tr>\n",
       "    <tr>\n",
       "      <td>1</td>\n",
       "      <td>b'Metadata Competency Document      CONFIDENTI...</td>\n",
       "      <td>Internal</td>\n",
       "      <td>0</td>\n",
       "    </tr>\n",
       "    <tr>\n",
       "      <td>2</td>\n",
       "      <td>b\"1 Introduction 5    2 Types of Metadata 6   ...</td>\n",
       "      <td>Internal</td>\n",
       "      <td>0</td>\n",
       "    </tr>\n",
       "    <tr>\n",
       "      <td>3</td>\n",
       "      <td>b'Enterprise Repositories  If an organization ...</td>\n",
       "      <td>Internal</td>\n",
       "      <td>0</td>\n",
       "    </tr>\n",
       "    <tr>\n",
       "      <td>4</td>\n",
       "      <td>b'Microsoft  Released v.1 of its \"repository e...</td>\n",
       "      <td>Internal</td>\n",
       "      <td>0</td>\n",
       "    </tr>\n",
       "  </tbody>\n",
       "</table>\n",
       "</div>"
      ],
      "text/plain": [
       "                                                text  category  label\n",
       "0  b'About the Tutorial  A data warehouse is cons...  Internal      0\n",
       "1  b'Metadata Competency Document      CONFIDENTI...  Internal      0\n",
       "2  b\"1 Introduction 5    2 Types of Metadata 6   ...  Internal      0\n",
       "3  b'Enterprise Repositories  If an organization ...  Internal      0\n",
       "4  b'Microsoft  Released v.1 of its \"repository e...  Internal      0"
      ]
     },
     "execution_count": 112,
     "metadata": {},
     "output_type": "execute_result"
    }
   ],
   "source": [
    "file.head(5)"
   ]
  },
  {
   "cell_type": "code",
   "execution_count": 113,
   "metadata": {},
   "outputs": [
    {
     "data": {
      "text/html": [
       "<div>\n",
       "<style scoped>\n",
       "    .dataframe tbody tr th:only-of-type {\n",
       "        vertical-align: middle;\n",
       "    }\n",
       "\n",
       "    .dataframe tbody tr th {\n",
       "        vertical-align: top;\n",
       "    }\n",
       "\n",
       "    .dataframe thead th {\n",
       "        text-align: right;\n",
       "    }\n",
       "</style>\n",
       "<table border=\"1\" class=\"dataframe\">\n",
       "  <thead>\n",
       "    <tr style=\"text-align: right;\">\n",
       "      <th></th>\n",
       "      <th>text</th>\n",
       "      <th>category</th>\n",
       "      <th>label</th>\n",
       "    </tr>\n",
       "  </thead>\n",
       "  <tbody>\n",
       "    <tr>\n",
       "      <td>99</td>\n",
       "      <td>b'Tableau Training Document 5    Navigating Da...</td>\n",
       "      <td>Internal</td>\n",
       "      <td>0</td>\n",
       "    </tr>\n",
       "    <tr>\n",
       "      <td>100</td>\n",
       "      <td>b'Alteryx Tutorial 1    Get Started with Desig...</td>\n",
       "      <td>Internal</td>\n",
       "      <td>0</td>\n",
       "    </tr>\n",
       "    <tr>\n",
       "      <td>101</td>\n",
       "      <td>b'Alteryx Tutorial 2  User Settings  Version: ...</td>\n",
       "      <td>Internal</td>\n",
       "      <td>0</td>\n",
       "    </tr>\n",
       "    <tr>\n",
       "      <td>102</td>\n",
       "      <td>b'Alteryx Tutorial 3    Sample Workflows in De...</td>\n",
       "      <td>Internal</td>\n",
       "      <td>0</td>\n",
       "    </tr>\n",
       "    <tr>\n",
       "      <td>103</td>\n",
       "      <td>b'Alteryx Tutorial 4    Functions  Version:  2...</td>\n",
       "      <td>Internal</td>\n",
       "      <td>0</td>\n",
       "    </tr>\n",
       "  </tbody>\n",
       "</table>\n",
       "</div>"
      ],
      "text/plain": [
       "                                                  text  category  label\n",
       "99   b'Tableau Training Document 5    Navigating Da...  Internal      0\n",
       "100  b'Alteryx Tutorial 1    Get Started with Desig...  Internal      0\n",
       "101  b'Alteryx Tutorial 2  User Settings  Version: ...  Internal      0\n",
       "102  b'Alteryx Tutorial 3    Sample Workflows in De...  Internal      0\n",
       "103  b'Alteryx Tutorial 4    Functions  Version:  2...  Internal      0"
      ]
     },
     "execution_count": 113,
     "metadata": {},
     "output_type": "execute_result"
    }
   ],
   "source": [
    "file.tail(5)"
   ]
  },
  {
   "cell_type": "code",
   "execution_count": 114,
   "metadata": {},
   "outputs": [],
   "source": [
    "file['text'] = file['text'].astype(str)"
   ]
  },
  {
   "cell_type": "code",
   "execution_count": 115,
   "metadata": {},
   "outputs": [
    {
     "data": {
      "text/plain": [
       "text        object\n",
       "category    object\n",
       "label        int64\n",
       "dtype: object"
      ]
     },
     "execution_count": 115,
     "metadata": {},
     "output_type": "execute_result"
    }
   ],
   "source": [
    "file.dtypes"
   ]
  },
  {
   "cell_type": "code",
   "execution_count": 116,
   "metadata": {},
   "outputs": [
    {
     "data": {
      "text/plain": [
       "<matplotlib.axes._subplots.AxesSubplot at 0x25e164104c8>"
      ]
     },
     "execution_count": 116,
     "metadata": {},
     "output_type": "execute_result"
    }
   ],
   "source": [
    "count = file['category'].value_counts()\n",
    "import matplotlib.pyplot as plt\n",
    "plt.figure(figsize=(10,5))\n",
    "plt.title('Number of Documents per Category')\n",
    "count.plot(kind='bar')"
   ]
  },
  {
   "cell_type": "code",
   "execution_count": 117,
   "metadata": {},
   "outputs": [],
   "source": [
    "file['doc_length'] = file['text'].str.len()"
   ]
  },
  {
   "cell_type": "code",
   "execution_count": 118,
   "metadata": {},
   "outputs": [
    {
     "data": {
      "image/png": "[encoded data removed]",
      "text/plain": [
       "<Figure size 921.6x432 with 1 Axes>"
      ]
     },
     "metadata": {
      "needs_background": "light"
     },
     "output_type": "display_data"
    }
   ],
   "source": [
    "import seaborn as sns\n",
    "plt.figure(figsize=(12.8,6))\n",
    "sns.distplot(file['doc_length']).set_title('Document length distribution');"
   ]
  },
  {
   "cell_type": "code",
   "execution_count": 119,
   "metadata": {},
   "outputs": [
    {
     "data": {
      "image/png": "[encoded data removed]",
      "text/plain": [
       "<Figure size 921.6x432 with 1 Axes>"
      ]
     },
     "metadata": {
      "needs_background": "light"
     },
     "output_type": "display_data"
    }
   ],
   "source": [
    "plt.figure(figsize=(12.8,6))\n",
    "sns.boxplot(data=file, x='category', y='doc_length', width=.5).set_title('Document length distribution');"
   ]
  },
  {
   "cell_type": "code",
   "execution_count": 120,
   "metadata": {},
   "outputs": [],
   "source": [
    "#Text Cleaning Start\n",
    "import string\n",
    "import nltk\n",
    "lemmer = nltk.stem.WordNetLemmatizer()"
   ]
  },
  {
   "cell_type": "code",
   "execution_count": 121,
   "metadata": {},
   "outputs": [],
   "source": [
    "#Remove b' \\r and \\n\n",
    "file['text_Parsed_1'] = file['text'].str.replace(\"b'\", \" \")\n",
    "file['text_Parsed_1'] = file['text_Parsed_1'].str.replace(\"\\r\", \" \")\n",
    "file['text_Parsed_1'] = file['text_Parsed_1'].str.replace(\"    \", \" \")\n",
    "# Remove \" when quoting text\n",
    "file['text_Parsed_1'] = file['text_Parsed_1'].str.replace('\"', '')"
   ]
  },
  {
   "cell_type": "code",
   "execution_count": 122,
   "metadata": {},
   "outputs": [],
   "source": [
    "# Lowercasing the text\n",
    "file['text_Parsed_2'] = file['text_Parsed_1'].str.lower()"
   ]
  },
  {
   "cell_type": "code",
   "execution_count": 123,
   "metadata": {},
   "outputs": [],
   "source": [
    "string.punctuation2 = '!\"#$%&\\'()*+,-/:;<=>[\\\\]^_`{|}~.'"
   ]
  },
  {
   "cell_type": "code",
   "execution_count": 124,
   "metadata": {},
   "outputs": [],
   "source": [
    "file['text_Parsed_3'] = file['text_Parsed_2']\n",
    "for punct_sign in string.punctuation2:\n",
    "    file['text_Parsed_3'] = file['text_Parsed_3'].str.replace(punct_sign, '')"
   ]
  },
  {
   "cell_type": "code",
   "execution_count": 125,
   "metadata": {},
   "outputs": [],
   "source": [
    "numbers = '0123456789'"
   ]
  },
  {
   "cell_type": "code",
   "execution_count": 126,
   "metadata": {},
   "outputs": [],
   "source": [
    "for num in numbers:\n",
    "    file['text_Parsed_3'] = file['text_Parsed_3'].str.replace(num, '')"
   ]
  },
  {
   "cell_type": "code",
   "execution_count": 127,
   "metadata": {},
   "outputs": [],
   "source": [
    "file['text_Parsed_3'] = file['text_Parsed_3'].str.replace('pan', 'Permanent Account Number PAN')\n",
    "file['text_Parsed_3'] = file['text_Parsed_3'].str.replace('ssn', 'Social Security Number SSN')"
   ]
  },
  {
   "cell_type": "code",
   "execution_count": 128,
   "metadata": {},
   "outputs": [],
   "source": [
    "file['text_Parsed_4'] = file['text_Parsed_3'].str.replace(\"'s\", \"\")"
   ]
  },
  {
   "cell_type": "code",
   "execution_count": 129,
   "metadata": {},
   "outputs": [
    {
     "name": "stderr",
     "output_type": "stream",
     "text": [
      "[nltk_data] Downloading package punkt to\n",
      "[nltk_data]     C:\\Users\\pondh\\AppData\\Roaming\\nltk_data...\n",
      "[nltk_data]   Package punkt is already up-to-date!\n",
      "[nltk_data] Downloading package wordnet to\n",
      "[nltk_data]     C:\\Users\\pondh\\AppData\\Roaming\\nltk_data...\n",
      "[nltk_data]   Package wordnet is already up-to-date!\n"
     ]
    }
   ],
   "source": [
    "# Downloading punkt and wordnet from NLTK\n",
    "nltk.download('punkt')\n",
    "nltk.download('wordnet')\n",
    "# Saving the lemmatizer into an object\n",
    "wordnet_lemmatizer = nltk.stem.WordNetLemmatizer()"
   ]
  },
  {
   "cell_type": "code",
   "execution_count": 130,
   "metadata": {},
   "outputs": [],
   "source": [
    "nrows = len(file)\n",
    "lemmatized_text_list = []\n",
    "\n",
    "for row in range(0, nrows):\n",
    "    \n",
    "    # Create an empty list containing lemmatized words\n",
    "    lemmatized_list = []\n",
    "    \n",
    "    # Save the text and its words into an object\n",
    "    text = file.loc[row]['text_Parsed_4']\n",
    "    text_words = text.split(\" \")\n",
    "\n",
    "    # Iterate through every word to lemmatize\n",
    "    for word in text_words:\n",
    "        lemmatized_list.append(wordnet_lemmatizer.lemmatize(word, pos=\"v\"))\n",
    "        \n",
    "    # Join the list\n",
    "    lemmatized_text = \" \".join(lemmatized_list)\n",
    "    \n",
    "    # Append to the list containing the texts\n",
    "    lemmatized_text_list.append(lemmatized_text)"
   ]
  },
  {
   "cell_type": "code",
   "execution_count": 131,
   "metadata": {},
   "outputs": [],
   "source": [
    "file['text_Parsed_5'] = lemmatized_text_list"
   ]
  },
  {
   "cell_type": "code",
   "execution_count": 132,
   "metadata": {},
   "outputs": [
    {
     "name": "stderr",
     "output_type": "stream",
     "text": [
      "[nltk_data] Downloading package stopwords to\n",
      "[nltk_data]     C:\\Users\\pondh\\AppData\\Roaming\\nltk_data...\n",
      "[nltk_data]   Package stopwords is already up-to-date!\n"
     ]
    }
   ],
   "source": [
    "# Downloading the stop words list\n",
    "nltk.download('stopwords')\n",
    "from nltk.corpus import stopwords\n",
    "# Loading the stop words in english\n",
    "stop_words = stopwords.words('english')"
   ]
  },
  {
   "cell_type": "code",
   "execution_count": 133,
   "metadata": {},
   "outputs": [],
   "source": [
    "file['text_Parsed_6'] = file['text_Parsed_5']\n",
    "\n",
    "for stop_word in stop_words:\n",
    "\n",
    "    regex_stopword = r\"\\b\" + stop_word + r\"\\b\"\n",
    "    file['text_Parsed_6'] = file['text_Parsed_6'].str.replace(regex_stopword, '')"
   ]
  },
  {
   "cell_type": "code",
   "execution_count": 134,
   "metadata": {},
   "outputs": [
    {
     "data": {
      "text/html": [
       "<div>\n",
       "<style scoped>\n",
       "    .dataframe tbody tr th:only-of-type {\n",
       "        vertical-align: middle;\n",
       "    }\n",
       "\n",
       "    .dataframe tbody tr th {\n",
       "        vertical-align: top;\n",
       "    }\n",
       "\n",
       "    .dataframe thead th {\n",
       "        text-align: right;\n",
       "    }\n",
       "</style>\n",
       "<table border=\"1\" class=\"dataframe\">\n",
       "  <thead>\n",
       "    <tr style=\"text-align: right;\">\n",
       "      <th></th>\n",
       "      <th>text</th>\n",
       "      <th>category</th>\n",
       "      <th>label</th>\n",
       "      <th>doc_length</th>\n",
       "      <th>text_Parsed_1</th>\n",
       "      <th>text_Parsed_2</th>\n",
       "      <th>text_Parsed_3</th>\n",
       "      <th>text_Parsed_4</th>\n",
       "      <th>text_Parsed_5</th>\n",
       "      <th>text_Parsed_6</th>\n",
       "    </tr>\n",
       "  </thead>\n",
       "  <tbody>\n",
       "    <tr>\n",
       "      <td>0</td>\n",
       "      <td>b'About the Tutorial  A data warehouse is cons...</td>\n",
       "      <td>Internal</td>\n",
       "      <td>0</td>\n",
       "      <td>8837</td>\n",
       "      <td>About the Tutorial  A data warehouse is const...</td>\n",
       "      <td>about the tutorial  a data warehouse is const...</td>\n",
       "      <td>about the tutorial  a data warehouse is const...</td>\n",
       "      <td>about the tutorial  a data warehouse is const...</td>\n",
       "      <td>about the tutorial  a data warehouse be const...</td>\n",
       "      <td>tutorial   data warehouse  construct  integ...</td>\n",
       "    </tr>\n",
       "    <tr>\n",
       "      <td>1</td>\n",
       "      <td>b'Metadata Competency Document      CONFIDENTI...</td>\n",
       "      <td>Internal</td>\n",
       "      <td>0</td>\n",
       "      <td>17491</td>\n",
       "      <td>Metadata Competency Document   CONFIDENTIALIT...</td>\n",
       "      <td>metadata competency document   confidentialit...</td>\n",
       "      <td>metadata competency document   confidentialit...</td>\n",
       "      <td>metadata competency document   confidentialit...</td>\n",
       "      <td>metadata competency document   confidentialit...</td>\n",
       "      <td>metadata competency document   confidentialit...</td>\n",
       "    </tr>\n",
       "    <tr>\n",
       "      <td>2</td>\n",
       "      <td>b\"1 Introduction 5    2 Types of Metadata 6   ...</td>\n",
       "      <td>Internal</td>\n",
       "      <td>0</td>\n",
       "      <td>21995</td>\n",
       "      <td>b1 Introduction 5 2 Types of Metadata 6 3 Meta...</td>\n",
       "      <td>b1 introduction 5 2 types of metadata 6 3 meta...</td>\n",
       "      <td>b introduction   types of metadata   metadata ...</td>\n",
       "      <td>b introduction   types of metadata   metadata ...</td>\n",
       "      <td>b introduction   type of metadata   metadata m...</td>\n",
       "      <td>b introduction   type  metadata   metadata man...</td>\n",
       "    </tr>\n",
       "    <tr>\n",
       "      <td>3</td>\n",
       "      <td>b'Enterprise Repositories  If an organization ...</td>\n",
       "      <td>Internal</td>\n",
       "      <td>0</td>\n",
       "      <td>20675</td>\n",
       "      <td>Enterprise Repositories  If an organization r...</td>\n",
       "      <td>enterprise repositories  if an organization r...</td>\n",
       "      <td>enterprise repositories  if an organization r...</td>\n",
       "      <td>enterprise repositories  if an organization r...</td>\n",
       "      <td>enterprise repositories  if an organization r...</td>\n",
       "      <td>enterprise repositories    organization requi...</td>\n",
       "    </tr>\n",
       "    <tr>\n",
       "      <td>4</td>\n",
       "      <td>b'Microsoft  Released v.1 of its \"repository e...</td>\n",
       "      <td>Internal</td>\n",
       "      <td>0</td>\n",
       "      <td>17486</td>\n",
       "      <td>Microsoft  Released v.1 of its repository eng...</td>\n",
       "      <td>microsoft  released v.1 of its repository eng...</td>\n",
       "      <td>microsoft  released v of its repository engin...</td>\n",
       "      <td>microsoft  released v of its repository engin...</td>\n",
       "      <td>microsoft  release v of its repository engine...</td>\n",
       "      <td>microsoft  release v   repository engine  pro...</td>\n",
       "    </tr>\n",
       "  </tbody>\n",
       "</table>\n",
       "</div>"
      ],
      "text/plain": [
       "                                                text  category  label  \\\n",
       "0  b'About the Tutorial  A data warehouse is cons...  Internal      0   \n",
       "1  b'Metadata Competency Document      CONFIDENTI...  Internal      0   \n",
       "2  b\"1 Introduction 5    2 Types of Metadata 6   ...  Internal      0   \n",
       "3  b'Enterprise Repositories  If an organization ...  Internal      0   \n",
       "4  b'Microsoft  Released v.1 of its \"repository e...  Internal      0   \n",
       "\n",
       "   doc_length                                      text_Parsed_1  \\\n",
       "0        8837   About the Tutorial  A data warehouse is const...   \n",
       "1       17491   Metadata Competency Document   CONFIDENTIALIT...   \n",
       "2       21995  b1 Introduction 5 2 Types of Metadata 6 3 Meta...   \n",
       "3       20675   Enterprise Repositories  If an organization r...   \n",
       "4       17486   Microsoft  Released v.1 of its repository eng...   \n",
       "\n",
       "                                       text_Parsed_2  \\\n",
       "0   about the tutorial  a data warehouse is const...   \n",
       "1   metadata competency document   confidentialit...   \n",
       "2  b1 introduction 5 2 types of metadata 6 3 meta...   \n",
       "3   enterprise repositories  if an organization r...   \n",
       "4   microsoft  released v.1 of its repository eng...   \n",
       "\n",
       "                                       text_Parsed_3  \\\n",
       "0   about the tutorial  a data warehouse is const...   \n",
       "1   metadata competency document   confidentialit...   \n",
       "2  b introduction   types of metadata   metadata ...   \n",
       "3   enterprise repositories  if an organization r...   \n",
       "4   microsoft  released v of its repository engin...   \n",
       "\n",
       "                                       text_Parsed_4  \\\n",
       "0   about the tutorial  a data warehouse is const...   \n",
       "1   metadata competency document   confidentialit...   \n",
       "2  b introduction   types of metadata   metadata ...   \n",
       "3   enterprise repositories  if an organization r...   \n",
       "4   microsoft  released v of its repository engin...   \n",
       "\n",
       "                                       text_Parsed_5  \\\n",
       "0   about the tutorial  a data warehouse be const...   \n",
       "1   metadata competency document   confidentialit...   \n",
       "2  b introduction   type of metadata   metadata m...   \n",
       "3   enterprise repositories  if an organization r...   \n",
       "4   microsoft  release v of its repository engine...   \n",
       "\n",
       "                                       text_Parsed_6  \n",
       "0     tutorial   data warehouse  construct  integ...  \n",
       "1   metadata competency document   confidentialit...  \n",
       "2  b introduction   type  metadata   metadata man...  \n",
       "3   enterprise repositories    organization requi...  \n",
       "4   microsoft  release v   repository engine  pro...  "
      ]
     },
     "execution_count": 134,
     "metadata": {},
     "output_type": "execute_result"
    }
   ],
   "source": [
    "file.head(5)"
   ]
  },
  {
   "cell_type": "code",
   "execution_count": 135,
   "metadata": {
    "scrolled": true
   },
   "outputs": [
    {
     "data": {
      "text/html": [
       "<div>\n",
       "<style scoped>\n",
       "    .dataframe tbody tr th:only-of-type {\n",
       "        vertical-align: middle;\n",
       "    }\n",
       "\n",
       "    .dataframe tbody tr th {\n",
       "        vertical-align: top;\n",
       "    }\n",
       "\n",
       "    .dataframe thead th {\n",
       "        text-align: right;\n",
       "    }\n",
       "</style>\n",
       "<table border=\"1\" class=\"dataframe\">\n",
       "  <thead>\n",
       "    <tr style=\"text-align: right;\">\n",
       "      <th></th>\n",
       "      <th>text</th>\n",
       "      <th>category</th>\n",
       "      <th>label</th>\n",
       "      <th>doc_length</th>\n",
       "      <th>text_Parsed_1</th>\n",
       "      <th>text_Parsed_2</th>\n",
       "      <th>text_Parsed_3</th>\n",
       "      <th>text_Parsed_4</th>\n",
       "      <th>text_Parsed_5</th>\n",
       "      <th>text_Parsed_6</th>\n",
       "    </tr>\n",
       "  </thead>\n",
       "  <tbody>\n",
       "    <tr>\n",
       "      <td>99</td>\n",
       "      <td>b'Tableau Training Document 5    Navigating Da...</td>\n",
       "      <td>Internal</td>\n",
       "      <td>0</td>\n",
       "      <td>979</td>\n",
       "      <td>Tableau Training Document 5 Navigating Data S...</td>\n",
       "      <td>tableau training document 5 navigating data s...</td>\n",
       "      <td>tableau training document  navigating data so...</td>\n",
       "      <td>tableau training document  navigating data so...</td>\n",
       "      <td>tableau train document  navigate data source ...</td>\n",
       "      <td>tableau train document  navigate data source ...</td>\n",
       "    </tr>\n",
       "    <tr>\n",
       "      <td>100</td>\n",
       "      <td>b'Alteryx Tutorial 1    Get Started with Desig...</td>\n",
       "      <td>Internal</td>\n",
       "      <td>0</td>\n",
       "      <td>1119</td>\n",
       "      <td>Alteryx Tutorial 1 Get Started with Designer ...</td>\n",
       "      <td>alteryx tutorial 1 get started with designer ...</td>\n",
       "      <td>alteryx tutorial  get started with designer  ...</td>\n",
       "      <td>alteryx tutorial  get started with designer  ...</td>\n",
       "      <td>alteryx tutorial  get start with designer  ve...</td>\n",
       "      <td>alteryx tutorial  get start  designer  versio...</td>\n",
       "    </tr>\n",
       "    <tr>\n",
       "      <td>101</td>\n",
       "      <td>b'Alteryx Tutorial 2  User Settings  Version: ...</td>\n",
       "      <td>Internal</td>\n",
       "      <td>0</td>\n",
       "      <td>14438</td>\n",
       "      <td>Alteryx Tutorial 2  User Settings  Version:  ...</td>\n",
       "      <td>alteryx tutorial 2  user settings  version:  ...</td>\n",
       "      <td>alteryx tutorial   user settings  version    ...</td>\n",
       "      <td>alteryx tutorial   user settings  version    ...</td>\n",
       "      <td>alteryx tutorial   user settings  version    ...</td>\n",
       "      <td>alteryx tutorial   user settings  version    ...</td>\n",
       "    </tr>\n",
       "    <tr>\n",
       "      <td>102</td>\n",
       "      <td>b'Alteryx Tutorial 3    Sample Workflows in De...</td>\n",
       "      <td>Internal</td>\n",
       "      <td>0</td>\n",
       "      <td>2442</td>\n",
       "      <td>Alteryx Tutorial 3 Sample Workflows in Design...</td>\n",
       "      <td>alteryx tutorial 3 sample workflows in design...</td>\n",
       "      <td>alteryx tutorial  sample workflows in designe...</td>\n",
       "      <td>alteryx tutorial  sample workflows in designe...</td>\n",
       "      <td>alteryx tutorial  sample workflows in designe...</td>\n",
       "      <td>alteryx tutorial  sample workflows  designer ...</td>\n",
       "    </tr>\n",
       "    <tr>\n",
       "      <td>103</td>\n",
       "      <td>b'Alteryx Tutorial 4    Functions  Version:  2...</td>\n",
       "      <td>Internal</td>\n",
       "      <td>0</td>\n",
       "      <td>2576</td>\n",
       "      <td>Alteryx Tutorial 4 Functions  Version:  2022....</td>\n",
       "      <td>alteryx tutorial 4 functions  version:  2022....</td>\n",
       "      <td>alteryx tutorial  functions  version    last ...</td>\n",
       "      <td>alteryx tutorial  functions  version    last ...</td>\n",
       "      <td>alteryx tutorial  function  version    last m...</td>\n",
       "      <td>alteryx tutorial  function  version    last m...</td>\n",
       "    </tr>\n",
       "  </tbody>\n",
       "</table>\n",
       "</div>"
      ],
      "text/plain": [
       "                                                  text  category  label  \\\n",
       "99   b'Tableau Training Document 5    Navigating Da...  Internal      0   \n",
       "100  b'Alteryx Tutorial 1    Get Started with Desig...  Internal      0   \n",
       "101  b'Alteryx Tutorial 2  User Settings  Version: ...  Internal      0   \n",
       "102  b'Alteryx Tutorial 3    Sample Workflows in De...  Internal      0   \n",
       "103  b'Alteryx Tutorial 4    Functions  Version:  2...  Internal      0   \n",
       "\n",
       "     doc_length                                      text_Parsed_1  \\\n",
       "99          979   Tableau Training Document 5 Navigating Data S...   \n",
       "100        1119   Alteryx Tutorial 1 Get Started with Designer ...   \n",
       "101       14438   Alteryx Tutorial 2  User Settings  Version:  ...   \n",
       "102        2442   Alteryx Tutorial 3 Sample Workflows in Design...   \n",
       "103        2576   Alteryx Tutorial 4 Functions  Version:  2022....   \n",
       "\n",
       "                                         text_Parsed_2  \\\n",
       "99    tableau training document 5 navigating data s...   \n",
       "100   alteryx tutorial 1 get started with designer ...   \n",
       "101   alteryx tutorial 2  user settings  version:  ...   \n",
       "102   alteryx tutorial 3 sample workflows in design...   \n",
       "103   alteryx tutorial 4 functions  version:  2022....   \n",
       "\n",
       "                                         text_Parsed_3  \\\n",
       "99    tableau training document  navigating data so...   \n",
       "100   alteryx tutorial  get started with designer  ...   \n",
       "101   alteryx tutorial   user settings  version    ...   \n",
       "102   alteryx tutorial  sample workflows in designe...   \n",
       "103   alteryx tutorial  functions  version    last ...   \n",
       "\n",
       "                                         text_Parsed_4  \\\n",
       "99    tableau training document  navigating data so...   \n",
       "100   alteryx tutorial  get started with designer  ...   \n",
       "101   alteryx tutorial   user settings  version    ...   \n",
       "102   alteryx tutorial  sample workflows in designe...   \n",
       "103   alteryx tutorial  functions  version    last ...   \n",
       "\n",
       "                                         text_Parsed_5  \\\n",
       "99    tableau train document  navigate data source ...   \n",
       "100   alteryx tutorial  get start with designer  ve...   \n",
       "101   alteryx tutorial   user settings  version    ...   \n",
       "102   alteryx tutorial  sample workflows in designe...   \n",
       "103   alteryx tutorial  function  version    last m...   \n",
       "\n",
       "                                         text_Parsed_6  \n",
       "99    tableau train document  navigate data source ...  \n",
       "100   alteryx tutorial  get start  designer  versio...  \n",
       "101   alteryx tutorial   user settings  version    ...  \n",
       "102   alteryx tutorial  sample workflows  designer ...  \n",
       "103   alteryx tutorial  function  version    last m...  "
      ]
     },
     "execution_count": 135,
     "metadata": {},
     "output_type": "execute_result"
    }
   ],
   "source": [
    "file.tail(5)"
   ]
  },
  {
   "cell_type": "code",
   "execution_count": 136,
   "metadata": {},
   "outputs": [
    {
     "data": {
      "text/plain": [
       "'   tutorial   data warehouse  construct  integrate data  multiple heterogeneous source  support analytical report structure andor ad hoc query  decision make  tutorial adopt  stepbystep approach  explain   necessary concepts  data warehouse   audience   tutorial  help computer science graduate  understand  basictoadvanced concepts relate  data warehouse   prerequisites   proceed   tutorial     understand  basic database concepts   schema er model structure query language etc   copyright  disclaimer   copyright   tutorials point  pvt ltd     content  graphics publish   ebook   property  tutorials point  pvt ltd  user   ebook  prohibit  reuse retain copy distribute  republish  content   part  content   ebook   manner without write consent   publisher    strive  update  content   website  tutorials  timely   precisely  possible however  content may contain inaccuracies  errors tutorials point  pvt ltd provide  guarantee regard  accuracy timeliness  completeness   website   content include  tutorial   discover  errors   website    tutorial please notify us  contact@tutorialspointcom ii  table  content    tutorial     audience     prerequisites     copyright  disclaimer     table  content  ii    overview     understand  data warehouse       data warehouse  separate  operational databases     data warehouse feature     data warehouse applications     type  data warehouse    term data warehouse  first coin  bill inmon   accord  inmon  data warehouse   subjectoriented integrate timevariant  nonvolatile collection  data  data help analysts  take inform decisions   organization    operational database undergo frequent change   daily basis  account   transactions  take place suppose  business executive want  analyze previous feedback   data    product  supplier   consumer data   executive    data available  analyze   previous data   update due  transactions    data warehouse provide us generalize  consolidate data  multidimensional view along  generalize  consolidate view  data  data warehouse also provide us online analytical process olap tool  tool help us  interactive  effective analysis  data   multidimensional space  analysis result  data generalization  data mine   data mine function   association cluster classification prediction   integrate  olap operations  enhance  interactive mine  knowledge  multiple level  abstraction thats  data warehouse   become  important platform  data analysis  online analytical process   understand  data warehouse    data warehouse   database   keep separate   organizations operational database       frequent update    data warehouse     possess consolidate historical data  help  organization  analyze  business     data warehouse help executives  organize understand  use  data  take strategic decisions    data warehouse systems help   integration  diversity  application systems     data warehouse system help  consolidate historical data analysis     overview dwh       data warehouse  separate  operational databases   data warehouse  keep separate  operational databases due   follow reason     operational database  construct  wellknown task  workloads   search particular record index etc  contrast data warehouse query  often complex   present  general form  data    operational databases support concurrent process  multiple transactions concurrency control  recovery mechanisms  require  operational databases  ensure robustness  consistency   database     operational database query allow  read  modify operations   olap query need  read  access  store data     operational database maintain current data    hand  data warehouse maintain historical data  data warehouse feature   key feature   data warehouse  discuss     subject orient   data warehouse  subject orient   provide information around  subject rather   organizations ongoing operations  subject   product customers suppliers sales revenue etc  data warehouse   focus   ongoing operations rather  focus  model  analysis  data  decision make    integrate   data warehouse  construct  integrate data  heterogeneous source   relational databases flat file etc  integration enhance  effective analysis  data    time variant   data collect   data warehouse  identify   particular time period  data   data warehouse provide information   historical point  view    nonvolatile  nonvolatile mean  previous data   erase  new data  add    data warehouse  keep separate   operational database  therefore frequent change  operational database   reflect   data warehouse  note  data warehouse   require transaction process recovery  concurrency control    physically store  separate   operational database dwh     data warehouse applications   discuss   data warehouse help business executives  organize analyze  use  data  decision make  data warehouse serve   sole part   planexecuteassess closedloop feedback system   enterprise management data warehouse  widely use   follow field    financial service    bank service    consumer goods    retail sectors    control manufacture  type  data warehouse  information process analytical process  data mine   three type  data warehouse applications   discuss     information process   data warehouse allow  process  data store    data   process  mean  query basic statistical analysis report use crosstabs table chart  graph    analytical process   data warehouse support analytical process   information store    data   analyze  mean  basic olap operations include sliceanddice drill  drill   pivot    data mine  data mine support knowledge discovery  find hide pattern  associations construct analytical model perform classification  prediction  mine result   present use visualization tool   data warehouse olap   operational databaseoltp    involve historical process  information    involve daytoday process   olap systems  use  knowledge workers   executives managers  analysts   oltp systems  use  clerk dbas  database professionals'"
      ]
     },
     "execution_count": 136,
     "metadata": {},
     "output_type": "execute_result"
    }
   ],
   "source": [
    "file['text_Parsed_6'][0]"
   ]
  },
  {
   "cell_type": "code",
   "execution_count": 137,
   "metadata": {},
   "outputs": [
    {
     "data": {
      "text/plain": [
       "'  table  prospective client information    please reach  asap  email id  personal contact information give   name  mobile phone number  personal email address cristina ronalds    cristinaronalds@hotmailcom edward f thomas    edwardthomas@gmailcom nick jones    nickjones@yahoocom joshua ron    joshuaron@yahoocom maureen lambert    maureenlambert@gmailcom srinivas p    srinivasp@hotmailcom linda mieles     john jonas  '"
      ]
     },
     "execution_count": 137,
     "metadata": {},
     "output_type": "execute_result"
    }
   ],
   "source": [
    "file['text_Parsed_6'][90]"
   ]
  },
  {
   "cell_type": "code",
   "execution_count": 138,
   "metadata": {},
   "outputs": [],
   "source": [
    "#4 Count Vectorizer\n",
    "from sklearn.feature_extraction.text import CountVectorizer\n",
    "cv_vectorizer = CountVectorizer(max_df=0.90, min_df=2, max_features=1000, stop_words='english')"
   ]
  },
  {
   "cell_type": "code",
   "execution_count": 139,
   "metadata": {},
   "outputs": [],
   "source": [
    "cv = cv_vectorizer.fit_transform(file['text_Parsed_6'])"
   ]
  },
  {
   "cell_type": "code",
   "execution_count": 140,
   "metadata": {},
   "outputs": [
    {
     "data": {
      "text/plain": [
       "<104x1000 sparse matrix of type '<class 'numpy.int64'>'\n",
       "\twith 12470 stored elements in Compressed Sparse Row format>"
      ]
     },
     "execution_count": 140,
     "metadata": {},
     "output_type": "execute_result"
    }
   ],
   "source": [
    "cv"
   ]
  },
  {
   "cell_type": "code",
   "execution_count": 197,
   "metadata": {},
   "outputs": [],
   "source": [
    "#Save vectorizer.vocabulary_\n",
    "pickle.dump(cv_vectorizer.vocabulary_,open(\"feature_new.pkl\",\"wb\"))"
   ]
  },
  {
   "cell_type": "code",
   "execution_count": 143,
   "metadata": {},
   "outputs": [],
   "source": [
    "from sklearn.model_selection import train_test_split\n",
    "from sklearn import metrics"
   ]
  },
  {
   "cell_type": "code",
   "execution_count": 144,
   "metadata": {},
   "outputs": [],
   "source": [
    "#CV - Create train and test split\n",
    "xtrain_cv, xvalid_cv, ytrain_cv, yvalid_cv = train_test_split(cv, file['label'], random_state=4, test_size=0.3)"
   ]
  },
  {
   "cell_type": "code",
   "execution_count": 145,
   "metadata": {},
   "outputs": [],
   "source": [
    "#TF-IDF Vectorizer\n",
    "from sklearn.feature_extraction.text import TfidfVectorizer\n",
    "#tfidf_vectorizer = TfidfVectorizer(max_df=0.90, min_df=2, max_features=10000, stop_words='english')\n",
    "tfidf_vectorizer = TfidfVectorizer(ngram_range=(1,2), stop_words=None, lowercase=False, max_df=1., min_df=2, max_features=10000)\n",
    "#tfidf_vectorizer = TfidfVectorizer(ngram_range=(1,2), stop_words=None, lowercase=False, max_df=1., min_df=2, max_features=1000)"
   ]
  },
  {
   "cell_type": "code",
   "execution_count": 146,
   "metadata": {},
   "outputs": [],
   "source": [
    "tfidf = tfidf_vectorizer.fit_transform(file['text_Parsed_6'])"
   ]
  },
  {
   "cell_type": "code",
   "execution_count": 147,
   "metadata": {},
   "outputs": [],
   "source": [
    "#TF-IDF - Create train and test split\n",
    "xtrain_tfidf, xvalid_tfidf, ytrain_tfidf, yvalid_tfidf = train_test_split(tfidf, file['label'], random_state=7, test_size=0.15)"
   ]
  },
  {
   "cell_type": "code",
   "execution_count": 148,
   "metadata": {},
   "outputs": [],
   "source": [
    "#1.1 DECISION TREE CLASSIFIER - CV\n",
    "from sklearn.tree import DecisionTreeClassifier\n",
    "dtc = DecisionTreeClassifier()"
   ]
  },
  {
   "cell_type": "code",
   "execution_count": 149,
   "metadata": {},
   "outputs": [
    {
     "data": {
      "text/plain": [
       "DecisionTreeClassifier(class_weight=None, criterion='gini', max_depth=None,\n",
       "                       max_features=None, max_leaf_nodes=None,\n",
       "                       min_impurity_decrease=0.0, min_impurity_split=None,\n",
       "                       min_samples_leaf=1, min_samples_split=2,\n",
       "                       min_weight_fraction_leaf=0.0, presort=False,\n",
       "                       random_state=None, splitter='best')"
      ]
     },
     "execution_count": 149,
     "metadata": {},
     "output_type": "execute_result"
    }
   ],
   "source": [
    "# Train the model\n",
    "dtc.fit(xtrain_cv, ytrain_cv)"
   ]
  },
  {
   "cell_type": "code",
   "execution_count": 150,
   "metadata": {},
   "outputs": [
    {
     "data": {
      "text/plain": [
       "1.0"
      ]
     },
     "execution_count": 150,
     "metadata": {},
     "output_type": "execute_result"
    }
   ],
   "source": [
    "# Make intent prediction for train\n",
    "ypred_class = dtc.predict(xtrain_cv)\n",
    "# calculate the train accuracy\n",
    "metrics.accuracy_score (ytrain_cv, ypred_class)"
   ]
  },
  {
   "cell_type": "code",
   "execution_count": 151,
   "metadata": {},
   "outputs": [
    {
     "data": {
      "text/plain": [
       "0.78125"
      ]
     },
     "execution_count": 151,
     "metadata": {},
     "output_type": "execute_result"
    }
   ],
   "source": [
    "# Make intent prediction for test\n",
    "ypred_class1 = dtc.predict(xvalid_cv)\n",
    "# calculate the test accuracy\n",
    "metrics.accuracy_score (yvalid_cv, ypred_class1)"
   ]
  },
  {
   "cell_type": "code",
   "execution_count": 152,
   "metadata": {},
   "outputs": [
    {
     "data": {
      "text/plain": [
       "DecisionTreeClassifier(class_weight=None, criterion='gini', max_depth=None,\n",
       "                       max_features=None, max_leaf_nodes=None,\n",
       "                       min_impurity_decrease=0.0, min_impurity_split=None,\n",
       "                       min_samples_leaf=1, min_samples_split=2,\n",
       "                       min_weight_fraction_leaf=0.0, presort=False,\n",
       "                       random_state=None, splitter='best')"
      ]
     },
     "execution_count": 152,
     "metadata": {},
     "output_type": "execute_result"
    }
   ],
   "source": [
    "#MODEL 1.2 DECISION TREE CLASSIFIER - TF-IDF\n",
    "# Train the model\n",
    "dtc.fit(xtrain_tfidf, ytrain_tfidf)"
   ]
  },
  {
   "cell_type": "code",
   "execution_count": 153,
   "metadata": {},
   "outputs": [
    {
     "data": {
      "text/plain": [
       "1.0"
      ]
     },
     "execution_count": 153,
     "metadata": {},
     "output_type": "execute_result"
    }
   ],
   "source": [
    "# Make Category prediction for train\n",
    "ypred_class = dtc.predict(xtrain_tfidf)\n",
    "# calculate the train accuracy\n",
    "metrics.accuracy_score (ytrain_tfidf, ypred_class)"
   ]
  },
  {
   "cell_type": "code",
   "execution_count": 154,
   "metadata": {},
   "outputs": [
    {
     "data": {
      "text/plain": [
       "0.8125"
      ]
     },
     "execution_count": 154,
     "metadata": {},
     "output_type": "execute_result"
    }
   ],
   "source": [
    "# Make Category prediction for test\n",
    "ypred_class2 = dtc.predict(xvalid_tfidf)\n",
    "# calculate the test accuracy\n",
    "metrics.accuracy_score (yvalid_tfidf, ypred_class2)"
   ]
  },
  {
   "cell_type": "code",
   "execution_count": 155,
   "metadata": {},
   "outputs": [],
   "source": [
    "#2 KNEIGHBOURS CLASSIFIER \n",
    "from sklearn.neighbors import KNeighborsClassifier\n",
    "knn = KNeighborsClassifier()"
   ]
  },
  {
   "cell_type": "code",
   "execution_count": 156,
   "metadata": {},
   "outputs": [
    {
     "data": {
      "text/plain": [
       "KNeighborsClassifier(algorithm='auto', leaf_size=30, metric='minkowski',\n",
       "                     metric_params=None, n_jobs=None, n_neighbors=5, p=2,\n",
       "                     weights='uniform')"
      ]
     },
     "execution_count": 156,
     "metadata": {},
     "output_type": "execute_result"
    }
   ],
   "source": [
    "#MODEL 2.1 KNEIGHBOURS CLASSIFIER - CV\n",
    "#Train the model\n",
    "knn.fit(xtrain_cv, ytrain_cv)"
   ]
  },
  {
   "cell_type": "code",
   "execution_count": 157,
   "metadata": {},
   "outputs": [
    {
     "data": {
      "text/plain": [
       "0.7777777777777778"
      ]
     },
     "execution_count": 157,
     "metadata": {},
     "output_type": "execute_result"
    }
   ],
   "source": [
    "# Make prediction for train\n",
    "ypred_class = knn.predict(xtrain_cv)\n",
    "# calculate the train accuracy\n",
    "metrics.accuracy_score (ytrain_cv, ypred_class)"
   ]
  },
  {
   "cell_type": "code",
   "execution_count": 158,
   "metadata": {},
   "outputs": [
    {
     "data": {
      "text/plain": [
       "0.71875"
      ]
     },
     "execution_count": 158,
     "metadata": {},
     "output_type": "execute_result"
    }
   ],
   "source": [
    "# Make prediction for test\n",
    "ypred_class3 = knn.predict(xvalid_cv)\n",
    "# calculate the test accuracy\n",
    "metrics.accuracy_score (yvalid_cv, ypred_class3)"
   ]
  },
  {
   "cell_type": "code",
   "execution_count": 159,
   "metadata": {},
   "outputs": [
    {
     "data": {
      "text/plain": [
       "KNeighborsClassifier(algorithm='auto', leaf_size=30, metric='minkowski',\n",
       "                     metric_params=None, n_jobs=None, n_neighbors=5, p=2,\n",
       "                     weights='uniform')"
      ]
     },
     "execution_count": 159,
     "metadata": {},
     "output_type": "execute_result"
    }
   ],
   "source": [
    "#MODEL 2.2 KNEIGHBOURS CLASSIFIER - TF-IDF\n",
    "knn.fit(xtrain_tfidf, ytrain_tfidf)"
   ]
  },
  {
   "cell_type": "code",
   "execution_count": 160,
   "metadata": {},
   "outputs": [
    {
     "data": {
      "text/plain": [
       "0.9772727272727273"
      ]
     },
     "execution_count": 160,
     "metadata": {},
     "output_type": "execute_result"
    }
   ],
   "source": [
    "# Make Category prediction for train\n",
    "ypred_class = knn.predict(xtrain_tfidf)\n",
    "# calculate the train accuracy\n",
    "metrics.accuracy_score (ytrain_tfidf, ypred_class)"
   ]
  },
  {
   "cell_type": "code",
   "execution_count": 161,
   "metadata": {},
   "outputs": [
    {
     "data": {
      "text/plain": [
       "0.875"
      ]
     },
     "execution_count": 161,
     "metadata": {},
     "output_type": "execute_result"
    }
   ],
   "source": [
    "# Make Category prediction for test\n",
    "ypred_class4 = knn.predict(xvalid_tfidf)\n",
    "# calculate the test accuracy\n",
    "metrics.accuracy_score (yvalid_tfidf, ypred_class4)"
   ]
  },
  {
   "cell_type": "code",
   "execution_count": 162,
   "metadata": {},
   "outputs": [],
   "source": [
    "#3. MULTINOMIAL NAIVE BAYES\n",
    "from sklearn.naive_bayes import MultinomialNB\n",
    "# instantiate \n",
    "nb = MultinomialNB()"
   ]
  },
  {
   "cell_type": "code",
   "execution_count": 163,
   "metadata": {},
   "outputs": [],
   "source": [
    "#MODEL 3.1 MULTINOMIAL NAIVE BAYES - CV\n",
    "# train the model\n",
    "nb1 = nb.fit(xtrain_cv, ytrain_cv)"
   ]
  },
  {
   "cell_type": "code",
   "execution_count": 164,
   "metadata": {},
   "outputs": [
    {
     "data": {
      "text/plain": [
       "0.9861111111111112"
      ]
     },
     "execution_count": 164,
     "metadata": {},
     "output_type": "execute_result"
    }
   ],
   "source": [
    "# Make Category prediction for train\n",
    "ypred_class = nb1.predict(xtrain_cv)\n",
    "# calculate the train accuracy\n",
    "metrics.accuracy_score (ytrain_cv, ypred_class)"
   ]
  },
  {
   "cell_type": "code",
   "execution_count": 165,
   "metadata": {},
   "outputs": [],
   "source": [
    "# Confusion matrix\n",
    "conf_matrix = metrics.confusion_matrix(ytrain_cv, ypred_class)"
   ]
  },
  {
   "cell_type": "code",
   "execution_count": 166,
   "metadata": {},
   "outputs": [
    {
     "name": "stdout",
     "output_type": "stream",
     "text": [
      "[[20  0  1  0]\n",
      " [ 0 19  0  0]\n",
      " [ 0  0 15  0]\n",
      " [ 0  0  0 17]]\n"
     ]
    }
   ],
   "source": [
    "print(conf_matrix)"
   ]
  },
  {
   "cell_type": "code",
   "execution_count": 167,
   "metadata": {},
   "outputs": [
    {
     "data": {
      "image/png": "[encoded data removed]",
      "text/plain": [
       "<Figure size 576x432 with 1 Axes>"
      ]
     },
     "metadata": {
      "needs_background": "light"
     },
     "output_type": "display_data"
    }
   ],
   "source": [
    "#plt.figure(figsize=(10,7))\n",
    "fig, ax = plt.subplots(figsize=(8,6))\n",
    "sns.heatmap(conf_matrix, annot=True, cmap='Blues', cbar=False)\n",
    "plt.ylabel('Predicted')\n",
    "plt.xlabel('Actual')\n",
    "ax.set_ylim([0,4])\n",
    "plt.title('Confusion matrix - Naive Bayes using Count Vectorizer')\n",
    "plt.show()"
   ]
  },
  {
   "cell_type": "code",
   "execution_count": 168,
   "metadata": {},
   "outputs": [
    {
     "data": {
      "text/plain": [
       "0.875"
      ]
     },
     "execution_count": 168,
     "metadata": {},
     "output_type": "execute_result"
    }
   ],
   "source": [
    "# Make Category prediction for test\n",
    "ypred_class5 = nb1.predict(xvalid_cv)\n",
    "# calculate the test accuracy\n",
    "metrics.accuracy_score (yvalid_cv, ypred_class5)"
   ]
  },
  {
   "cell_type": "code",
   "execution_count": 169,
   "metadata": {},
   "outputs": [],
   "source": [
    "#save the model\n",
    "import pickle\n",
    "from pickle import dump\n",
    "dump(nb1, open('model.pkl', 'wb'))"
   ]
  },
  {
   "cell_type": "code",
   "execution_count": 170,
   "metadata": {},
   "outputs": [],
   "source": [
    "#save the model\n",
    "import pickle\n",
    "from pickle import dump\n",
    "dump(nb1, open('model_new.pkl', 'wb'))"
   ]
  },
  {
   "cell_type": "code",
   "execution_count": 171,
   "metadata": {},
   "outputs": [],
   "source": [
    "#Model saved here - C:\\Users\\pondh\\model.pkl"
   ]
  },
  {
   "cell_type": "code",
   "execution_count": 172,
   "metadata": {},
   "outputs": [],
   "source": [
    "# Confusion matrix\n",
    "conf_matrix = metrics.confusion_matrix(yvalid_cv, ypred_class5)"
   ]
  },
  {
   "cell_type": "code",
   "execution_count": 173,
   "metadata": {},
   "outputs": [
    {
     "name": "stdout",
     "output_type": "stream",
     "text": [
      "[[ 6  0  0  0]\n",
      " [ 0  7  2  0]\n",
      " [ 0  0  5  2]\n",
      " [ 0  0  0 10]]\n"
     ]
    }
   ],
   "source": [
    "print(conf_matrix)"
   ]
  },
  {
   "cell_type": "code",
   "execution_count": 174,
   "metadata": {
    "scrolled": false
   },
   "outputs": [
    {
     "data": {
      "image/png": "[encoded data removed]",
      "text/plain": [
       "<Figure size 576x432 with 1 Axes>"
      ]
     },
     "metadata": {
      "needs_background": "light"
     },
     "output_type": "display_data"
    }
   ],
   "source": [
    "#plt.figure(figsize=(10,7))\n",
    "fig, ax = plt.subplots(figsize=(8,6))\n",
    "sns.heatmap(conf_matrix, annot=True, cmap='Blues', cbar=False)\n",
    "plt.ylabel('Predicted')\n",
    "plt.xlabel('Actual')\n",
    "ax.set_ylim([0,4])\n",
    "plt.title('Confusion matrix - Naive Bayes using Count Vectorizer')\n",
    "plt.show()"
   ]
  },
  {
   "cell_type": "code",
   "execution_count": 175,
   "metadata": {},
   "outputs": [
    {
     "name": "stdout",
     "output_type": "stream",
     "text": [
      "Classification report\n",
      "              precision    recall  f1-score   support\n",
      "\n",
      "           0       1.00      1.00      1.00         6\n",
      "           1       1.00      0.78      0.88         9\n",
      "           2       0.71      0.71      0.71         7\n",
      "           3       0.83      1.00      0.91        10\n",
      "\n",
      "    accuracy                           0.88        32\n",
      "   macro avg       0.89      0.87      0.87        32\n",
      "weighted avg       0.89      0.88      0.87        32\n",
      "\n"
     ]
    }
   ],
   "source": [
    "# Classification report\n",
    "from sklearn.metrics import classification_report, confusion_matrix, accuracy_score\n",
    "print(\"Classification report\")\n",
    "print(classification_report(yvalid_cv,ypred_class5))"
   ]
  },
  {
   "cell_type": "code",
   "execution_count": 176,
   "metadata": {},
   "outputs": [],
   "source": [
    "#MODEL 3.2 - MULTINOMIAL NAIVE BAYES - TF-IDF\n",
    "# train the model\n",
    "nb = nb.fit(xtrain_tfidf, ytrain_tfidf)"
   ]
  },
  {
   "cell_type": "code",
   "execution_count": 177,
   "metadata": {},
   "outputs": [
    {
     "data": {
      "text/plain": [
       "0.9886363636363636"
      ]
     },
     "execution_count": 177,
     "metadata": {},
     "output_type": "execute_result"
    }
   ],
   "source": [
    "# Make intent prediction for train\n",
    "ypred_class = nb.predict(xtrain_tfidf)\n",
    "# calculate the train accuracy\n",
    "metrics.accuracy_score (ytrain_tfidf, ypred_class)"
   ]
  },
  {
   "cell_type": "code",
   "execution_count": 178,
   "metadata": {},
   "outputs": [
    {
     "data": {
      "text/plain": [
       "0.8125"
      ]
     },
     "execution_count": 178,
     "metadata": {},
     "output_type": "execute_result"
    }
   ],
   "source": [
    "# Make class predictions for xtest_dtm\n",
    "ypred_class6 = nb.predict(xvalid_tfidf)\n",
    "# calculate the test accuracy\n",
    "metrics.accuracy_score (yvalid_tfidf, ypred_class6)"
   ]
  },
  {
   "cell_type": "code",
   "execution_count": 179,
   "metadata": {},
   "outputs": [
    {
     "data": {
      "text/plain": [
       "array([[4, 0, 0, 0],\n",
       "       [0, 2, 0, 0],\n",
       "       [0, 0, 3, 3],\n",
       "       [0, 0, 0, 4]], dtype=int64)"
      ]
     },
     "execution_count": 179,
     "metadata": {},
     "output_type": "execute_result"
    }
   ],
   "source": [
    "# Confusion matrix\n",
    "metrics.confusion_matrix(yvalid_tfidf, ypred_class6)"
   ]
  },
  {
   "cell_type": "code",
   "execution_count": 180,
   "metadata": {},
   "outputs": [
    {
     "name": "stdout",
     "output_type": "stream",
     "text": [
      "Classification report\n",
      "              precision    recall  f1-score   support\n",
      "\n",
      "           0       1.00      1.00      1.00         4\n",
      "           1       1.00      1.00      1.00         2\n",
      "           2       1.00      0.50      0.67         6\n",
      "           3       0.57      1.00      0.73         4\n",
      "\n",
      "    accuracy                           0.81        16\n",
      "   macro avg       0.89      0.88      0.85        16\n",
      "weighted avg       0.89      0.81      0.81        16\n",
      "\n"
     ]
    }
   ],
   "source": [
    "# Classification report\n",
    "from sklearn.metrics import classification_report, confusion_matrix, accuracy_score\n",
    "print(\"Classification report\")\n",
    "print(classification_report(yvalid_tfidf,ypred_class6))"
   ]
  },
  {
   "cell_type": "code",
   "execution_count": 181,
   "metadata": {},
   "outputs": [],
   "source": [
    "#Model 4 - RANDOM FOREST CLASSIFIER\n",
    "from sklearn.ensemble import RandomForestClassifier\n",
    "randomforest = RandomForestClassifier(random_state=0, n_jobs=-1)"
   ]
  },
  {
   "cell_type": "code",
   "execution_count": 182,
   "metadata": {},
   "outputs": [
    {
     "name": "stderr",
     "output_type": "stream",
     "text": [
      "C:\\ProgramData\\Anaconda3\\lib\\site-packages\\sklearn\\ensemble\\forest.py:245: FutureWarning: The default value of n_estimators will change from 10 in version 0.20 to 100 in 0.22.\n",
      "  \"10 in version 0.20 to 100 in 0.22.\", FutureWarning)\n"
     ]
    }
   ],
   "source": [
    "#MODEL 4.1 RANDOM FOREST CLASSIFIER - CV\n",
    "# train the model\n",
    "rf = randomforest.fit(xtrain_cv, ytrain_cv)"
   ]
  },
  {
   "cell_type": "code",
   "execution_count": 183,
   "metadata": {},
   "outputs": [
    {
     "data": {
      "text/plain": [
       "1.0"
      ]
     },
     "execution_count": 183,
     "metadata": {},
     "output_type": "execute_result"
    }
   ],
   "source": [
    "# Make intent prediction for train\n",
    "ypred_class = rf.predict(xtrain_cv)\n",
    "# calculate the train accuracy\n",
    "metrics.accuracy_score (ytrain_cv, ypred_class)"
   ]
  },
  {
   "cell_type": "code",
   "execution_count": 184,
   "metadata": {},
   "outputs": [
    {
     "data": {
      "text/plain": [
       "array([[21,  0,  0,  0],\n",
       "       [ 0, 19,  0,  0],\n",
       "       [ 0,  0, 15,  0],\n",
       "       [ 0,  0,  0, 17]], dtype=int64)"
      ]
     },
     "execution_count": 184,
     "metadata": {},
     "output_type": "execute_result"
    }
   ],
   "source": [
    "# Confusion matrix\n",
    "metrics.confusion_matrix(ytrain_cv, ypred_class)"
   ]
  },
  {
   "cell_type": "code",
   "execution_count": 185,
   "metadata": {},
   "outputs": [
    {
     "data": {
      "image/png": "[encoded data removed]",
      "text/plain": [
       "<Figure size 576x432 with 1 Axes>"
      ]
     },
     "metadata": {
      "needs_background": "light"
     },
     "output_type": "display_data"
    }
   ],
   "source": [
    "#plt.figure(figsize=(10,7))\n",
    "fig, ax = plt.subplots(figsize=(8,6))\n",
    "sns.heatmap(conf_matrix, annot=True, cmap='Blues', cbar=False)\n",
    "plt.ylabel('Predicted')\n",
    "plt.xlabel('Actual')\n",
    "ax.set_ylim([0,4])\n",
    "plt.title('Confusion matrix - Random Forest using CV')\n",
    "plt.show()"
   ]
  },
  {
   "cell_type": "code",
   "execution_count": 186,
   "metadata": {},
   "outputs": [
    {
     "data": {
      "text/plain": [
       "0.84375"
      ]
     },
     "execution_count": 186,
     "metadata": {},
     "output_type": "execute_result"
    }
   ],
   "source": [
    "# Make intent prediction for test\n",
    "ypred_class7 = rf.predict(xvalid_cv)\n",
    "# calculate the test accuracy\n",
    "metrics.accuracy_score (yvalid_cv, ypred_class7)"
   ]
  },
  {
   "cell_type": "code",
   "execution_count": 187,
   "metadata": {},
   "outputs": [
    {
     "data": {
      "text/plain": [
       "array([[5, 0, 1, 0],\n",
       "       [2, 7, 0, 0],\n",
       "       [0, 0, 6, 1],\n",
       "       [0, 0, 1, 9]], dtype=int64)"
      ]
     },
     "execution_count": 187,
     "metadata": {},
     "output_type": "execute_result"
    }
   ],
   "source": [
    "# Confusion matrix\n",
    "metrics.confusion_matrix(yvalid_cv, ypred_class7)"
   ]
  },
  {
   "cell_type": "code",
   "execution_count": 188,
   "metadata": {},
   "outputs": [],
   "source": [
    "# Confusion matrix\n",
    "conf_matrix = metrics.confusion_matrix(yvalid_cv, ypred_class7)"
   ]
  },
  {
   "cell_type": "code",
   "execution_count": 189,
   "metadata": {},
   "outputs": [
    {
     "data": {
      "image/png": "[encoded data removed]",
      "text/plain": [
       "<Figure size 576x432 with 1 Axes>"
      ]
     },
     "metadata": {
      "needs_background": "light"
     },
     "output_type": "display_data"
    }
   ],
   "source": [
    "#plt.figure(figsize=(10,7))\n",
    "fig, ax = plt.subplots(figsize=(8,6))\n",
    "sns.heatmap(conf_matrix, annot=True, cmap='Blues', cbar=False)\n",
    "plt.ylabel('Predicted')\n",
    "plt.xlabel('Actual')\n",
    "ax.set_ylim([0,4])\n",
    "plt.title('Confusion matrix - Random Forest using CV')\n",
    "plt.show()"
   ]
  },
  {
   "cell_type": "code",
   "execution_count": 190,
   "metadata": {},
   "outputs": [
    {
     "name": "stdout",
     "output_type": "stream",
     "text": [
      "Classification report\n",
      "              precision    recall  f1-score   support\n",
      "\n",
      "           0       0.71      0.83      0.77         6\n",
      "           1       1.00      0.78      0.88         9\n",
      "           2       0.75      0.86      0.80         7\n",
      "           3       0.90      0.90      0.90        10\n",
      "\n",
      "    accuracy                           0.84        32\n",
      "   macro avg       0.84      0.84      0.84        32\n",
      "weighted avg       0.86      0.84      0.85        32\n",
      "\n"
     ]
    }
   ],
   "source": [
    "# Classification report\n",
    "from sklearn.metrics import classification_report, confusion_matrix, accuracy_score\n",
    "print(\"Classification report\")\n",
    "print(classification_report(yvalid_cv,ypred_class7))"
   ]
  },
  {
   "cell_type": "code",
   "execution_count": 191,
   "metadata": {},
   "outputs": [],
   "source": [
    "#MODEL 4.2 RANDOM FOREST CLASSIFIER - TF-IDF\n",
    "# train the model\n",
    "rf = randomforest.fit(xtrain_tfidf, ytrain_tfidf)"
   ]
  },
  {
   "cell_type": "code",
   "execution_count": 192,
   "metadata": {},
   "outputs": [
    {
     "data": {
      "text/plain": [
       "1.0"
      ]
     },
     "execution_count": 192,
     "metadata": {},
     "output_type": "execute_result"
    }
   ],
   "source": [
    "# Make intent prediction for train\n",
    "ypred_class = rf.predict(xtrain_tfidf)\n",
    "# calculate the train accuracy\n",
    "metrics.accuracy_score (ytrain_tfidf, ypred_class)"
   ]
  },
  {
   "cell_type": "code",
   "execution_count": 193,
   "metadata": {},
   "outputs": [
    {
     "data": {
      "text/plain": [
       "0.875"
      ]
     },
     "execution_count": 193,
     "metadata": {},
     "output_type": "execute_result"
    }
   ],
   "source": [
    "# Make class predictions for test\n",
    "ypred_class8 = rf.predict(xvalid_tfidf)\n",
    "# calculate the test accuracy\n",
    "metrics.accuracy_score (yvalid_tfidf, ypred_class8)"
   ]
  },
  {
   "cell_type": "code",
   "execution_count": 194,
   "metadata": {},
   "outputs": [
    {
     "data": {
      "text/plain": [
       "array([[4, 0, 0, 0],\n",
       "       [0, 2, 0, 0],\n",
       "       [0, 0, 4, 2],\n",
       "       [0, 0, 0, 4]], dtype=int64)"
      ]
     },
     "execution_count": 194,
     "metadata": {},
     "output_type": "execute_result"
    }
   ],
   "source": [
    "# Confusion matrix\n",
    "metrics.confusion_matrix(yvalid_tfidf, ypred_class8)"
   ]
  },
  {
   "cell_type": "code",
   "execution_count": 195,
   "metadata": {},
   "outputs": [
    {
     "name": "stdout",
     "output_type": "stream",
     "text": [
      "Classification report\n",
      "              precision    recall  f1-score   support\n",
      "\n",
      "           0       1.00      1.00      1.00         4\n",
      "           1       1.00      1.00      1.00         2\n",
      "           2       1.00      0.67      0.80         6\n",
      "           3       0.67      1.00      0.80         4\n",
      "\n",
      "    accuracy                           0.88        16\n",
      "   macro avg       0.92      0.92      0.90        16\n",
      "weighted avg       0.92      0.88      0.88        16\n",
      "\n"
     ]
    }
   ],
   "source": [
    "# Classification report\n",
    "from sklearn.metrics import classification_report, confusion_matrix, accuracy_score\n",
    "print(\"Classification report\")\n",
    "print(classification_report(yvalid_tfidf,ypred_class8))"
   ]
  },
  {
   "cell_type": "code",
   "execution_count": 196,
   "metadata": {},
   "outputs": [],
   "source": [
    "#END"
   ]
  }
 ],
 "metadata": {
  "kernelspec": {
   "display_name": "Python 3",
   "language": "python",
   "name": "python3"
  },
  "language_info": {
   "codemirror_mode": {
    "name": "ipython",
    "version": 3
   },
   "file_extension": ".py",
   "mimetype": "text/x-python",
   "name": "python",
   "nbconvert_exporter": "python",
   "pygments_lexer": "ipython3",
   "version": "3.7.4"
  }
 },
 "nbformat": 4,
 "nbformat_minor": 2
}
